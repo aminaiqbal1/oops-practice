{
  "nbformat": 4,
  "nbformat_minor": 0,
  "metadata": {
    "colab": {
      "provenance": []
    },
    "kernelspec": {
      "name": "python3",
      "display_name": "Python 3"
    },
    "language_info": {
      "name": "python"
    }
  },
  "cells": [
    {
      "cell_type": "markdown",
      "source": [
        "Write a program to check if a given number is even or odd."
      ],
      "metadata": {
        "id": "MikdhOHtPTbd"
      }
    },
    {
      "cell_type": "code",
      "execution_count": null,
      "metadata": {
        "colab": {
          "base_uri": "https://localhost:8080/"
        },
        "id": "OD44JeIBOOl7",
        "outputId": "9e66e4ea-dd68-44e3-998e-f7d7b7ee56f9"
      },
      "outputs": [
        {
          "output_type": "stream",
          "name": "stdout",
          "text": [
            "enter a number to chak even or odd5\n",
            "this number 5 is odd\n"
          ]
        }
      ],
      "source": [
        "user_input = int(input(\"enter a number to chak even or odd\"))\n",
        "if user_input % 2 ==0:\n",
        "    print(f\" {user_input} this number is even \")\n",
        "else:\n",
        "    print(f\"this number {user_input} is odd\")"
      ]
    },
    {
      "cell_type": "markdown",
      "source": [
        "Print numbers from 1 to 50. For multiples of 3, print \"Fizz\" instead of the number. For multiples of 5, print \"Buzz\". For numbers that are multiples of both 3 and 5, print \"FizzBuzz\"."
      ],
      "metadata": {
        "id": "JNepvKx6Sh6f"
      }
    },
    {
      "cell_type": "code",
      "source": [
        "for num in range(1, 51):\n",
        "    if num % 3 == 0 and num % 5 == 0:\n",
        "        print(\"FizzBuzz\")\n",
        "    elif num % 3 == 0:\n",
        "        print(\"Fizz\")\n",
        "    elif num % 5 == 0:\n",
        "        print(\"Buzz\")\n",
        "    else:\n",
        "        print(num)  # To show the number when it's not divisible by 3 or 5\n"
      ],
      "metadata": {
        "colab": {
          "base_uri": "https://localhost:8080/"
        },
        "id": "OWavWs_hYA0H",
        "outputId": "801cc493-f3dd-4b0b-99e0-f04b618b0877"
      },
      "execution_count": null,
      "outputs": [
        {
          "output_type": "stream",
          "name": "stdout",
          "text": [
            "1\n",
            "2\n",
            "Fizz\n",
            "4\n",
            "Buzz\n",
            "Fizz\n",
            "7\n",
            "8\n",
            "Fizz\n",
            "Buzz\n",
            "11\n",
            "Fizz\n",
            "13\n",
            "14\n",
            "FizzBuzz\n",
            "16\n",
            "17\n",
            "Fizz\n",
            "19\n",
            "Buzz\n",
            "Fizz\n",
            "22\n",
            "23\n",
            "Fizz\n",
            "Buzz\n",
            "26\n",
            "Fizz\n",
            "28\n",
            "29\n",
            "FizzBuzz\n",
            "31\n",
            "32\n",
            "Fizz\n",
            "34\n",
            "Buzz\n",
            "Fizz\n",
            "37\n",
            "38\n",
            "Fizz\n",
            "Buzz\n",
            "41\n",
            "Fizz\n",
            "43\n",
            "44\n",
            "FizzBuzz\n",
            "46\n",
            "47\n",
            "Fizz\n",
            "49\n",
            "Buzz\n"
          ]
        }
      ]
    },
    {
      "cell_type": "code",
      "source": [
        "for num in range(1, 51):\n",
        "    if num % 3 ==0:\n",
        "        print(\"Fizz\" )\n",
        "    elif num % 5 ==0:\n",
        "        print(\"Buzz \")\n",
        "    elif num % (3 and 5 )==0:\n",
        "        print(\"FizzBuzz \")\n",
        "    else:\n",
        "        print(num)\n"
      ],
      "metadata": {
        "colab": {
          "base_uri": "https://localhost:8080/"
        },
        "id": "ehQvMrsrSief",
        "outputId": "a2fdadcb-9c83-4bb8-fcd5-7816e744521e"
      },
      "execution_count": null,
      "outputs": [
        {
          "output_type": "stream",
          "name": "stdout",
          "text": [
            "1\n",
            "2\n",
            "Fizz\n",
            "4\n",
            "Buzz \n",
            "Fizz\n",
            "7\n",
            "8\n",
            "Fizz\n",
            "Buzz \n",
            "11\n",
            "Fizz\n",
            "13\n",
            "14\n",
            "Fizz\n",
            "16\n",
            "17\n",
            "Fizz\n",
            "19\n",
            "Buzz \n",
            "Fizz\n",
            "22\n",
            "23\n",
            "Fizz\n",
            "Buzz \n",
            "26\n",
            "Fizz\n",
            "28\n",
            "29\n",
            "Fizz\n",
            "31\n",
            "32\n",
            "Fizz\n",
            "34\n",
            "Buzz \n",
            "Fizz\n",
            "37\n",
            "38\n",
            "Fizz\n",
            "Buzz \n",
            "41\n",
            "Fizz\n",
            "43\n",
            "44\n",
            "Fizz\n",
            "46\n",
            "47\n",
            "Fizz\n",
            "49\n",
            "Buzz \n"
          ]
        }
      ]
    },
    {
      "cell_type": "markdown",
      "source": [
        "Write a program to reverse a string without using the built-in reverse() method."
      ],
      "metadata": {
        "id": "WjN97DWkir_D"
      }
    },
    {
      "cell_type": "code",
      "source": [
        "user = str(input(\"enter a string \"))\n",
        "print(user[::-1])"
      ],
      "metadata": {
        "colab": {
          "base_uri": "https://localhost:8080/"
        },
        "id": "DzCGoJ5ZivnT",
        "outputId": "47dfd908-f588-40b2-b1d1-19004709dec6"
      },
      "execution_count": null,
      "outputs": [
        {
          "output_type": "stream",
          "name": "stdout",
          "text": [
            "enter a string amina\n",
            "anima\n"
          ]
        }
      ]
    },
    {
      "cell_type": "markdown",
      "source": [
        "Write a program to demonstrate multilevel inheritance with classes Person, Employee, and Manager. (Concept: Multilevel Inheritance)"
      ],
      "metadata": {
        "id": "Ffhr8j9BAYIy"
      }
    },
    {
      "cell_type": "code",
      "source": [
        "# Base class\n",
        "class Person:\n",
        "    def __init__(self, name, age):\n",
        "        self.name = name\n",
        "        self.age = age\n",
        "\n",
        "    def display_person_info(self):\n",
        "        print(f\"Name: {self.name}, Age: {self.age}\")\n",
        "\n",
        "# Intermediate class\n",
        "class Employee(Person):\n",
        "    def __init__(self, name, age, employee_id):\n",
        "        super().__init__(name, age)\n",
        "        self.employee_id = employee_id\n",
        "\n",
        "    def display_employee_info(self):\n",
        "        self.display_person_info()\n",
        "        print(f\"Employee ID: {self.employee_id}\")\n",
        "\n",
        "# Derived class\n",
        "class Manager(Employee):\n",
        "    def __init__(self, name, age, employee_id, department):\n",
        "        super().__init__(name, age, employee_id)\n",
        "        self.department = department\n",
        "\n",
        "    def display_manager_info(self):\n",
        "        self.display_employee_info()\n",
        "        print(f\"Department: {self.department}\")\n",
        "\n",
        "# Object creation and method call\n",
        "ob = Manager('Amina', 26, 4567, \"ML department\")\n",
        "ob.display_manager_info()\n"
      ],
      "metadata": {
        "colab": {
          "base_uri": "https://localhost:8080/"
        },
        "id": "P59NVvu2Bkez",
        "outputId": "8a8d3115-b289-4304-917b-a05d29c6b36d"
      },
      "execution_count": null,
      "outputs": [
        {
          "output_type": "stream",
          "name": "stdout",
          "text": [
            "Name: Amina, Age: 26\n",
            "Employee ID: 4567\n",
            "Department: ML department\n"
          ]
        }
      ]
    },
    {
      "cell_type": "code",
      "source": [
        "class Person:\n",
        "    def __init__(self, name, age):\n",
        "        self.name = name\n",
        "        self. age = age\n",
        "    def display_Person_info(self):\n",
        "        print(f\" my name is {self.name} and my age is {self.age}\")\n",
        "class Employee (Person):\n",
        "    def __init__(self, name , age , employee_id):\n",
        "        super().__init__(name, age )\n",
        "        self.employee_id = employee_id\n",
        "    def display_employee_info(self):\n",
        "        self.display_Person_info()\n",
        "        print(f\"Employee ID: {self.employee_id}\")\n",
        "class Manager (Employee):\n",
        "    def __init__(self, name, age, employee_id, department  ):\n",
        "        super().__init__(name, age, employee_id )\n",
        "        self.department =  department\n",
        "    def display_manager_info(self):\n",
        "        self.display_employee_info()\n",
        "        print(f\" department {self. department } \")\n",
        "ob = Manager ('amina', 26, 4567, \"ML department\")\n",
        "ob.display_manager_info()"
      ],
      "metadata": {
        "colab": {
          "base_uri": "https://localhost:8080/"
        },
        "id": "TZUQI7zgGDZd",
        "outputId": "690962de-767e-4121-a507-72f9e8059286"
      },
      "execution_count": null,
      "outputs": [
        {
          "output_type": "stream",
          "name": "stdout",
          "text": [
            " my name is amina and my age is 26\n",
            "Employee ID: 4567\n",
            " department ML department \n"
          ]
        }
      ]
    },
    {
      "cell_type": "code",
      "source": [],
      "metadata": {
        "id": "QOnqpeZEHjB3"
      },
      "execution_count": null,
      "outputs": []
    }
  ]
}