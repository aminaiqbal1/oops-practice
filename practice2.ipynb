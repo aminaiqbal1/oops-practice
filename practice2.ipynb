{
  "nbformat": 4,
  "nbformat_minor": 0,
  "metadata": {
    "colab": {
      "provenance": []
    },
    "kernelspec": {
      "name": "python3",
      "display_name": "Python 3"
    },
    "language_info": {
      "name": "python"
    }
  },
  "cells": [
    {
      "cell_type": "markdown",
      "source": [
        "2️⃣ String Method Problem 🔹 Problem: Ek function likhain jo kisi string ke har word ka pehla aur akhri letter capitalize kare. 🔹 Example:\n",
        "\n",
        "python Copy Edit Input: \"machine learning is fun\" Output: \"MachinE LearninG IS FuN\""
      ],
      "metadata": {
        "id": "g5O9O7Ia_6Cy"
      }
    },
    {
      "cell_type": "code",
      "source": [
        "def capitalize_word(user_input):\n",
        "    words = []\n",
        "    for char in user_input:\n",
        "        if char [0]:\n",
        "            char.upper()\n",
        "        elif char [::-1]\n",
        "        words.append(char)\n",
        "        user_input[1:-1].upper()\n",
        "    return words\n",
        "\n",
        "\n",
        "\n",
        "user_input = \"amina iqbal\"\n",
        "print(capitalize_word(user_input))"
      ],
      "metadata": {
        "colab": {
          "base_uri": "https://localhost:8080/"
        },
        "id": "CVYc_Vni_7L6",
        "outputId": "c00b226a-5407-4d4d-fc25-efc7c73f5879"
      },
      "execution_count": null,
      "outputs": [
        {
          "output_type": "stream",
          "name": "stdout",
          "text": [
            "['a', 'm', 'i', 'n', 'a', ' ', 'i', 'q', 'b', 'a', 'l']\n"
          ]
        }
      ]
    },
    {
      "cell_type": "code",
      "source": [
        "def reverse_vowels(user_input):\n",
        "    vowels = \"aeiouAEIOU\"\n",
        "    all = []\n",
        "    vowel_word = [char for char in user_input if char in vowels]\n",
        "    vowel_word.reverse()\n",
        "    for char in user_input:\n",
        "        if char in vowels:\n",
        "            all.append(vowel_word.pop(0))\n",
        "        else:\n",
        "            all.append(char)\n",
        "    return \"\".join(all)\n",
        "user_input = \"eamina\"\n",
        "print(reverse_vowels(user_input))"
      ],
      "metadata": {
        "colab": {
          "base_uri": "https://localhost:8080/"
        },
        "id": "fip8u_6g6C58",
        "outputId": "b4b2cf7b-7f58-488d-85d5-714b6c15f062"
      },
      "execution_count": null,
      "outputs": [
        {
          "output_type": "stream",
          "name": "stdout",
          "text": [
            "aimane\n"
          ]
        }
      ]
    },
    {
      "cell_type": "code",
      "source": [
        "def reverse_vowels(user_input):\n",
        "    vowels = \"aeiouAEIOU\"\n",
        "    vowels_in_input = [char for char in user_input if char in vowels]\n",
        "    vowels_in_input.reverse()\n",
        "    result = []\n",
        "    for char in user_input:\n",
        "        if char in vowels:\n",
        "            result.append(vowels_in_input.pop(0))  # Replace vowel with reversed vowel\n",
        "        else:\n",
        "            result.append(char)  # Keep the consonant as it is\n",
        "\n",
        "    return ''.join(result)\n",
        "user_input = \"eamina\"\n",
        "print(reverse_vowels(user_input))\n"
      ],
      "metadata": {
        "colab": {
          "base_uri": "https://localhost:8080/"
        },
        "id": "bkzRsazFuB3b",
        "outputId": "01c8fd3e-a559-49ab-9cf9-55e798c5f3f2"
      },
      "execution_count": null,
      "outputs": [
        {
          "output_type": "stream",
          "name": "stdout",
          "text": [
            "aimane\n"
          ]
        }
      ]
    },
    {
      "cell_type": "code",
      "source": [
        "def string_reverse(name):\n",
        "    vowels = \"aioueAIOUE\"\n",
        "    names = list(name)\n",
        "    non_vowel = [char for char in names if char not in vowels]\n",
        "    non_vowel.reverse()\n",
        "    result = []\n",
        "    non_vowels_index = 0\n",
        "    for char in  names:\n",
        "        if char in vowels:\n",
        "            result.append(char)\n",
        "        else:\n",
        "            result.append(non_vowel[non_vowels_index])\n",
        "            non_vowels_index += 1\n",
        "    return \"\".join(result)\n",
        "name = \"amina iqbal\"\n",
        "print(string_reverse(name))"
      ],
      "metadata": {
        "colab": {
          "base_uri": "https://localhost:8080/"
        },
        "id": "Z8BDyxyeBB11",
        "outputId": "548d1d70-f9c5-4230-e170-0233bdbc5e03"
      },
      "execution_count": null,
      "outputs": [
        {
          "output_type": "stream",
          "name": "stdout",
          "text": [
            "alibaqi nam\n"
          ]
        }
      ]
    },
    {
      "cell_type": "code",
      "source": [
        "# Simple list comprehension\n",
        "numbers = [1, 2, 3, 4, 5]\n",
        "squares = [num ** 2 for num in numbers]\n",
        "# squares = [num ** 2 for num in numbers if num > 2]\n",
        "print(squares)\n"
      ],
      "metadata": {
        "colab": {
          "base_uri": "https://localhost:8080/"
        },
        "id": "GYVtTwCwMbM3",
        "outputId": "54b91a54-6273-41bd-b123-a9b7f69d7d6d"
      },
      "execution_count": null,
      "outputs": [
        {
          "output_type": "stream",
          "name": "stdout",
          "text": [
            "[1, 4, 9, 16, 25]\n"
          ]
        }
      ]
    },
    {
      "cell_type": "code",
      "source": [
        "def nonvowel_string_reversed(user_input):\n",
        "    vowels = \"aioueAIOUE\"\n",
        "    nonvowel_string= [char for char in user_input if char not in vowels]\n",
        "    nonvowel_string.reverse()\n",
        "    results = []\n",
        "    nonvowel_string_index = 0\n",
        "    for char in user_input:\n",
        "        if char in vowels:\n",
        "            results.append(char)\n",
        "        else:\n",
        "            results.append(nonvowel_string[nonvowel_string_index])\n",
        "            nonvowel_string_index+=1\n",
        "    return \"\".join(results)\n",
        "user_input =\" amina\"\n",
        "print(nonvowel_string_reversed(user_input))"
      ],
      "metadata": {
        "colab": {
          "base_uri": "https://localhost:8080/"
        },
        "id": "b-_IlYznHEQS",
        "outputId": "93dc3490-0781-48bf-f520-3b27974a0031"
      },
      "execution_count": null,
      "outputs": [
        {
          "output_type": "stream",
          "name": "stdout",
          "text": [
            "nami a\n"
          ]
        }
      ]
    },
    {
      "cell_type": "markdown",
      "source": [
        "2️⃣ String Method Problem 🔹 Problem: Ek function likhain jo kisi string ke har word ka pehla aur akhri letter capitalize kare. 🔹 Example:\n",
        "\n",
        "python Copy Edit Input: \"machine learning is fun\" Output: \"MachinE LearninG IS FuN\""
      ],
      "metadata": {
        "id": "gIONXyVmKCt8"
      }
    },
    {
      "cell_type": "code",
      "source": [
        "def capitalize_char(user_input):\n",
        "    words = user_input.split()\n",
        "    captil_word = []\n",
        "    for word in words:\n",
        "        if word in words:\n",
        "            captil_word.append(word[0].upper() + word[1 :-1] + word[-1].upper())\n",
        "\n",
        "    return captil_word\n",
        "\n",
        "user_input = \"amina iqbal\"\n",
        "capitalize_char(user_input)"
      ],
      "metadata": {
        "colab": {
          "base_uri": "https://localhost:8080/"
        },
        "id": "-HFbGQg7CQF4",
        "outputId": "ce405275-6251-40dc-de62-cb058aad9762"
      },
      "execution_count": null,
      "outputs": [
        {
          "output_type": "execute_result",
          "data": {
            "text/plain": [
              "['AminA', 'IqbaL']"
            ]
          },
          "metadata": {},
          "execution_count": 30
        }
      ]
    },
    {
      "cell_type": "code",
      "source": [
        "def captial(user_input):\n",
        "    words = user_input.split()\n",
        "    capital_word = []\n",
        "    for word in words:\n",
        "        if word in words:\n",
        "            capital_word.append(word[0].upper() + word[1::] )\n",
        "    return capital_word\n",
        "\n",
        "user_input = \"amina iqbal\"\n",
        "captial(user_input)"
      ],
      "metadata": {
        "colab": {
          "base_uri": "https://localhost:8080/"
        },
        "id": "68FOCsnJI2rz",
        "outputId": "b9072050-e45b-46fa-eb9a-dd81d824b026"
      },
      "execution_count": null,
      "outputs": [
        {
          "output_type": "execute_result",
          "data": {
            "text/plain": [
              "['Amina', 'Iqbal']"
            ]
          },
          "metadata": {},
          "execution_count": 36
        }
      ]
    },
    {
      "cell_type": "code",
      "source": [
        "def letter_capitalize(user_input):\n",
        "    words = user_input.split()  # Split the string into words\n",
        "    capitalized_words = []\n",
        "    for word in words:\n",
        "        if word in words:\n",
        "            capitalized_words.append(word[0].upper() + word[1:-1] + word[-1].upper())\n",
        "    return \" \".join(capitalized_words)  # Join words back into a sentence\n",
        "user_input = \"amina iqbal\"\n",
        "print(letter_capitalize(user_input))\n"
      ],
      "metadata": {
        "colab": {
          "base_uri": "https://localhost:8080/"
        },
        "id": "nSw9GdG8LtIT",
        "outputId": "3beb872e-216e-4bed-eafb-a706730840ff"
      },
      "execution_count": null,
      "outputs": [
        {
          "output_type": "stream",
          "name": "stdout",
          "text": [
            "AminA IqbaL\n"
          ]
        }
      ]
    },
    {
      "cell_type": "code",
      "source": [
        "def letter_capitalize(user_input):\n",
        "    words = user_input.split()\n",
        "    cap_words = []\n",
        "    for word in words:\n",
        "        if word in words:\n",
        "            cap_words.append(word[0].upper() + word[1:-1]+ word[-1].upper())\n",
        "    return \" \".join(cap_words)\n",
        "user_input = \"amina iqbal\"\n",
        "letter_capitalize(user_input)"
      ],
      "metadata": {
        "colab": {
          "base_uri": "https://localhost:8080/",
          "height": 35
        },
        "id": "dUW3yZtZKDY5",
        "outputId": "49596403-b340-4317-858b-d8c889cd3d6d"
      },
      "execution_count": null,
      "outputs": [
        {
          "output_type": "execute_result",
          "data": {
            "text/plain": [
              "'AminA IqbaL'"
            ],
            "application/vnd.google.colaboratory.intrinsic+json": {
              "type": "string"
            }
          },
          "metadata": {},
          "execution_count": 16
        }
      ]
    },
    {
      "cell_type": "markdown",
      "source": [
        "3️⃣ String Method Problem 🔹 Problem: Ek function likhain jo kisi string me sabse zyada baar aane wala letter return kare. 🔹 Example:\n",
        "\n",
        "python Copy Edit Input: \"banana\" Output: \"a\" (kyunki \"a\" 3 dafa aya hai)"
      ],
      "metadata": {
        "id": "1Fk2FEe_ORxR"
      }
    },
    {
      "cell_type": "code",
      "source": [],
      "metadata": {
        "id": "7WLSNCJ5KlfR"
      },
      "execution_count": null,
      "outputs": []
    },
    {
      "cell_type": "code",
      "source": [
        "def max_letter(user_input):\n",
        "    frequency = {}\n",
        "    for letter in user_input:\n",
        "        frequency[letter] = frequency.get(letter, 0) + 1\n",
        "    max_char = max(frequency, key=frequency.get)\n",
        "    return max_char\n",
        "user_input = \"banana\"\n",
        "print(max_letter(user_input))\n"
      ],
      "metadata": {
        "id": "EPGt80V9Qy3-",
        "colab": {
          "base_uri": "https://localhost:8080/"
        },
        "outputId": "d9d42068-2199-4d02-b798-bb6f3dd739ac"
      },
      "execution_count": null,
      "outputs": [
        {
          "output_type": "stream",
          "name": "stdout",
          "text": [
            "a\n"
          ]
        }
      ]
    },
    {
      "cell_type": "code",
      "source": [
        "def max_letter(user_input):\n",
        "    count = {}\n",
        "    for char in user_input:\n",
        "        count[char] = count.get(char,0)+1\n",
        "    max_char = max(count, key= count.get)\n",
        "    return max_char\n",
        "user_input = \"banana\"\n",
        "max_letter(user_input)"
      ],
      "metadata": {
        "colab": {
          "base_uri": "https://localhost:8080/",
          "height": 35
        },
        "id": "Ou7DuJjkOSln",
        "outputId": "96210a96-b984-474c-e7c1-b43bc01eeda0"
      },
      "execution_count": null,
      "outputs": [
        {
          "output_type": "execute_result",
          "data": {
            "text/plain": [
              "'a'"
            ],
            "application/vnd.google.colaboratory.intrinsic+json": {
              "type": "string"
            }
          },
          "metadata": {},
          "execution_count": 18
        }
      ]
    },
    {
      "cell_type": "markdown",
      "source": [
        "\n",
        "\n",
        "\n",
        "4️⃣ Random Problem (Math Related)\n",
        "🔹 Problem: Ek function likhain jo kisi list ke even numbers ko alag kare aur odd numbers ko alag kare.\n",
        "🔹 Example:\n",
        "\n",
        "python\n",
        "Copy\n",
        "Edit\n",
        "Input: [1, 2, 3, 4, 5, 6]\n",
        "Output: Even: [2, 4, 6], Odd: [1, 3, 5]\n"
      ],
      "metadata": {
        "id": "YdY7-eRk9bne"
      }
    },
    {
      "cell_type": "code",
      "source": [
        "def even_odd_separator(user_input):\n",
        "    even = []\n",
        "    odd = []\n",
        "    for num in user_input:\n",
        "        if num % 2 == 0:\n",
        "            even.append(num)\n",
        "        else:\n",
        "            odd.append(num)\n",
        "    return even, odd\n",
        "user_input = [1, 2, 3, 4, 5, 6]\n",
        "even_numbers, odd_numbers = even_odd_separator(user_input)\n",
        "\n",
        "print(\"Even:\", even_numbers)\n",
        "print(\"Odd:\", odd_numbers)\n"
      ],
      "metadata": {
        "colab": {
          "base_uri": "https://localhost:8080/"
        },
        "id": "4mPaeXdQm4Ov",
        "outputId": "15327315-6883-4128-f580-98b6e8c5ddbc"
      },
      "execution_count": null,
      "outputs": [
        {
          "output_type": "stream",
          "name": "stdout",
          "text": [
            "Even: [2, 4, 6]\n",
            "Odd: [1, 3, 5]\n"
          ]
        }
      ]
    },
    {
      "cell_type": "markdown",
      "source": [
        "5️⃣ Random Problem (Class Related)\n",
        "🔹 Problem: Ek class Student banain jo student ka naam aur grades store kare. Is class me ek method ho jo bata sakay ke student pass hua ya fail.\n"
      ],
      "metadata": {
        "id": "2gFqtqVN9gnD"
      }
    },
    {
      "cell_type": "code",
      "source": [
        "class Student:\n",
        "    def __init__(self, name, numbers):\n",
        "        self.name = name\n",
        "        self.numbers = numbers\n",
        "    def about_student(self):\n",
        "        for numbers in self.numbers:\n",
        "            if numbers >= 33:\n",
        "                print(f\"student is pass: {numbers}\")\n",
        "            else:\n",
        "                print(f\"student is fail: {numbers}\")\n",
        "ob = Student(\"amina\", [77, 88, 90, 30])\n",
        "print(ob.about_student())"
      ],
      "metadata": {
        "colab": {
          "base_uri": "https://localhost:8080/"
        },
        "id": "pNv7UnX4nWbX",
        "outputId": "175d0928-7872-4820-e1f5-3f03d012ecf6"
      },
      "execution_count": null,
      "outputs": [
        {
          "output_type": "stream",
          "name": "stdout",
          "text": [
            "student is pass: 77\n",
            "student is pass: 88\n",
            "student is pass: 90\n",
            "student is fail: 30\n",
            "None\n"
          ]
        }
      ]
    },
    {
      "cell_type": "code",
      "source": [
        "class Student:\n",
        "    def __init__(self, name, grades):\n",
        "        self.name = name\n",
        "        self.grades = grades\n",
        "\n",
        "    def is_pass(self):\n",
        "        return sum(self.grades) / len(self.grades) >= 50  # Average grade check\n",
        "\n",
        "student1 = Student(\"Amina\", [60, 70,30, 80])\n",
        "print(student1.is_pass())  # Output: True"
      ],
      "metadata": {
        "colab": {
          "base_uri": "https://localhost:8080/"
        },
        "id": "emLPccXvqLxS",
        "outputId": "bdb9ab6e-dd1d-491a-81b1-16fe17163e19"
      },
      "execution_count": null,
      "outputs": [
        {
          "output_type": "stream",
          "name": "stdout",
          "text": [
            "True\n"
          ]
        }
      ]
    },
    {
      "cell_type": "markdown",
      "source": [
        "# **Basic Level**\n",
        "Create a Class and Object\n",
        "\n",
        "Define a class Car with attributes brand and model.\n",
        "Create an object of Car and print its attributes.\n",
        "Class with Methods"
      ],
      "metadata": {
        "id": "lE4_kMXO4h7-"
      }
    },
    {
      "cell_type": "code",
      "source": [
        "class Car:\n",
        "    def __init__(self,brand,model ):\n",
        "        self.brand = brand\n",
        "        self.model = model\n",
        "    def show(self):\n",
        "        print(f\"car brand is {self.brand} and car model is {self.model}\")\n",
        "ob = Car(\"civic\", 2018)\n",
        "ob.show()"
      ],
      "metadata": {
        "colab": {
          "base_uri": "https://localhost:8080/"
        },
        "id": "ZWlazc_d4kjX",
        "outputId": "753c2250-bc45-4ef8-82a1-39d72a3d821a"
      },
      "execution_count": null,
      "outputs": [
        {
          "output_type": "stream",
          "name": "stdout",
          "text": [
            "car brand is civic and car model is 2018\n"
          ]
        }
      ]
    },
    {
      "cell_type": "markdown",
      "source": [
        "Encapsulation\n",
        "\n",
        "Create a class BankAccount with private attributes balance.\n",
        "Provide methods to deposit, withdraw, and check the balance."
      ],
      "metadata": {
        "id": "n9P-hzE1zqcW"
      }
    },
    {
      "cell_type": "code",
      "source": [
        "class BankAccount:\n",
        "    def __init__(self, balance, pasw):\n",
        "        self.__balance = balance\n",
        "        self.pasw = pasw\n",
        "    def  deposit(self, amount):\n",
        "        if amount >=0:\n",
        "            self.__balance += amount\n",
        "            print(f\" {amount} amount deposited sucsesfully, total balance is : {self.__balance}\")\n",
        "    def  withdraw(self, amount):\n",
        "        if amount >= 0:\n",
        "            self.__balance -= amount\n",
        "            print(f\" {amount} amount withdraw sucsesfully, total balance is : {self.__balance}\")\n",
        "\n",
        "ob = BankAccount(9000, 1234)\n",
        "ob.deposit(2000)\n",
        "ob.withdraw(1000)"
      ],
      "metadata": {
        "colab": {
          "base_uri": "https://localhost:8080/"
        },
        "id": "irNy1o22ztB2",
        "outputId": "d2022ab8-e5e9-4143-e3ac-bd1258ec525e"
      },
      "execution_count": null,
      "outputs": [
        {
          "output_type": "stream",
          "name": "stdout",
          "text": [
            " 2000 amount deposited sucsesfully, total balance is : 11000\n",
            " 1000 amount withdraw sucsesfully, total balance is : 10000\n"
          ]
        }
      ]
    },
    {
      "cell_type": "markdown",
      "source": [
        "Define a class Circle with an attribute radius.\n",
        "Add a method to calculate the area of the circle.\n",
        "Create an object and find the area.\n",
        "Encapsulation\n"
      ],
      "metadata": {
        "id": "IVTo-ylH4gJ2"
      }
    },
    {
      "cell_type": "code",
      "source": [
        "class Circle:\n",
        "    def __init__(self, radius):\n",
        "        self.radius = radius\n",
        "    def calculate_area(self):\n",
        "        return 3.14*(self.radius**2)\n",
        "ob = Circle(5)\n",
        "ob.calculate_area()"
      ],
      "metadata": {
        "colab": {
          "base_uri": "https://localhost:8080/"
        },
        "id": "1oKgxNDk5_L-",
        "outputId": "0cfea747-1b31-4fa3-b639-1d52a4e33272"
      },
      "execution_count": null,
      "outputs": [
        {
          "output_type": "execute_result",
          "data": {
            "text/plain": [
              "78.5"
            ]
          },
          "metadata": {},
          "execution_count": 51
        }
      ]
    },
    {
      "cell_type": "code",
      "source": [
        "class Circle:\n",
        "    def __init__(self, radius):\n",
        "        self.__radius = radius\n",
        "\n",
        "    def calculate_area(self):\n",
        "        return 3.14 * (self.__radius ** 2)\n",
        "ob = Circle(5)\n",
        "print(\"Area of the circle:\", ob.calculate_area())"
      ],
      "metadata": {
        "colab": {
          "base_uri": "https://localhost:8080/"
        },
        "id": "hGC84bBy8MXf",
        "outputId": "8c552f07-f2c6-4df3-ac34-9a805e31fda8"
      },
      "execution_count": null,
      "outputs": [
        {
          "output_type": "stream",
          "name": "stdout",
          "text": [
            "Area of the circle: 78.5\n"
          ]
        }
      ]
    },
    {
      "cell_type": "markdown",
      "source": [
        "\n",
        "\n",
        "\n",
        "\n",
        "Create a base class Animal with a method make_sound().\n",
        "Derive classes Dog and Cat from Animal, overriding the method for each.\n",
        "Create objects and call make_sound().\n",
        "Method Overloading (Polymorphism)"
      ],
      "metadata": {
        "id": "z1lcBWLS8w2q"
      }
    },
    {
      "cell_type": "code",
      "source": [
        "class Animal:\n",
        "    def make_sound(self):\n",
        "        print(\"Some generic animal sound\")\n",
        "class Dog(Animal):\n",
        "    def make_sound(self):\n",
        "        print(\"bhao bhao\")\n",
        "class Cat(Animal):\n",
        "    def make_sound(self):\n",
        "        print(\"maaan maaan\")\n",
        "animal = Animal()\n",
        "dog = Dog()\n",
        "cat = Cat()\n",
        "\n",
        "animal.make_sound()\n",
        "dog.make_sound()\n",
        "cat.make_sound()"
      ],
      "metadata": {
        "colab": {
          "base_uri": "https://localhost:8080/"
        },
        "id": "FFx7A2bf8x2r",
        "outputId": "9572df7c-8662-4662-bcc2-16b8f607f5bb"
      },
      "execution_count": null,
      "outputs": [
        {
          "output_type": "stream",
          "name": "stdout",
          "text": [
            "Some generic animal sound\n",
            "bhao bhao\n",
            "maaan maaan\n"
          ]
        }
      ]
    },
    {
      "cell_type": "markdown",
      "source": [
        "\n",
        "Define a class MathOperations with a method add().\n",
        "Overload the method to work with different numbers of arguments.\n",
        "Operator Overloading"
      ],
      "metadata": {
        "id": "LdskeLpSFqA8"
      }
    },
    {
      "cell_type": "code",
      "source": [
        " class MathOperations:\n",
        "    def __init__(self, *numbers):\n",
        "        self.numbers = numbers\n",
        "    def add(self):\n",
        "        return sum(self.numbers)\n",
        "object = MathOperations(2,3,4)\n",
        "object.add()"
      ],
      "metadata": {
        "colab": {
          "base_uri": "https://localhost:8080/"
        },
        "id": "EQx-98l_Fqzr",
        "outputId": "32e162e9-28c4-4124-f048-b58effadae37"
      },
      "execution_count": null,
      "outputs": [
        {
          "output_type": "execute_result",
          "data": {
            "text/plain": [
              "9"
            ]
          },
          "metadata": {},
          "execution_count": 63
        }
      ]
    },
    {
      "cell_type": "code",
      "source": [
        "class MathOperations:\n",
        "    def add(self, *args):\n",
        "        return sum(args)\n",
        "\n",
        "    def __add__(self, other):\n",
        "        if isinstance(other, MathOperations):\n",
        "            return MathOperations()\n",
        "        raise TypeError(\"Unsupported operand type for +\")\n",
        "math_op = MathOperations()\n",
        "print(math_op.add(2, 3))\n",
        "\n"
      ],
      "metadata": {
        "colab": {
          "base_uri": "https://localhost:8080/"
        },
        "id": "ubCaOK5uGKnU",
        "outputId": "9209e466-6f03-4aeb-9321-f3498bf8f34a"
      },
      "execution_count": null,
      "outputs": [
        {
          "output_type": "stream",
          "name": "stdout",
          "text": [
            "5\n"
          ]
        }
      ]
    },
    {
      "cell_type": "markdown",
      "source": [
        "\n",
        "\n",
        "\n",
        "\n",
        "Create a class Vector that supports addition (+) of two vectors.\n",
        "Class Method and Static Method"
      ],
      "metadata": {
        "id": "bwR-01AxJLpD"
      }
    },
    {
      "cell_type": "code",
      "source": [],
      "metadata": {
        "id": "P6pXokNgJMXR"
      },
      "execution_count": null,
      "outputs": []
    },
    {
      "cell_type": "markdown",
      "source": [
        "# **🔹 Intermediate OOP Problems**\n",
        "\n",
        "6️⃣ Encapsulation (Private & Protected Variables)\n",
        "Problem:\n",
        "\n",
        "Create a class Person with:\n",
        "\n",
        "\n",
        "__age (private attribute)\n",
        "\n",
        "A method get_age() to access it\n",
        "\n",
        "A method set_age(new_age) to modify it"
      ],
      "metadata": {
        "id": "4u5TTkQMN-ED"
      }
    },
    {
      "cell_type": "code",
      "source": [
        "class Person:\n",
        "    def __init__(self, age):\n",
        "        self.__age = age\n",
        "    def get_age(self):\n",
        "        \"\"\"Getter method to access private age attribute.\"\"\"\n",
        "        return self.__age\n",
        "\n",
        "    def set_age(self, new_age):\n",
        "        \"\"\"Setter method to modify private age attribute with validation.\"\"\"\n",
        "        if isinstance(new_age, int) and new_age > 0:\n",
        "            self.__age = new_age #isinstance(new_age, int)\n",
        "# object → Jis variable ya object ko check karna hai.\n",
        "# class_or_tuple → Kis class ya data type ke against check karna hai.\n",
        "        else:\n",
        "            raise ValueError(\"Age must be a positive integer.\")\n",
        "person = Person(25)\n",
        "print(person.get_age())\n"
      ],
      "metadata": {
        "colab": {
          "base_uri": "https://localhost:8080/"
        },
        "id": "i0zv-MC8QrHv",
        "outputId": "8dd31432-d831-401d-f07c-91cd5a8992f9"
      },
      "execution_count": null,
      "outputs": [
        {
          "output_type": "stream",
          "name": "stdout",
          "text": [
            "25\n"
          ]
        }
      ]
    },
    {
      "cell_type": "code",
      "source": [
        "class Person:\n",
        "    def __init__(self, age):\n",
        "        self.age = age\n",
        "    def set_age(self, new_age):\n",
        "        self.age += new_age\n",
        "        print(f\"{self.age} is old age and this new age {new_age}\")\n",
        "object = Person(20)\n",
        "object.set_age(3)"
      ],
      "metadata": {
        "colab": {
          "base_uri": "https://localhost:8080/"
        },
        "id": "8Xt6L_pJN-3j",
        "outputId": "145e6d0b-294d-4fa9-ff1f-a4f0f212de89"
      },
      "execution_count": null,
      "outputs": [
        {
          "output_type": "stream",
          "name": "stdout",
          "text": [
            "23 is old age and this new age 3\n"
          ]
        }
      ]
    },
    {
      "cell_type": "markdown",
      "source": [
        "\n",
        "7️⃣ Inheritance (Single Inheritance)\n",
        "Problem:\n",
        "Create a Vehicle class with brand and speed attributes.\n",
        "Create a Car class that inherits Vehicle and adds fuel_type."
      ],
      "metadata": {
        "id": "KNqDnat-8WrL"
      }
    },
    {
      "cell_type": "code",
      "source": [
        "class Vehicle:\n",
        "    def __init__(self,brand, speed):\n",
        "        self.brand = brand\n",
        "        self.speed = speed\n",
        "class Car (Vehicle):\n",
        "    def __init__(self,brand, speed, fuel_type )\n",
        "        super.__init__(brand, speed)\n",
        "        self.fuel_type = fuel_type\n",
        "\n",
        "my_car = Car(\"Toyota\", 180, \"Petrol\")\n",
        "print(f\"Brand: {my_car.brand}, Speed: {my_car.speed} km/h, Fuel: {my_car.fuel_type}\")\n"
      ],
      "metadata": {
        "id": "thLJ0ndb8X2U"
      },
      "execution_count": null,
      "outputs": []
    },
    {
      "cell_type": "markdown",
      "source": [
        "8️⃣ Multiple Inheritance\n",
        "Problem:\n",
        "Create two classes Engine and Wheels.\n",
        "Then, create a Car class that inherits both."
      ],
      "metadata": {
        "id": "sJjetU8QIpe2"
      }
    },
    {
      "cell_type": "code",
      "source": [
        "class Engine:\n",
        "    def __init__(self, horsepower, fuel_type):\n",
        "        self.horsepower = horsepower\n",
        "        self.fuel_type = fuel_type\n",
        "    def show(self):\n",
        "        return (f\"horsepower{self.horsepower} and fuel_type{self.fuel_type}\")\n",
        "class Wheels:\n",
        "    def __init__(self, wheel_count):\n",
        "        self.wheel_count = wheel_count\n",
        "    def show(self):\n",
        "        return (f\"wheel_count{self.wheel_count } \")\n",
        "class Car(Engine , Wheels ):\n",
        "    def __init__( self, brand, speed, horsepower, fuel_type, wheel_count ):\n",
        "        Engine.__init__(self, horsepower, fuel_type)\n",
        "        Wheels.__init__(self, wheel_count)\n",
        "        self.brand = brand\n",
        "        self.speed = speed\n",
        "    def show(self):\n",
        "        return (f\"brand: {self.brand}, speed: {self.speed}, horsepower: {self.horsepower}, fuel_type: {self.fuel_type}, wheel_count: {self.wheel_count } \")\n",
        "my_car = Car(\"Toyota\", 200, 150, \"Petrol\", 4)\n",
        "my_car.show()"
      ],
      "metadata": {
        "colab": {
          "base_uri": "https://localhost:8080/",
          "height": 35
        },
        "id": "qgi-LBSmKyaE",
        "outputId": "9ea2a378-e926-4f8c-b53f-e29c6103f0b7"
      },
      "execution_count": null,
      "outputs": [
        {
          "output_type": "execute_result",
          "data": {
            "text/plain": [
              "'brand: Toyota, speed: 200, horsepower: 150, fuel_type: Petrol, wheel_count: 4 '"
            ],
            "application/vnd.google.colaboratory.intrinsic+json": {
              "type": "string"
            }
          },
          "metadata": {},
          "execution_count": 6
        }
      ]
    },
    {
      "cell_type": "markdown",
      "source": [
        "9️⃣ Method Overriding Problem: Create a Parent class with a method show(). Create a Child class that overrides show() with its own implementation."
      ],
      "metadata": {
        "id": "zsf1GPtAO6e3"
      }
    },
    {
      "cell_type": "code",
      "source": [
        "class Parent:\n",
        "    def show(self):\n",
        "        print(\"this is pareant class \")\n",
        "class Child(Parent):\n",
        "    def show(self):\n",
        "        print(\"this is Child class \")\n",
        "ob1 = Parent()\n",
        "ob1.show()\n",
        "ob = Child()\n",
        "ob.show()"
      ],
      "metadata": {
        "colab": {
          "base_uri": "https://localhost:8080/"
        },
        "id": "BwVMU9D3S9x6",
        "outputId": "c50b5074-8ae5-417f-8fbc-122b51fda170"
      },
      "execution_count": null,
      "outputs": [
        {
          "output_type": "stream",
          "name": "stdout",
          "text": [
            "this is pareant class \n",
            "this is Child class \n"
          ]
        }
      ]
    },
    {
      "cell_type": "code",
      "source": [
        "class Car:\n",
        "    def __init__(self, speed, color, name ):\n",
        "        self.speed = speed\n",
        "        self.color = color\n",
        "        self.name = name\n",
        "    def show(self):\n",
        "        return (f\"speed : {self.speed}, color :{self.color}, name : {self.name}\")\n",
        "\n",
        "\n",
        "class baike(Car):\n",
        "    def show(self):\n",
        "        print(\"Yeh Child class ka overridden show() method hai.\")\n",
        "\n",
        "# Object create karna\n",
        "p = Car(21, \"black\", \"civik\")\n",
        "c = baike('speed', 'color','name')\n",
        "\n",
        "\n",
        "p.show()\n",
        "c.show()"
      ],
      "metadata": {
        "colab": {
          "base_uri": "https://localhost:8080/"
        },
        "id": "9fEo-kRjO7R1",
        "outputId": "41eb6dbc-d467-4a68-d31f-f349a1310e1f"
      },
      "execution_count": null,
      "outputs": [
        {
          "output_type": "stream",
          "name": "stdout",
          "text": [
            "Yeh Child class ka overridden show() method hai.\n"
          ]
        }
      ]
    },
    {
      "cell_type": "markdown",
      "source": [
        "\n",
        "🔟 Operator Overloading (+ for Custom Objects)\n",
        "Problem:\n",
        "Create a class Vector that supports addition (+) of two vectors.\n"
      ],
      "metadata": {
        "id": "fzirJUEsU99a"
      }
    },
    {
      "cell_type": "code",
      "source": [
        "class Vector:\n",
        "    def __init__(self, x, y):\n",
        "        self.x = x\n",
        "        self.y = y\n",
        "    def __add__ (self, other):\n",
        "        return Vector(self.x + other.x, self.y + other.y) # Vector ko Vectormn answer lana ka lia use kia hai\n",
        "    def __str__(self):\n",
        "        return f\"Vector({self.x}, {self.y})\"\n",
        "v1 =  Vector(2,2)\n",
        "v2 =  Vector(2,2)\n",
        "v = v1  + v2\n",
        "print(v)\n",
        "print(type(v))"
      ],
      "metadata": {
        "colab": {
          "base_uri": "https://localhost:8080/"
        },
        "id": "qbNStgxVUA55",
        "outputId": "689a0d84-8f5c-4359-ed67-be18e53e99e2"
      },
      "execution_count": null,
      "outputs": [
        {
          "output_type": "stream",
          "name": "stdout",
          "text": [
            "Vector(4, 4)\n",
            "<class '__main__.Vector'>\n"
          ]
        }
      ]
    },
    {
      "cell_type": "code",
      "source": [
        "class Vector:\n",
        "    def __init__(self, x, y):\n",
        "        self.x = x\n",
        "        self.y = y\n",
        "\n",
        "    def __add__(self, other):  # \"+\" Operator Override Kiya\n",
        "        return (self.x + other.x, self.y + other.y)\n",
        "\n",
        "    def __str__(self):\n",
        "        return f\"Vector({self.x}, {self.y})\"\n",
        "\n",
        "v1 = Vector(2, 3)\n",
        "v2 = Vector(2, 3)\n",
        "v3 = v1 + v2\n",
        "\n",
        "print(v3)\n"
      ],
      "metadata": {
        "colab": {
          "base_uri": "https://localhost:8080/"
        },
        "id": "fMmIbUEXWaZS",
        "outputId": "f740fd66-54cc-496e-de1c-406c92993f11"
      },
      "execution_count": null,
      "outputs": [
        {
          "output_type": "stream",
          "name": "stdout",
          "text": [
            "(4, 6)\n"
          ]
        }
      ]
    },
    {
      "cell_type": "markdown",
      "source": [
        "\n",
        "\n",
        "\n",
        "\n",
        "**Advanced OOP Problems**\n",
        "\n",
        "\n",
        "1️⃣1️⃣ Abstract Class & Method\n",
        "Problem:\n",
        "Create an abstract class Shape with an abstract method area().\n",
        "Then, create Circle and Rectangle classes that implement it."
      ],
      "metadata": {
        "id": "vn4qg3Iqdkl_"
      }
    },
    {
      "cell_type": "code",
      "source": [
        "from abc import ABC, abstractmethod  # Abstract Base Class ke liye\n",
        "class Shape:\n",
        "    @staticmethod\n",
        "    def area(self):\n",
        "        return 2*(3.14)\n",
        "class Circle(Shape ):\n",
        "    pass\n",
        "class Rectangle(Shape):"
      ],
      "metadata": {
        "id": "O-AePUu8dmYR"
      },
      "execution_count": null,
      "outputs": []
    },
    {
      "cell_type": "code",
      "source": [
        "from abc import ABC, abstractmethod  # Abstract Base Class ke liye\n",
        "\n",
        "# Abstract Class\n",
        "class Shape(ABC):\n",
        "    @abstractmethod\n",
        "    def area(self):  # Abstract Method\n",
        "        pass\n",
        "\n",
        "# Child Class: Circle\n",
        "class Circle(Shape):\n",
        "    def __init__(self, radius):\n",
        "        self.radius = radius\n",
        "\n",
        "    def area(self):\n",
        "        return 3.14 * self.radius * self.radius  # πr² formula\n",
        "\n",
        "# Child Class: Rectangle\n",
        "class Rectangle(Shape):\n",
        "    def __init__(self, width, height):\n",
        "        self.width = width\n",
        "        self.height = height\n",
        "\n",
        "    def area(self):\n",
        "        return self.width * self.height  # w × h formula\n",
        "\n",
        "# Objects Create Karna\n",
        "circle = Circle(5)\n",
        "rectangle = Rectangle(4, 6)\n",
        "\n",
        "print(\"Circle Area:\", circle.area())       # Output: Circle Area: 78.5\n",
        "print(\"Rectangle Area:\", rectangle.area()) # Output: Rectangle Area: 24\n"
      ],
      "metadata": {
        "colab": {
          "base_uri": "https://localhost:8080/"
        },
        "id": "oHKE9s6Jbm_b",
        "outputId": "34f33637-801b-4d47-9f72-17ade1bf4ba0"
      },
      "execution_count": null,
      "outputs": [
        {
          "output_type": "stream",
          "name": "stdout",
          "text": [
            "Circle Area: 78.5\n",
            "Rectangle Area: 24\n"
          ]
        }
      ]
    },
    {
      "cell_type": "markdown",
      "source": [
        "\n",
        "1️⃣2️⃣ Polymorphism (isinstance(), issubclass())\n",
        "Problem:\n",
        "Create a Bird class with a make_sound() method.\n",
        "Then, create Sparrow and Eagle classes that override make_sound().\n",
        "Use isinstance() and issubclass()."
      ],
      "metadata": {
        "id": "D_dmaWRwchRA"
      }
    },
    {
      "cell_type": "code",
      "source": [
        "# 🔹 Simple Explanation\n",
        "# ✅ isinstance(obj, Class) → Check karta hai koi object kisi class ka instance hai ya nahi.\n",
        "# ✅ issubclass(Sub, Parent) → Check karta hai ek class kisi dusri class ki subclass hai ya nahi.\n",
        "# ✅ Method Overriding → Jab child class parent class ke method ko apni tarah se implement kare.\n",
        "class Bird:\n",
        "    def make_sound(self):\n",
        "        print(\"ganaric sond of birds \")\n",
        "class Sparrow(Bird):\n",
        "    def make_sound(self):\n",
        "        print(\"choon choon sond of birds \")\n",
        "class Eagle(Bird):\n",
        "    def make_sound(self):\n",
        "        print(\"Screech!sond of birds \")\n",
        "ob = Bird()\n",
        "ob.make_sound()\n",
        "\n",
        "ob1 = Sparrow()\n",
        "ob1.make_sound()\n",
        "\n",
        "ob2 = Eagle()\n",
        "ob2.make_sound()\n",
        "print(isinstance(ob, Bird))  # isinstance(): Object kis class se belong karta hai.\n",
        "# issubclass(): Ek class dusri class ki subclass hai ya nahi."
      ],
      "metadata": {
        "id": "MIJ6VomVch2k",
        "colab": {
          "base_uri": "https://localhost:8080/"
        },
        "outputId": "1c3c236b-2008-4fd3-83dc-39eddecb3f66"
      },
      "execution_count": null,
      "outputs": [
        {
          "output_type": "stream",
          "name": "stdout",
          "text": [
            "ganaric sond of birds \n",
            "choon choon sond of birds \n",
            "Screech!sond of birds \n"
          ]
        }
      ]
    },
    {
      "cell_type": "markdown",
      "source": [
        "1️⃣3️⃣ Static Method (@staticmethod)\n",
        "Problem:\n",
        "Create a MathOperations class with a static method add(x, y)."
      ],
      "metadata": {
        "id": "Qos85f4gC8tY"
      }
    },
    {
      "cell_type": "markdown",
      "source": [
        "**@staticmethod** → Aisi method jo class ya object ka use nahi karti, direct values par kaam karti hai.\n",
        "Koi self ya cls parameter nahi hota."
      ],
      "metadata": {
        "id": "71JfRuKSHAK5"
      }
    },
    {
      "cell_type": "code",
      "source": [
        "class MathOperations:\n",
        "   @staticmethod\n",
        "   def add (x, y):\n",
        "      return (x + y)\n",
        "   @staticmethod\n",
        "   def sub (x, y):\n",
        "      return (x - y)\n",
        "   @staticmethod\n",
        "   def mul (x, y):\n",
        "      return (x * y)\n",
        "   @staticmethod\n",
        "   def div (x, y):\n",
        "      return (x / y)\n",
        "# Static Methods ko Direct Class Se Call krta hain\n",
        "print(MathOperations.add(2, 2))\n",
        "print(MathOperations.mul(2, 2))\n",
        "print(MathOperations.div(2, 2))\n",
        "print(MathOperations.sub(5, 2))\n",
        "print(MathOperations.div(28, 2))"
      ],
      "metadata": {
        "colab": {
          "base_uri": "https://localhost:8080/"
        },
        "id": "D5uqsVO1Gjoo",
        "outputId": "4264106e-4bb6-4e22-8bc6-1b001613cf43"
      },
      "execution_count": null,
      "outputs": [
        {
          "output_type": "stream",
          "name": "stdout",
          "text": [
            "4\n",
            "4\n",
            "1.0\n",
            "3\n",
            "14.0\n"
          ]
        }
      ]
    },
    {
      "cell_type": "code",
      "source": [
        "class MathOperations:\n",
        "    def __init__(self, x, y):\n",
        "        self.x = x\n",
        "        self.y = y\n",
        "\n",
        "    def add (self):\n",
        "        return(self.x + self.y)\n",
        "    def sub (self):\n",
        "        return(self.x - self.y)\n",
        "    def mul (self):\n",
        "        return(self.x * self.y)\n",
        "    def div (self):\n",
        "        return(self.x / self.y)\n",
        "\n",
        "ob =  MathOperations(28, 3)\n",
        "print(ob.add())\n",
        "print(ob.mul())\n",
        "print(ob.div())\n",
        "print(ob.sub())"
      ],
      "metadata": {
        "colab": {
          "base_uri": "https://localhost:8080/"
        },
        "id": "hUd0hwWKC9Q7",
        "outputId": "77b54d8c-04d5-4c58-e901-c19c7c6c3f18"
      },
      "execution_count": null,
      "outputs": [
        {
          "output_type": "stream",
          "name": "stdout",
          "text": [
            "31\n",
            "84\n",
            "9.333333333333334\n",
            "25\n"
          ]
        }
      ]
    },
    {
      "cell_type": "markdown",
      "source": [
        "\n",
        "1️⃣4️⃣ Class Method (@classmethod)\n",
        "Problem:\n",
        "Create a Student class with a class variable school_name.\n",
        "Add a class method change_school(new_school) to update it."
      ],
      "metadata": {
        "id": "s7jIVggEDA8A"
      }
    },
    {
      "cell_type": "markdown",
      "source": [
        "Why Use @classmethod?\n",
        "\n",
        "✔ Modify class-level data\n",
        "\n",
        "✔ No need to create an object\n",
        "\n",
        "✔ Keeps code clean & efficient\n",
        "\n",
        "🔹 What is a Class Method?\n",
        "\n",
        "✅ A class method modifies class variables and is defined using @classmethod.\n",
        "\n",
        "✅ Uses cls to refer to the class, not an instance.\n",
        "\n",
        "✅ Can be called directly using ClassName.method() without creating an object."
      ],
      "metadata": {
        "id": "UZW2N7sqPh-7"
      }
    },
    {
      "cell_type": "code",
      "source": [
        "class Student:\n",
        "    school_name = \"the learning schol\"\n",
        "    @classmethod\n",
        "    def change_school(cls, school_name):\n",
        "        return school_name\n",
        "\n",
        "obj = Student()\n",
        "obj.change_school(\"mumtaz\")"
      ],
      "metadata": {
        "colab": {
          "base_uri": "https://localhost:8080/",
          "height": 36
        },
        "id": "SqnynFzXA-4w",
        "outputId": "13060abd-8844-4561-bb8b-5bd7ef54d5a4"
      },
      "execution_count": null,
      "outputs": [
        {
          "output_type": "execute_result",
          "data": {
            "text/plain": [
              "'mumtaz'"
            ],
            "application/vnd.google.colaboratory.intrinsic+json": {
              "type": "string"
            }
          },
          "metadata": {},
          "execution_count": 6
        }
      ]
    },
    {
      "cell_type": "code",
      "source": [
        "class Student:\n",
        "    school_name = \"The Learning School\"\n",
        "\n",
        "    @classmethod\n",
        "    def change_school(cls, new_name):\n",
        "        cls.school_name = new_name\n",
        "\n",
        "# Usage\n",
        "obj = Student()\n",
        "obj.change_school(\"Mumtaz School\")\n",
        "\n",
        "print(Student.school_name)  # Mumtaz School\n"
      ],
      "metadata": {
        "colab": {
          "base_uri": "https://localhost:8080/"
        },
        "id": "niwF9dPDDLQr",
        "outputId": "acdc9b17-1205-491b-eba5-bf7bcea71434"
      },
      "execution_count": null,
      "outputs": [
        {
          "output_type": "stream",
          "name": "stdout",
          "text": [
            "Mumtaz School\n"
          ]
        }
      ]
    },
    {
      "cell_type": "markdown",
      "source": [
        "1️⃣5️⃣ Property Decorators (@property)\n",
        "Problem:\n",
        "Modify the BankAccount class to use @property for getting and setting balance."
      ],
      "metadata": {
        "id": "irKRO-W9DD-3"
      }
    },
    {
      "cell_type": "markdown",
      "source": [
        "What is @property Decorator?\n",
        "\n",
        "✅ @property converts a method into a read-only attribute (getter).\n",
        "\n",
        "✅ @setter allows modifying the private attribute safely.\n",
        "\n",
        "✅ @deleter allows deleting an attribute."
      ],
      "metadata": {
        "id": "OpWC0KPmQ5yu"
      }
    },
    {
      "cell_type": "code",
      "source": [
        "class BankAccount:\n",
        "    def __init__(self, balance, password):\n",
        "        self._balance = balance  # Private variable (_balance)\n",
        "        self.password = password\n",
        "\n",
        "    @property\n",
        "    def balance(self):  # Getter\n",
        "        return self._balance\n",
        "\n",
        "    @balance.setter\n",
        "    def balance(self, new_balance):  # Setter\n",
        "        if new_balance < 0:\n",
        "            raise ValueError(\"Balance cannot be negative!\")\n",
        "        self._balance = new_balance\n",
        "\n",
        "    def debit(self, amount):\n",
        "        if amount > 0:\n",
        "            self.balance += amount  # Using @property setter\n",
        "            print(f\"₹{amount} credited successfully! New balance: ₹{self.balance}\")\n",
        "        else:\n",
        "            print(\"Invalid amount for debit!\")\n",
        "\n",
        "    def withdraw(self, amount):\n",
        "        if amount > 0 and self.balance >= amount:\n",
        "            self.balance -= amount  # Using @property setter\n",
        "            print(f\"₹{amount} withdrawn successfully! New balance: ₹{self.balance}\")\n",
        "        else:\n",
        "            print(\"Insufficient balance or invalid amount!\")\n",
        "\n",
        "# ✅ Testing\n",
        "ob = BankAccount(5000, 1254)\n",
        "ob.debit(2000)   # ✅ ₹2000 credited successfully!\n",
        "ob.withdraw(1000) # ✅ ₹1000 withdrawn successfully!\n",
        "print(ob.balance) # ✅ 6000\n"
      ],
      "metadata": {
        "colab": {
          "base_uri": "https://localhost:8080/"
        },
        "id": "fCX6A5cSeuX2",
        "outputId": "c2a57463-db06-46ed-e34b-1866bd5227eb"
      },
      "execution_count": null,
      "outputs": [
        {
          "output_type": "stream",
          "name": "stdout",
          "text": [
            "₹2000 credited successfully! New balance: ₹7000\n",
            "₹1000 withdrawn successfully! New balance: ₹6000\n",
            "6000\n"
          ]
        }
      ]
    },
    {
      "cell_type": "code",
      "source": [
        "class BankAccount:\n",
        "    def __init__(self, balance, password):\n",
        "        self.__balance= balance\n",
        "        self.password = password\n",
        "    @property\n",
        "    def balance(self)\n",
        "        return self.__balance\n",
        "    @setattr\n",
        "    def balance(self)\n",
        "        return self.__balance\n",
        "    def daibit(self, amount):\n",
        "        self.__balance = amount\n",
        "        if self.__balance >0:\n",
        "            self.__balance += self.amount\n",
        "            print(f\"{self.__balance} amount was dibated sucsesfully { self.amount}\")\n",
        "    def withdraw (self, amount):\n",
        "        self.amount = amount\n",
        "        if self.__balance > 0:\n",
        "            self.__balance -= amount\n",
        "            print(f\"{self.__balance} amount was withdraw sucsesfully { self.amount}\")\n",
        "\n",
        "\n",
        "\n",
        "ob = BankAccount(5000, 1254)\n",
        "ob.daibit(2000)\n",
        "ob.withdraw(1000)"
      ],
      "metadata": {
        "id": "GaChrsNedHB9"
      },
      "execution_count": null,
      "outputs": []
    },
    {
      "cell_type": "code",
      "source": [
        "class BankAccount:\n",
        "    def __init__(self, balance, password):\n",
        "        self.balance= balance\n",
        "        self.password = password\n",
        "    def daibit(self, amount):\n",
        "        self.amount = amount\n",
        "        if self.balance >0:\n",
        "            self.balance += self.amount\n",
        "            print(f\"{self.balance} amount was dibated sucsesfully { self.amount}\")\n",
        "    def withdraw (self, amount):\n",
        "        self.amount = amount\n",
        "        if self.balance > 0:\n",
        "            self.balance -= amount\n",
        "            print(f\"{self.balance} amount was withdraw sucsesfully { self.amount}\")\n",
        "\n",
        "\n",
        "\n",
        "ob = BankAccount(5000, 1254)\n",
        "ob.daibit(2000)\n",
        "ob.withdraw(1000)"
      ],
      "metadata": {
        "id": "12pnuaFMDEtz",
        "colab": {
          "base_uri": "https://localhost:8080/"
        },
        "outputId": "42929a1e-169b-4fbb-d531-368f33022864"
      },
      "execution_count": null,
      "outputs": [
        {
          "output_type": "stream",
          "name": "stdout",
          "text": [
            "7000 amount was dibated sucsesfully 2000\n",
            "6000 amount was withdraw sucsesfully 1000\n"
          ]
        }
      ]
    },
    {
      "cell_type": "markdown",
      "source": [
        "\n",
        "\n",
        "1️⃣6️⃣ Custom Exception Handling\n",
        "Problem:\n",
        "Create a custom exception InsufficientFundsError for a BankAccount class when withdrawal is greater than balance."
      ],
      "metadata": {
        "id": "klkyhoqh4Odq"
      }
    },
    {
      "cell_type": "code",
      "source": [
        "class InsufficientFundsError(Exception):\n",
        "    def __init__(self, massage =  \"Insufficient funds! Cannot withdraw more than available balance.\" ):\n",
        "        super(). __init__(massage)\n",
        "class BankAccount:\n",
        "    def __init__(self, balance, password):\n",
        "        self.balance = balance\n",
        "        self.password = password\n",
        "    def Withdrawal(self, amount):\n",
        "\n",
        "        if amount >= self.balance:\n",
        "            raise InsufficientFundsError(f\"Withdrawal failed! Available balance: {self.balance}\")\n",
        "        self.balance -= amount\n",
        "        print(f\"{amount} withdrawn successfully! New balance: {self.balance}\")\n",
        "\n",
        "ob = BankAccount(5000, 123)\n",
        "try:\n",
        "    ob = BankAccount(5000, 346)  # Initial balance\n",
        "    ob.Withdrawal(6000)  # ❌ Should raise InsufficientFundsError\n",
        "except InsufficientFundsError as e:\n",
        "    print(e)\n",
        "\n",
        "# ✅ Successful transaction\n",
        "ob.Withdrawal(3000)  # Output: ₹3000 withdrawn successfully! New balance: ₹2000\n"
      ],
      "metadata": {
        "colab": {
          "base_uri": "https://localhost:8080/"
        },
        "id": "oKxag8Xi4PIm",
        "outputId": "5de8c737-c664-4e12-fc21-18fd7ce39adf"
      },
      "execution_count": null,
      "outputs": [
        {
          "output_type": "stream",
          "name": "stdout",
          "text": [
            "Withdrawal failed! Available balance: 5000\n",
            "3000 withdrawn successfully! New balance: 2000\n"
          ]
        }
      ]
    },
    {
      "cell_type": "markdown",
      "source": [
        "1️⃣7️⃣ Object Cloning (copy module)\n",
        "Problem:\n",
        "Create a class Book, then use copy.deepcopy() to create a duplicate object.\n"
      ],
      "metadata": {
        "id": "wigstPlTBjmE"
      }
    },
    {
      "cell_type": "code",
      "source": [
        "import copy\n",
        "class Book:\n",
        "    def __init__(self, authore, book_name):\n",
        "        self.authore= authore\n",
        "        self.book_name = book_name\n",
        "    def display(self):\n",
        "        print(f'authore name is :{self.authore} book_name is :{self.book_name}')\n",
        "ob =  Book(\"harry\", \"python\")\n",
        "ob.display()\n",
        "copy_book = copy.deepcopy(ob)\n",
        "copy_book.book_name = \"Advanced Python\"\n",
        "copy_book.display()\n",
        "\n"
      ],
      "metadata": {
        "colab": {
          "base_uri": "https://localhost:8080/"
        },
        "id": "MITN_U5-Bk7j",
        "outputId": "93ffa73f-3818-4835-8a4b-b29a4db78e7a"
      },
      "execution_count": null,
      "outputs": [
        {
          "output_type": "stream",
          "name": "stdout",
          "text": [
            "authore name is :harry book_name is :python\n",
            "authore name is :harry book_name is :Advanced Python\n"
          ]
        }
      ]
    },
    {
      "cell_type": "markdown",
      "source": [
        "1️⃣8️⃣ Singleton Design Pattern\n",
        "Problem:\n",
        "Implement a Singleton class that allows only one instance of the class.\n"
      ],
      "metadata": {
        "id": "YiyDUR_kHVup"
      }
    },
    {
      "cell_type": "code",
      "source": [
        "class Singleton:\n",
        "    # The instance will be stored as a class variable\n",
        "    _instance = None\n",
        "\n",
        "    # Private constructor to prevent direct instantiation\n",
        "    def __new__(cls):\n",
        "        if cls._instance is None:\n",
        "            # Create the instance only if it doesn't exist\n",
        "            cls._instance = super(Singleton, cls).__new__(cls)\n",
        "        return cls._instance\n",
        "\n",
        "# Testing the Singleton\n",
        "singleton1 = Singleton()\n",
        "singleton2 = Singleton()\n",
        "\n",
        "print(singleton1 is singleton2)  # This will print True because both references point to the same instance\n"
      ],
      "metadata": {
        "id": "mIGA4dV3HVNn"
      },
      "execution_count": null,
      "outputs": []
    },
    {
      "cell_type": "markdown",
      "source": [
        "1️⃣9️⃣ Factory Design Pattern\n",
        "Problem:\n",
        "Create a factory method that returns an object based on user input (Car, Bike)."
      ],
      "metadata": {
        "id": "h1totR-tJyrM"
      }
    },
    {
      "cell_type": "code",
      "source": [
        "class Factory:|\n",
        "    def __init__(self,Car, Bike ):\n",
        "        self.Car = Car\n",
        "        self.Bike = Bike\n",
        "    def returns(self):\n",
        "\n",
        "\n"
      ],
      "metadata": {
        "id": "VluE725LJzc1"
      },
      "execution_count": null,
      "outputs": []
    },
    {
      "cell_type": "markdown",
      "source": [
        "\n",
        "2️⃣0️⃣ Multiple Objects in a List\n",
        "Problem:\n",
        "Create a Student class and store multiple students in a list. Then, print all student details.\n",
        "\n",
        "\n"
      ],
      "metadata": {
        "id": "z1weauiZzrPQ"
      }
    },
    {
      "cell_type": "code",
      "source": [
        "class Student:\n",
        "    def __init__(self, name, age, marks):\n",
        "        self.name = name\n",
        "        self.age = age\n",
        "        self.marks = marks\n",
        "\n",
        "    def show(self):\n",
        "        return f\"Student name: {self.name}, Age: {self.age}, Marks: {self.marks}\"\n",
        "\n",
        "# List to store multiple student objects\n",
        "students = []\n",
        "\n",
        "# Adding students to the list\n",
        "students.append(Student(\"John\", 20, 85))\n",
        "students.append(Student(\"Alice\", 22, 90))\n",
        "students.append(Student(\"Bob\", 21, 75))\n",
        "\n",
        "# Printing student details\n",
        "for student in students:\n",
        "    print(student.show())\n"
      ],
      "metadata": {
        "colab": {
          "base_uri": "https://localhost:8080/"
        },
        "id": "0d056nrP4G-U",
        "outputId": "b8f98c86-96e8-4f5e-8c78-2d7e1a06b55b"
      },
      "execution_count": null,
      "outputs": [
        {
          "output_type": "stream",
          "name": "stdout",
          "text": [
            "Student name: John, Age: 20, Marks: 85\n",
            "Student name: Alice, Age: 22, Marks: 90\n",
            "Student name: Bob, Age: 21, Marks: 75\n"
          ]
        }
      ]
    },
    {
      "cell_type": "code",
      "source": [
        "class Student:\n",
        "    def __init__(self, name, age, marks):\n",
        "        self.name = name\n",
        "        self.age = age\n",
        "        self.marks = marks\n",
        "    def show(self):\n",
        "        return f\"student name {self.name} age {self.age} and marks {self.marks}\"\n",
        "# List to store multiple student objects\n",
        "students = []\n",
        "\n",
        "# Adding students to the list\n",
        "students.append(Student(\"John\", 20, 85))\n",
        "students.append(Student(\"Alice\", 22, 90))\n",
        "students.append(Student(\"Bob\", 21, 75))\n",
        "\n",
        "# Printing student details\n",
        "for student in students:\n",
        "    print(student.show())"
      ],
      "metadata": {
        "colab": {
          "base_uri": "https://localhost:8080/"
        },
        "id": "vvAq1zLTzr9k",
        "outputId": "2b958d3c-1cc0-4e00-edd1-86d8a121cbdd"
      },
      "execution_count": null,
      "outputs": [
        {
          "output_type": "stream",
          "name": "stdout",
          "text": [
            "student name John age 20 and marks 85\n",
            "student name Alice age 22 and marks 90\n",
            "student name Bob age 21 and marks 75\n"
          ]
        }
      ]
    },
    {
      "cell_type": "markdown",
      "source": [
        "\n",
        "2️⃣1️⃣ Implement a Library Management System\n",
        "Create classes for Book, Member, and Library.\n",
        "Allow members to borrow and return books."
      ],
      "metadata": {
        "id": "GxdgCOwX8dxj"
      }
    },
    {
      "cell_type": "code",
      "source": [
        "class Book:\n",
        "    def __init__(self, ):\n",
        "        self.name = name\n",
        "        self.price = price\n",
        "        self.quntity = quntity\n",
        "    def __str__(self):\n",
        "        retrun\n",
        "\n",
        "class Member:\n",
        "    pass\n",
        "class Library:\n",
        "    pass"
      ],
      "metadata": {
        "id": "wwb6nxD8hdqV"
      },
      "execution_count": null,
      "outputs": []
    },
    {
      "cell_type": "code",
      "source": [
        "class Book:\n",
        "    def __init__(self, name, auther, price):\n",
        "        self.name = name\n",
        "        self.auther = auther\n",
        "        self.price = price\n",
        "        self.is_avaliable = True\n",
        "\n",
        "\n",
        "\n",
        "class Member:\n",
        "    def __init__(self, name ):\n",
        "        self.name = name\n",
        "        self.borrow_book = []\n",
        "    def borrow_book(self, book, library):\n",
        "        if book.is_available:\n",
        "            book.is_available = False\n",
        "            self.borrowed_books.append(book)\n",
        "            library.remove_book(book)\n",
        "            print(f'{self.name} has borrowed \"{book.title}\".')\n",
        "        else:\n",
        "            print(f'Sorry, \"{book.title}\" is currently unavailable.')\n",
        "\n",
        "    def return_book(self, book, library):\n",
        "        if book in self.borrowed_books:\n",
        "            self.borrowed_books.remove(book)\n",
        "            book.is_available = True\n",
        "            library.add_book(book)\n",
        "            print(f'{self.name} has returned \"{book.title}\".')\n",
        "        else:\n",
        "            print(f'{self.name} did not borrow \"{book.title}\".')\n",
        "\n",
        "class Library:\n",
        "    def __init__(self):\n",
        "        self.books =[]\n",
        "    def add_book(self, book):\n",
        "        self.books.append(book)\n",
        "\n"
      ],
      "metadata": {
        "id": "tVaO_ZBuuAFr"
      },
      "execution_count": null,
      "outputs": []
    },
    {
      "cell_type": "code",
      "source": [
        "class Book:\n",
        "    def __init__(self, name, price, author):\n",
        "        self.name = name\n",
        "        self.price = price\n",
        "        self.author = author\n",
        "        self.is_available = True\n",
        "\n",
        "    def show(self):\n",
        "        return f\"{self.name} by {self.author} is {self.price}\"\n",
        "\n",
        "class Member:\n",
        "    def __init__(self, name):\n",
        "        self.name = name\n",
        "        self.borrowed_books = []\n",
        "\n",
        "    def borrow_book(self, book, library):\n",
        "        if book.is_available:\n",
        "            book.is_available = False\n",
        "            self.borrowed_books.append(book)\n",
        "            library.remove_book(book)\n",
        "            print(f'{self.name} has borrowed \"{book.name}\".')\n",
        "        else:\n",
        "            print(f'Sorry, \"{book.name}\" is currently unavailable.')\n",
        "\n",
        "    def return_book(self, book, library):\n",
        "        if book in self.borrowed_books:\n",
        "            self.borrowed_books.remove(book)\n",
        "            book.is_available = True\n",
        "            library.add_book(book)\n",
        "            print(f'{self.name} has returned \"{book.name}\".')\n",
        "        else:\n",
        "            print(f'{self.name} did not borrow \"{book.name}\".')\n",
        "\n",
        "class Library:\n",
        "    def __init__(self):\n",
        "        self.books = []\n",
        "\n",
        "    def add_book(self, book):\n",
        "        self.books.append(book)\n",
        "\n",
        "    def remove_book(self, book):\n",
        "        self.books.remove(book)\n",
        "\n",
        "    def list_books(self):\n",
        "        print(\"Available books:\")\n",
        "        for book in self.books:\n",
        "            if book.is_available:\n",
        "                print(book.show())\n",
        "\n",
        "library = Library()\n",
        "book1 = Book(\"1984\", \"George Orwell\", 10)\n",
        "book2 = Book(\"To Kill a Mockingbird\", \"Harper Lee\", 12)\n",
        "book3 = Book(\"The Great Gatsby\", \"F. Scott Fitzgerald\", 15)\n",
        "\n",
        "library.add_book(book1)\n",
        "library.add_book(book2)\n",
        "library.add_book(book3)\n",
        "\n",
        "member = Member(\"Alice\")\n",
        "library.list_books()\n",
        "member.borrow_book(book1, library)\n",
        "library.list_books()\n",
        "member.return_book(book1, library)\n",
        "library.list_books()\n"
      ],
      "metadata": {
        "id": "_6UdMLXu8ePS",
        "colab": {
          "base_uri": "https://localhost:8080/"
        },
        "outputId": "424061c6-cb7a-44df-b741-bfa3ec7673c2"
      },
      "execution_count": null,
      "outputs": [
        {
          "output_type": "stream",
          "name": "stdout",
          "text": [
            "Available books:\n",
            "1984 by 10 is George Orwell\n",
            "To Kill a Mockingbird by 12 is Harper Lee\n",
            "The Great Gatsby by 15 is F. Scott Fitzgerald\n",
            "Alice has borrowed \"1984\".\n",
            "Available books:\n",
            "To Kill a Mockingbird by 12 is Harper Lee\n",
            "The Great Gatsby by 15 is F. Scott Fitzgerald\n",
            "Alice has returned \"1984\".\n",
            "Available books:\n",
            "To Kill a Mockingbird by 12 is Harper Lee\n",
            "The Great Gatsby by 15 is F. Scott Fitzgerald\n",
            "1984 by 10 is George Orwell\n"
          ]
        }
      ]
    },
    {
      "cell_type": "markdown",
      "source": [
        "\n",
        "2️⃣2️⃣ Create an Employee Management System\n",
        "Create an Employee class and Manager class that extends Employee.\n",
        "Implement salary increments."
      ],
      "metadata": {
        "id": "maDlDu5e_tG9"
      }
    },
    {
      "cell_type": "code",
      "source": [
        "class Employee:\n",
        "  def __init__(self, name, position, salary):\n",
        "      self.name = name\n",
        "      self.position = position\n",
        "      self.salary = salary\n",
        "  def apply_increment(self, percentage):\n",
        "      increment = (self.salary * percentage )/ 100\n",
        "      self.salary += increment\n",
        "      print(f\"{self.name}'s salary after {percentage}% increment: ${self.salary}\")\n",
        "  def __str__(self):\n",
        "      return (f\"{self.name} name {self.position } postion {self.salary}\")\n",
        "\n",
        "\n",
        "class Manager(Employee):\n",
        "    def __init__(self, name, position, salary, department):\n",
        "        super().__init__(name, position, salary)\n",
        "        self.department = department\n",
        "\n",
        "    def apply_increment(self, percentage):\n",
        "      bonus = 10\n",
        "      total_percentage =  percentage + bonus\n",
        "      increment = (total_percentage * self.salary)/100\n",
        "      self.salary +=  increment\n",
        "\n",
        "    def __str__(self):\n",
        "        return f\"Manager Name: {self.name}, Position: {self.position}, Department: {self.department}, Salary: ${self.salary}\"\n",
        "\n",
        "\n",
        "\n",
        "employee = Employee(\"John Doe\", \"Software Engineer\", 60000)\n",
        "manager = Manager(\"Jane Smith\", \"Project Manager\", 80000, \"Development\")\n",
        "\n",
        "# Display initial details\n",
        "print(employee)\n",
        "print(manager)\n",
        "\n",
        "# Apply salary increments\n",
        "employee.apply_increment(5)\n",
        "manager.apply_increment(5)\n",
        "\n",
        "# Display updated details\n",
        "print(employee)\n",
        "print(manager)\n"
      ],
      "metadata": {
        "colab": {
          "base_uri": "https://localhost:8080/"
        },
        "id": "W4JEKgFESw19",
        "outputId": "da4106b3-0f24-4fda-b4a8-4e9103b83058"
      },
      "execution_count": null,
      "outputs": [
        {
          "output_type": "stream",
          "name": "stdout",
          "text": [
            "John Doe name Software Engineer postion 60000\n",
            "Manager Name: Jane Smith, Position: Project Manager, Department: Development, Salary: $80000\n",
            "John Doe's salary after 5% increment: $63000.0\n",
            "John Doe name Software Engineer postion 63000.0\n",
            "Manager Name: Jane Smith, Position: Project Manager, Department: Development, Salary: $92000.0\n"
          ]
        }
      ]
    },
    {
      "cell_type": "code",
      "source": [
        "class Employee:\n",
        "    def __init__(self, name, position, salary):\n",
        "        self.name = name\n",
        "        self.position = position\n",
        "        self.salary = salary\n",
        "\n",
        "    def apply_increment(self, percentage):\n",
        "        # Calculate the increment\n",
        "        increment = (self.salary * percentage) / 100\n",
        "        self.salary += increment\n",
        "        print(f\"{self.name}'s salary after {percentage}% increment: ${self.salary:.2f}\")\n",
        "\n",
        "    def __str__(self):\n",
        "        return f\"Employee Name: {self.name}, Position: {self.position}, Salary: ${self.salary:.2f}\"\n",
        "\n",
        "\n",
        "class Manager(Employee):\n",
        "    def __init__(self, name, position, salary, department):\n",
        "        super().__init__(name, position, salary)  # Call the base class constructor\n",
        "        self.department = department\n",
        "\n",
        "    def apply_increment(self, percentage):\n",
        "        # Managers get a special bonus of 10% in addition to the salary increment\n",
        "        bonus = 10\n",
        "        total_percentage = percentage + bonus\n",
        "        increment = (self.salary * total_percentage) / 100\n",
        "        self.salary += increment\n",
        "        print(f\"{self.name}'s salary after {total_percentage}% increment (with bonus): ${self.salary:.2f}\")\n",
        "\n",
        "    def __str__(self):\n",
        "        return f\"Manager Name: {self.name}, Position: {self.position}, Department: {self.department}, Salary: ${self.salary:.2f}\"\n",
        "\n",
        "\n",
        "employee = Employee(\"John Doe\", \"Software Engineer\", 60000)\n",
        "manager = Manager(\"Jane Smith\", \"Project Manager\", 80000, \"Development\")\n",
        "\n",
        "# Display initial details\n",
        "print(employee)\n",
        "print(manager)\n",
        "\n",
        "# Apply salary increments\n",
        "employee.apply_increment(5)  # 5% increment for Employee\n",
        "manager.apply_increment(5)   # 5% increment for Manager, but with additional bonus\n",
        "\n",
        "# Display updated details\n",
        "print(employee)\n",
        "print(manager)\n"
      ],
      "metadata": {
        "colab": {
          "base_uri": "https://localhost:8080/"
        },
        "id": "jypNXoY1FiFq",
        "outputId": "c883fff8-440b-423c-94b8-70d59e587f1d"
      },
      "execution_count": null,
      "outputs": [
        {
          "output_type": "stream",
          "name": "stdout",
          "text": [
            "Employee Name: John Doe, Position: Software Engineer, Salary: $60000.00\n",
            "Manager Name: Jane Smith, Position: Project Manager, Department: Development, Salary: $80000.00\n",
            "John Doe's salary after 5% increment: $63000.00\n",
            "Jane Smith's salary after 15% increment (with bonus): $92000.00\n",
            "Employee Name: John Doe, Position: Software Engineer, Salary: $63000.00\n",
            "Manager Name: Jane Smith, Position: Project Manager, Department: Development, Salary: $92000.00\n"
          ]
        }
      ]
    },
    {
      "cell_type": "markdown",
      "source": [
        "2️⃣3️⃣ Develop a Shopping Cart System\n",
        "Create a Product class and Cart class where users can add/remove items and get the total price."
      ],
      "metadata": {
        "id": "toAk8I48JZna"
      }
    },
    {
      "cell_type": "code",
      "source": [
        "class Product:\n",
        "    def __init__(self, name, price, quntity):\n",
        "        self.name = name\n",
        "        self.price = price\n",
        "        self.quntity = quntity\n",
        "    def total_price(self ):\n",
        "        self.price * self.quntity\n",
        "class Cart:\n",
        "    def __init__(self):\n",
        "        self.items = [ ]\n",
        "    def add_product(self, product):\n",
        "        self.items.append(product)\n",
        "        return self.items\n",
        "    def remove_product(self, product_name):\n",
        "        for item in self.items:\n",
        "            if item.name == product_name:\n",
        "                self.items.remove(item)\n",
        "                return(f\"{product_name} product remove your cart\")\n",
        "        return(f\"{product_name} product not found your cart\")\n",
        "\n",
        "    def get_total_price(self, ):\n",
        "        total = 0\n",
        "        for item in self.items:\n",
        "            total+= item.total_price()\n",
        "            return total\n",
        "obj = Product(\"phone\", 50000, 1)\n",
        "obj.total_price()"
      ],
      "metadata": {
        "id": "PbV_9DO51yNR"
      },
      "execution_count": null,
      "outputs": []
    },
    {
      "cell_type": "code",
      "source": [
        "# Product class\n",
        "class Product:\n",
        "    def __init__(self, name, price, quantity=1):\n",
        "        self.name = name\n",
        "        self.price = price\n",
        "        self.quantity = quantity\n",
        "\n",
        "    def __str__(self):\n",
        "        return f\"{self.name} - ${self.price} (Quantity: {self.quantity})\"\n",
        "\n",
        "    def total_price(self):\n",
        "        return self.price * self.quantity\n",
        "\n",
        "# Cart class\n",
        "class Cart:\n",
        "    def __init__(self):\n",
        "        self.items = []  # List to store products\n",
        "\n",
        "    def add_product(self, product):\n",
        "        # Check if product already exists in the cart, if so, update the quantity\n",
        "        for item in self.items:\n",
        "            if item.name == product.name:\n",
        "                item.quantity += product.quantity\n",
        "                return\n",
        "        # If the product is not in the cart, add a new product\n",
        "        self.items.append(product)\n",
        "\n",
        "    def remove_product(self, product_name):\n",
        "        for item in self.items:\n",
        "            if item.name == product_name:\n",
        "                self.items.remove(item)\n",
        "                print(f\"{product_name} has been removed from the cart.\")\n",
        "                return\n",
        "        print(f\"{product_name} is not in the cart.\")\n",
        "\n",
        "    def total_price(self):\n",
        "        return sum(item.total_price() for item in self.items)\n",
        "\n",
        "    def display_cart(self):\n",
        "        if not self.items:\n",
        "            print(\"Your cart is empty.\")\n",
        "        else:\n",
        "            print(\"Items in your cart:\")\n",
        "            for item in self.items:\n",
        "                print(item)\n",
        "\n",
        "# Create some product instances\n",
        "product1 = Product(\"Laptop\", 1200, 1)\n",
        "product2 = Product(\"Phone\", 800, 2)\n",
        "product3 = Product(\"Headphones\", 150, 3)\n",
        "\n",
        "# Create a cart instance\n",
        "cart = Cart()\n",
        "\n",
        "# Add products to the cart\n",
        "cart.add_product(product1)\n",
        "cart.add_product(product2)\n",
        "cart.add_product(product3)\n",
        "\n",
        "# Display cart and total price\n",
        "cart.display_cart()\n",
        "print(f\"Total Price: ${cart.total_price()}\")\n",
        "\n",
        "# Remove a product from the cart\n",
        "cart.remove_product(\"Phone\")\n",
        "\n",
        "# Display updated cart and total price\n",
        "cart.display_cart()\n",
        "print(f\"Total Price after removal: ${cart.total_price()}\")\n"
      ],
      "metadata": {
        "id": "Ec7MqDlJJZN4"
      },
      "execution_count": null,
      "outputs": []
    },
    {
      "cell_type": "markdown",
      "source": [
        "\n",
        "\n",
        "\n",
        "\n",
        "\n",
        "2️⃣4️⃣ Build a Simple Game Using OOP\n",
        "Create a Character class with attack(), defend(), and health.\n",
        "Create subclasses like Warrior and Mage with unique powers.\n"
      ],
      "metadata": {
        "id": "7-0iXT47Nhp9"
      }
    },
    {
      "cell_type": "code",
      "source": [],
      "metadata": {
        "id": "xuaMcPJ16hI_"
      },
      "execution_count": null,
      "outputs": []
    },
    {
      "cell_type": "markdown",
      "source": [
        "Create a class Student with attributes name and marks.\n",
        "Implement a class method to count the total number of students.\n",
        "Implement a static method to check if a given mark is a passing mark."
      ],
      "metadata": {
        "id": "gToUK0QgEsWo"
      }
    },
    {
      "cell_type": "code",
      "source": [
        "class Student:\n",
        "    # Class variable to keep track of all student instances\n",
        "    total_students = []\n",
        "\n",
        "    def __init__(self, name, marks):\n",
        "        self.name = name\n",
        "        self.marks = marks\n",
        "        # Add the current student instance to the total_students list\n",
        "        Student.total_students.append(self)\n",
        "\n",
        "    @classmethod\n",
        "    def count_total_student(cls):\n",
        "        # Return the count of students by accessing the class variable 'total_students'\n",
        "        return len(cls.total_students)\n",
        "\n",
        "    @staticmethod\n",
        "    def check_marks(marks):\n",
        "        # Checking the marks and determining the result\n",
        "        if marks < 33:\n",
        "            return f\"Marks {marks} are below the passing mark.\"\n",
        "        elif marks == 33:\n",
        "            return f\"Marks {marks} are exactly the passing mark.\"\n",
        "        else:\n",
        "            return f\"Marks {marks} are above the passing mark.\"\n",
        "\n",
        "# Example usage\n",
        "obj1 = Student(\"Amina\", 56)\n",
        "obj2 = Student(\"Ali\", 30)\n",
        "\n",
        "# Get the total number of students\n",
        "print(f\"Total students: {Student.count_total_student()}\")\n",
        "\n",
        "# Check marks for each student\n",
        "print(Student.check_marks(obj1.marks))  # For Amina\n",
        "print(Student.check_marks(obj2.marks))  # For Ali\n"
      ],
      "metadata": {
        "id": "CuvPo1eFEtGu",
        "colab": {
          "base_uri": "https://localhost:8080/"
        },
        "outputId": "fc39f740-22f5-4e4f-cee6-eb5c98f2f925"
      },
      "execution_count": null,
      "outputs": [
        {
          "output_type": "stream",
          "name": "stdout",
          "text": [
            "Total students: 2\n",
            "Marks 56 are above the passing mark.\n",
            "Marks 30 are below the passing mark.\n"
          ]
        }
      ]
    },
    {
      "cell_type": "markdown",
      "source": [
        "\n",
        "Advanced Level\n",
        "Multiple Inheritance\n",
        "\n",
        "Create a class Employee with name and salary.\n",
        "Create a class Manager with department.\n",
        "Create a class TeamLead that inherits from both and displays all attributes.\n",
        "Abstract Class and Method"
      ],
      "metadata": {
        "id": "aOF9bOwXbdlb"
      }
    },
    {
      "cell_type": "code",
      "source": [
        "from abc import  ABC, abstractmethod\n",
        "class Employee:\n",
        "    def __init__(self, name, salary ):\n",
        "        self.name = name\n",
        "        self. salary = salary\n",
        "\n",
        "class Manager:\n",
        "    def __init__(self,department):\n",
        "        self.department = department\n",
        "\n",
        "class TeamLead(Employee, Manager):\n",
        "    def __init__(self, name, salary, department):\n",
        "        Employee.__init__(self, name, salary)\n",
        "        Manager.__init__(self, department)\n",
        "\n",
        "    def show_details(self):\n",
        "        return f\"Employee name is {self.name}, salary is {self.salary}, and department is {self.department}\"\n",
        "\n",
        "obj = TeamLead(\"Amina\", 50000, \"AI Department\")\n",
        "\n",
        "print(obj.show_details())  # Output: Employee name is Amina, salary is 50000, and department is AI Department"
      ],
      "metadata": {
        "colab": {
          "base_uri": "https://localhost:8080/"
        },
        "id": "4XW5S5ANay0L",
        "outputId": "993e5a40-472f-4248-a84a-6e26bf65807c"
      },
      "execution_count": null,
      "outputs": [
        {
          "output_type": "stream",
          "name": "stdout",
          "text": [
            "Employee name is Amina, salary is 50000, and department is AI Department\n"
          ]
        }
      ]
    },
    {
      "cell_type": "code",
      "source": [
        "from abc import ABC, abstractmethod\n",
        "\n",
        "# Abstract base class for employees\n",
        "class Employee(ABC):\n",
        "    def __init__(self, name, salary):\n",
        "        self.name = name\n",
        "        self.salary = salary\n",
        "\n",
        "\n",
        "# Abstract base class for managers\n",
        "class Manager(ABC):\n",
        "    def __init__(self, department):\n",
        "        self.department = department\n",
        "\n",
        "\n",
        "# TeamLead inherits from both Employee and Manager\n",
        "class TeamLead(Employee, Manager):\n",
        "    def __init__(self, name, salary, department):\n",
        "        Employee.__init__(self, name, salary)\n",
        "        Manager.__init__(self, department)\n",
        "\n",
        "    def display(self):\n",
        "        # Single display implementation combining all attributes\n",
        "        print(f\"Name: {self.name}\")\n",
        "        print(f\"Salary: ${self.salary}\")\n",
        "        print(f\"Department: {self.department}\")\n",
        "\n",
        "# Example usage:\n",
        "if __name__ == \"__main__\":\n",
        "    lead = TeamLead(\"Alice Smith\", 95000, \"AI \")\n",
        "    lead.display()\n"
      ],
      "metadata": {
        "id": "Pkqafw9JVbfy",
        "colab": {
          "base_uri": "https://localhost:8080/"
        },
        "outputId": "adc201a9-7977-4bfa-e999-ab220f810cfe"
      },
      "execution_count": null,
      "outputs": [
        {
          "output_type": "stream",
          "name": "stdout",
          "text": [
            "Name: Alice Smith\n",
            "Salary: $95000\n",
            "Department: AI \n"
          ]
        }
      ]
    },
    {
      "cell_type": "markdown",
      "source": [
        "Create an abstract class Shape with an abstract method area().\n",
        "Implement subclasses Rectangle and Triangle that define area().\n"
      ],
      "metadata": {
        "id": "O4ctltW7TDaN"
      }
    },
    {
      "cell_type": "code",
      "source": [
        "from abc import ABC, abstractmethod\n",
        "class Shape(ABC):\n",
        "    pass\n",
        "\n",
        "class Rectangle( Shape):\n",
        "    def __init__(self,width, height):\n",
        "        self.width = width\n",
        "        self.height = height\n",
        "    def area(self):\n",
        "        return self.width * self.height\n",
        "class Triangle( Shape):\n",
        "    def __init__(self, base, height):\n",
        "        self.base = base\n",
        "        self.height = height\n",
        "    def triangle_area(self):\n",
        "        return(0.5 * self.base * self.height)\n",
        "\n",
        "obj1 = Rectangle(2,5)\n",
        "obj1.area()\n",
        "obj2 = Triangle(3, 6)\n",
        "obj2.triangle_area()"
      ],
      "metadata": {
        "id": "hRnwn6NXTI1V",
        "colab": {
          "base_uri": "https://localhost:8080/"
        },
        "outputId": "4fad41bd-f713-463e-89ab-a8ab2eaabb54"
      },
      "execution_count": null,
      "outputs": [
        {
          "output_type": "execute_result",
          "data": {
            "text/plain": [
              "9.0"
            ]
          },
          "metadata": {},
          "execution_count": 34
        }
      ]
    },
    {
      "cell_type": "markdown",
      "source": [
        "\n",
        "\n",
        "Factory Method Pattern\n",
        "\n",
        "Implement a factory method that returns different types of vehicles (Car, Bike) based on input.\n",
        "Decorator in OOP\n",
        "\n",
        "Implement a decorator that logs the execution time of any method inside a class."
      ],
      "metadata": {
        "id": "kcYZT2iX4Wv8"
      }
    },
    {
      "cell_type": "code",
      "source": [
        "class factory:\n",
        "    def __init__(self, car, Bike):\n",
        "        self.car = car\n",
        "        self.Bike = Bike\n",
        "\n",
        "    def  vehicle_types(self):\n"
      ],
      "metadata": {
        "id": "Iv3KdhIABfFL"
      },
      "execution_count": null,
      "outputs": []
    },
    {
      "cell_type": "markdown",
      "source": [
        "🔄 Intermediate Level (Loops, Lists, Logic)\n",
        "\n",
        "\n",
        "Count Vowels in a String\n",
        "Count how many vowels are in a given string.\n",
        "\n",
        "\n"
      ],
      "metadata": {
        "id": "2aE_Ybbp04gP"
      }
    },
    {
      "cell_type": "code",
      "source": [
        "def count_vowels(user_input):\n",
        "    vowels = \"aioueAIOUE\"\n",
        "    count = 0\n",
        "    for char in user_input:\n",
        "        if char in vowels:\n",
        "           count+=1\n",
        "    return count\n",
        "user_input = \"amina\"\n",
        "count_vowels(user_input)"
      ],
      "metadata": {
        "colab": {
          "base_uri": "https://localhost:8080/"
        },
        "id": "YX-QLNZ61oyX",
        "outputId": "9bc8f958-1bee-490d-84ab-d012a6d74228"
      },
      "execution_count": null,
      "outputs": [
        {
          "output_type": "execute_result",
          "data": {
            "text/plain": [
              "3"
            ]
          },
          "metadata": {},
          "execution_count": 14
        }
      ]
    },
    {
      "cell_type": "markdown",
      "source": [
        "\n",
        "Fibonacci Sequence Generator\n",
        "Print the first n numbers in the Fibonacci sequence.\n",
        "\n"
      ],
      "metadata": {
        "id": "B0F8pSwV1rPV"
      }
    },
    {
      "cell_type": "code",
      "source": [
        "def fibonacci_sequence(number):\n",
        "    if number== 0:\n",
        "        return 0\n",
        "    elif number == 1:\n",
        "        return 1\n",
        "    else:\n",
        "        Fibonacci_of =  fibonacci_sequence(number-1) + fibonacci_sequence(number - 2)\n",
        "        return Fibonacci_of\n",
        "number = 3\n",
        "fibonacci_sequence(number)"
      ],
      "metadata": {
        "colab": {
          "base_uri": "https://localhost:8080/"
        },
        "id": "qWvlsxex46eo",
        "outputId": "2b039adb-8b81-4842-f85f-9404e9dfec91"
      },
      "execution_count": null,
      "outputs": [
        {
          "output_type": "execute_result",
          "data": {
            "text/plain": [
              "2"
            ]
          },
          "metadata": {},
          "execution_count": 1
        }
      ]
    },
    {
      "cell_type": "markdown",
      "source": [
        "Number Guessing Game\n",
        "Create a game where the user guesses a number between 1 and 100, with hints like \"Too high\" or \"Too low\".\n",
        "\n"
      ],
      "metadata": {
        "id": "q57gPNwS1s6H"
      }
    },
    {
      "cell_type": "code",
      "source": [
        "import random\n",
        "\n",
        "\n"
      ],
      "metadata": {
        "id": "3V8_8FXGt2Db"
      },
      "execution_count": null,
      "outputs": []
    },
    {
      "cell_type": "code",
      "source": [
        "import random\n",
        "\n",
        "\n",
        "    # Generate a random number between 1 and 100\n",
        "    secret_number = random.randint(1, 100)\n",
        "    attempts = 0\n",
        "    while True:\n",
        "        guess = input(\"Enter your guess: \")\n",
        "        if not guess.isdigit():\n",
        "            print(\"Please enter a valid number.\")\n",
        "            continue\n",
        "\n",
        "        guess = int(guess)\n",
        "        attempts += 1\n",
        "\n",
        "        # Check if the guess is too high, too low, or correct\n",
        "        if guess < secret_number:\n",
        "            print(\"Too low! Try again.\")\n",
        "        elif guess > secret_number:\n",
        "            print(\"Too high! Try again.\")\n",
        "        else:\n",
        "            print(f\"Congratulations! You've guessed the number {secret_number} correctly in {attempts} attempts!\")\n",
        "            break\n",
        "\n",
        "# Call the game function to start the game\n",
        "number_guessing_game()\n"
      ],
      "metadata": {
        "id": "bs0XaVtey9fo"
      },
      "execution_count": null,
      "outputs": []
    },
    {
      "cell_type": "markdown",
      "source": [
        "Reverse a Number\n",
        "Reverse the digits of an input number without using string conversion.\n",
        "\n"
      ],
      "metadata": {
        "id": "5UptGR5E1ulq"
      }
    },
    {
      "cell_type": "code",
      "source": [
        "def reverse_digits(num):\n",
        "    reverse = 0\n",
        "    while num > 0:\n",
        "        last_digt = num % 10\n",
        "        reverse = reverse * 10 + last_digt\n",
        "        num = num // 10\n",
        "    return reverse\n",
        "# We use both operations to separate the last digit of the number and then remove that digit from the original number. Here's why:\n",
        "# last_digit = num % 10 extracts the last digit, which is added to the reversed number.\n",
        "# num = num // 10 removes the last digit so we can extract the next digit in the next iteration.\n",
        "\n",
        "number = 12345\n",
        "reverse_digits(number)"
      ],
      "metadata": {
        "id": "E4udvsu41wIL",
        "colab": {
          "base_uri": "https://localhost:8080/"
        },
        "outputId": "8912f374-0849-4c11-a9d0-7811ebd4f6a1"
      },
      "execution_count": null,
      "outputs": [
        {
          "output_type": "execute_result",
          "data": {
            "text/plain": [
              "54321"
            ]
          },
          "metadata": {},
          "execution_count": 12
        }
      ]
    },
    {
      "cell_type": "markdown",
      "source": [
        "Sum of Digits\n",
        "Input a number and calculate the sum of its digits."
      ],
      "metadata": {
        "id": "28Oh9EDB1w5k"
      }
    },
    {
      "cell_type": "code",
      "source": [
        "def sum_digit(number):\n",
        "\n",
        "    numbers_sum = sum(int(num) for num in str(number))\n",
        "    return numbers_sum\n",
        "\n",
        "number = 12345\n",
        "sum_digit(number)"
      ],
      "metadata": {
        "colab": {
          "base_uri": "https://localhost:8080/"
        },
        "id": "SNLQQlsbrfkg",
        "outputId": "bba1f767-602b-4982-8635-d9c304100b5d"
      },
      "execution_count": null,
      "outputs": [
        {
          "output_type": "execute_result",
          "data": {
            "text/plain": [
              "15"
            ]
          },
          "metadata": {},
          "execution_count": 26
        }
      ]
    },
    {
      "cell_type": "code",
      "source": [
        "def sum_digit(number):\n",
        "  sums = []\n",
        "  for num in number:\n",
        "      num"
      ],
      "metadata": {
        "id": "9s9pjRLcqhb8"
      },
      "execution_count": null,
      "outputs": []
    },
    {
      "cell_type": "markdown",
      "source": [
        "🧠 Logical Thinking Challenges\n",
        "Find the Missing Number\n",
        "From a list of n numbers from 1 to n+1, find the missing number.\n",
        "\n",
        "\n",
        "Check Armstrong Number\n",
        "An Armstrong number is a number such that the sum of its digits raised to the power of number of digits is equal to the number itself (e.g. 153).\n",
        "\n",
        "\n",
        "Prime Number Checker\n",
        "Write a function that returns whether a number is prime.\n",
        "\n",
        "\n",
        "Count Words in a Sentence\n",
        "Take a string and count how many words are in it (words are separated by spaces).\n",
        "\n",
        "\n",
        "FizzBuzz Problem\n",
        "Print numbers from 1 to 50. For multiples of 3, print “Fizz”, for multiples of 5, print “Buzz”, and for multiples of both, print “FizzBuzz\"."
      ],
      "metadata": {
        "id": "oD97YC-z08FX"
      }
    },
    {
      "cell_type": "code",
      "source": [],
      "metadata": {
        "id": "1YTdx3pF1B8A"
      },
      "execution_count": null,
      "outputs": []
    }
  ]
}