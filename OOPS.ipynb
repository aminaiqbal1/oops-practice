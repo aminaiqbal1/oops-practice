{
  "cells": [
    {
      "cell_type": "markdown",
      "source": [
        "Create a Car class with attributes brand and model. Write a method to display the car's details."
      ],
      "metadata": {
        "id": "XjjhT_iMbl_4"
      }
    },
    {
      "cell_type": "code",
      "source": [
        "class Car:\n",
        "\n",
        "    brand = \"honda civik\"\n",
        "    model = 2023\n",
        "    def display(slef):\n",
        "        print(f\" caer brand name is {Car.brand},\\n car model is {Car. model}\")\n",
        "ob = Car()\n",
        "ob.display()"
      ],
      "metadata": {
        "colab": {
          "base_uri": "https://localhost:8080/"
        },
        "id": "L6nCxUpubwEK",
        "outputId": "ba07447f-512b-4358-a11e-bac3a67a06e0"
      },
      "execution_count": null,
      "outputs": [
        {
          "output_type": "stream",
          "name": "stdout",
          "text": [
            " caer brand name is honda civik,\n",
            " car model is 2023\n"
          ]
        }
      ]
    },
    {
      "cell_type": "markdown",
      "source": [
        "2 Implement a class Circle with methods to calculate the area and circumference."
      ],
      "metadata": {
        "id": "w5GEJ6MQdo78"
      }
    },
    {
      "cell_type": "code",
      "source": [
        "import math\n",
        "class Circle:\n",
        "    def __init__(self, radius):\n",
        "        self.radius = radius\n",
        "    def area (self):\n",
        "        return math.pi * self.radius\n",
        "    def circumference(self):\n",
        "        return 2 * math.pi * self.radius\n",
        "ob = Circle(45)\n",
        "ob.area()\n",
        "ob.circumference()"
      ],
      "metadata": {
        "colab": {
          "base_uri": "https://localhost:8080/"
        },
        "id": "DEcrAhYDdqTS",
        "outputId": "59c524d0-efe7-452b-9c54-2ddb56147e69"
      },
      "execution_count": null,
      "outputs": [
        {
          "output_type": "execute_result",
          "data": {
            "text/plain": [
              "282.7433388230814"
            ]
          },
          "metadata": {},
          "execution_count": 9
        }
      ]
    },
    {
      "cell_type": "markdown",
      "source": [
        "Create a Person class with a constructor to initialize name and age. Add a method to display these details."
      ],
      "metadata": {
        "id": "KL7N5w1prYK2"
      }
    },
    {
      "cell_type": "code",
      "source": [
        "class Person:\n",
        "    def __init__(self, name, age ):\n",
        "        self.name = name\n",
        "        self. age = age\n",
        "    def display(self):\n",
        "        print(f\" my name is {self.name}, \\n and age is {self.age }\")\n",
        "ob = Person(\"amina  iqbal\", 26)\n",
        "ob.display()"
      ],
      "metadata": {
        "colab": {
          "base_uri": "https://localhost:8080/"
        },
        "id": "vwgfCTD4rZmo",
        "outputId": "4b45dc00-9aa0-41fe-9452-7b82d2d031ec"
      },
      "execution_count": null,
      "outputs": [
        {
          "output_type": "stream",
          "name": "stdout",
          "text": [
            " my name is amina  iqbal, \n",
            " and age is 26\n"
          ]
        }
      ]
    },
    {
      "cell_type": "markdown",
      "source": [
        "Write a class Student with a method to calculate the average marks of a student from a list of marks."
      ],
      "metadata": {
        "id": "HbNoNsthtLU1"
      }
    },
    {
      "cell_type": "code",
      "source": [
        "class Student:\n",
        "    def __init__(self, name, *marks  ):\n",
        "        self.name = name\n",
        "        self.marks = marks\n",
        "        self.results = None\n",
        "    def calculate_marks(self):\n",
        "        self.results = sum ( self.marks)/ len( self.marks)\n",
        "        print(self.results)\n",
        "    def disply (self):\n",
        "        print(f\" my name is {self.name}, my marks is {self.marks } and avargemarks is {self.results }\")\n",
        "ob = Student(\"amina iqbal\", 33, 45, 60)\n",
        "ob.calculate_marks()\n",
        "ob.disply()"
      ],
      "metadata": {
        "id": "KSZbEIq-tOsy",
        "colab": {
          "base_uri": "https://localhost:8080/"
        },
        "outputId": "b2e5a632-b89a-450d-f1dd-02e9deea25e0"
      },
      "execution_count": null,
      "outputs": [
        {
          "output_type": "stream",
          "name": "stdout",
          "text": [
            "46.0\n",
            " my name is amina iqbal, my marks is (33, 45, 60) and avargemarks is 46.0\n"
          ]
        }
      ]
    },
    {
      "cell_type": "code",
      "source": [
        "class Student:\n",
        "    def __init__(self, name, *marks ):\n",
        "        self.name = name\n",
        "        self.marks = marks\n",
        "    def calculate_marks(self):\n",
        "        return sum ( self.marks)/ len( self.marks)\n",
        "\n",
        "    def disply (self):\n",
        "        print(f\" my name is {self.name}, my marks is {self.marks }\")\n",
        "ob = Student(\"amina iqbal\", 33, 45, 60)\n",
        "ob.calculate_marks()\n",
        "ob.disply()"
      ],
      "metadata": {
        "colab": {
          "base_uri": "https://localhost:8080/"
        },
        "id": "iHcHLIIFNcl9",
        "outputId": "e10b0623-7658-48b7-9cab-dee1132e0c9d"
      },
      "execution_count": null,
      "outputs": [
        {
          "output_type": "stream",
          "name": "stdout",
          "text": [
            " my name is amina iqbal, my marks is (33, 45, 60)\n"
          ]
        }
      ]
    },
    {
      "cell_type": "markdown",
      "source": [
        "Create a Book class with attributes title, author, and price. Add a method to apply a discount to the book price."
      ],
      "metadata": {
        "id": "3MJumBjnNV_j"
      }
    },
    {
      "cell_type": "code",
      "source": [
        "class  Book:\n",
        "    def __init__(self, title, author, price):\n",
        "        self.title = title\n",
        "        self. author = author\n",
        "        self. price = price\n",
        "    def book_price(self, discount_price ):\n",
        "        if 0 <= discount_price <=  100:\n",
        "            less_price = self.price * (discount_price/100)\n",
        "            self.price-=less_price\n",
        "        else:\n",
        "\n",
        "            print(\" sorry price is haigh \")\n",
        "    def __str__(self):\n",
        "        return f\" Book is : {self.title}, Author is : {self.author}, Price is : {self.price:}\"\n",
        "\n",
        "ob= Book(\"python\", \"harry\", 1200)\n",
        "ob.book_price(50)\n",
        "print(ob)"
      ],
      "metadata": {
        "id": "Vv9ZXXjdNW4l",
        "colab": {
          "base_uri": "https://localhost:8080/"
        },
        "outputId": "cd0cba75-6a74-49d9-a344-c55ca9f9296f"
      },
      "execution_count": null,
      "outputs": [
        {
          "output_type": "stream",
          "name": "stdout",
          "text": [
            " Book is : python, Author is : harry, Price is : 600.0\n"
          ]
        }
      ]
    },
    {
      "cell_type": "markdown",
      "source": [
        "Define a Rectangle class to calculate the perimeter and area of a rectangle."
      ],
      "metadata": {
        "id": "dS5ls0INmoka"
      }
    },
    {
      "cell_type": "code",
      "source": [
        "class  Rectangle:\n",
        "    def __init__(self, l, w):\n",
        "        self.l = l\n",
        "        self.w = w\n",
        "    def calculate_perimeter(self):\n",
        "        return  2*((self.l)+(self.w))\n",
        "    def calculate_area(self):\n",
        "        return (self.l)*(self.w)\n",
        "\n",
        "ob = Rectangle(6,4)\n",
        "ob.calculate_perimeter()\n",
        "ob.calculate_area()\n"
      ],
      "metadata": {
        "colab": {
          "base_uri": "https://localhost:8080/"
        },
        "id": "NrvxT5blmqDd",
        "outputId": "61f11df6-1b17-4bb1-8d37-ed32c25f6d7b"
      },
      "execution_count": null,
      "outputs": [
        {
          "output_type": "execute_result",
          "data": {
            "text/plain": [
              "24"
            ]
          },
          "metadata": {},
          "execution_count": 4
        }
      ]
    },
    {
      "cell_type": "markdown",
      "source": [
        "Write a Temperature class to convert temperatures between Celsius and Fahrenheit.\n",
        "\n",
        "![image.png](data:image/png;base64,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)"
      ],
      "metadata": {
        "id": "BVts4uxIALA_"
      }
    },
    {
      "cell_type": "code",
      "source": [
        "class Temperature:\n",
        "    def __init__(self, celsius=None, fahrenheit=None):\n",
        "        self.celsius = celsius\n",
        "        self.fahrenheit = fahrenheit\n",
        "\n",
        "    def to_celsius(self):\n",
        "        if self.fahrenheit is not None:\n",
        "            return (self.fahrenheit - 32) * 5 / 9\n",
        "        else:\n",
        "            return self.celsius  # Already in Celsius\n",
        "\n",
        "    def to_fahrenheit(self):\n",
        "        if self.celsius is not None:\n",
        "            return (self.celsius * 9 / 5) + 32\n",
        "        else:\n",
        "            return self.fahrenheit  # Already in Fahrenheit\n",
        "\n",
        "\n",
        "# Example usage:\n",
        "temp1 = Temperature(celsius=25)\n",
        "print(temp1.to_fahrenheit())  # Converts 25°C to Fahrenheit\n",
        "\n",
        "temp2 = Temperature(fahrenheit=77)\n",
        "print(temp2.to_celsius())  # Converts 77°F to Celsius\n"
      ],
      "metadata": {
        "colab": {
          "base_uri": "https://localhost:8080/"
        },
        "id": "dOLoAXi_asbP",
        "outputId": "da4d5666-fcdf-4b03-c522-e51d71be5dcc"
      },
      "execution_count": null,
      "outputs": [
        {
          "output_type": "stream",
          "name": "stdout",
          "text": [
            "77.0\n",
            "25.0\n"
          ]
        }
      ]
    },
    {
      "cell_type": "code",
      "source": [
        "class Temperature:\n",
        "    def __init__(self, celsius= None, fahrenheit = None):\n",
        "        self.celsius = celsius\n",
        "        self.fahrenheit = fahrenheit\n",
        "\n",
        "    def to_celsius(self):\n",
        "        if self.celsius is not None:\n",
        "            return (self.fahrenheit - 32) * 5 / 9\n",
        "\n",
        "    def to_fahrenheit(self):\n",
        "        if self.fahrenheit is not None:\n",
        "            return (self.celsius * 9/5) + 32\n",
        "temp1 = Temperature(celsius = 25)\n",
        "print(temp1.to_fahrenheit())\n",
        "temp2 = Temperature(fahrenheit = 77)\n",
        "print(temp2.to_celsius())\n"
      ],
      "metadata": {
        "colab": {
          "base_uri": "https://localhost:8080/"
        },
        "id": "StEurXg6SNmW",
        "outputId": "de51048c-a8d8-41e2-979e-01889eeaffff"
      },
      "execution_count": null,
      "outputs": [
        {
          "output_type": "stream",
          "name": "stdout",
          "text": [
            "None\n",
            "None\n"
          ]
        }
      ]
    },
    {
      "cell_type": "code",
      "source": [],
      "metadata": {
        "id": "X6Tp2qcEAomA"
      },
      "execution_count": null,
      "outputs": []
    },
    {
      "cell_type": "code",
      "source": [
        "class Book:\n",
        "    def __init__(self, title, author, price):\n",
        "        self.title = title\n",
        "        self.author = author\n",
        "        self.price = price\n",
        "\n",
        "    def apply_discount(self, discount_percentage):\n",
        "        if 0 <= discount_percentage <= 100:\n",
        "            discount_amount = self.price * (discount_percentage / 100)\n",
        "            self.price -= discount_amount\n",
        "        else:\n",
        "            raise ValueError(\"Discount percentage must be between 0 and 100.\")\n",
        "\n",
        "    def __str__(self):\n",
        "        return (f\"Book: {self.title}, Author: {self.author}, Price: {self.price:.2f}\")\n",
        "\n",
        "book = Book(\"Python Programming\", \"John Doe\", 50.0)\n",
        "print(book)  # Before applying discount\n",
        "book.apply_discount(20)  # Apply a 20% discount\n",
        "print(book)  # After applying discount\n"
      ],
      "metadata": {
        "id": "hEaXMTq8xBu7",
        "colab": {
          "base_uri": "https://localhost:8080/"
        },
        "outputId": "46abc3a0-787b-4538-934b-3c771609a938"
      },
      "execution_count": null,
      "outputs": [
        {
          "output_type": "stream",
          "name": "stdout",
          "text": [
            "Book: Python Programming, Author: John Doe, Price: 50.00\n",
            "Book: Python Programming, Author: John Doe, Price: 40.00\n"
          ]
        }
      ]
    },
    {
      "cell_type": "markdown",
      "metadata": {
        "id": "NCDwly1zHyh-"
      },
      "source": [
        "Encapsulation Example: Create a class BankAccount with private attributes _balance. Add methods to deposit, withdraw, and check_balance."
      ]
    },
    {
      "cell_type": "code",
      "execution_count": null,
      "metadata": {
        "colab": {
          "background_save": true,
          "base_uri": "https://localhost:8080/",
          "height": 211
        },
        "id": "PccAE5xFHvL9",
        "outputId": "c6d64dfc-d98b-4423-b5c0-cd1b0a98e644"
      },
      "outputs": [
        {
          "name": "stdout",
          "output_type": "stream",
          "text": [
            " 1000 : amount is secsefully withdraw, , NOW total balance is 3000\n",
            " 6000 : amount is secsefully deposited , NOW total balance is 10000\n"
          ]
        }
      ],
      "source": [
        "class BankAccount:\n",
        "    def __init__(self,balance):\n",
        "        self. _balance = balance\n",
        "        # self. pasword = pasword\n",
        "    def deposit(self, amount):\n",
        "        if amount > 0:\n",
        "            self. _balance += amount\n",
        "            print(f\" {amount  } : amount is secsefully deposited , NOW total balance is { self. _balance}\")\n",
        "        else:\n",
        "            print(\"please wait sorry  not send money\")\n",
        "    def withdraw(self, amount):\n",
        "        if self. _balance <= 5000:\n",
        "            self. _balance -= amount\n",
        "            print(f\" {amount  } : amount is secsefully withdraw, , NOW total balance is { self. _balance}\")\n",
        "        else:\n",
        "            print(\"please wait sorry  not send money\")\n",
        "    def check_balance(self):\n",
        "        print(self._balance)\n",
        "ob = BankAccount(4000)\n",
        "\n",
        "ob.withdraw(1000)\n",
        "\n",
        "ob = BankAccount(4000)\n",
        "ob.deposit(6000)"
      ]
    },
    {
      "cell_type": "markdown",
      "metadata": {
        "id": "Uf8rtyOfMhC5"
      },
      "source": [
        "Constructor Usage: Write a Student class that initializes the student's name, age, and roll_number using a constructor. Add a method to display these details."
      ]
    },
    {
      "cell_type": "code",
      "execution_count": null,
      "metadata": {
        "colab": {
          "base_uri": "https://localhost:8080/"
        },
        "id": "yiXF7dxjMz89",
        "outputId": "fcdc5a47-8ac9-488e-8795-121313a09c05"
      },
      "outputs": [
        {
          "name": "stdout",
          "output_type": "stream",
          "text": [
            " my name is amina iqbal,\n",
            "my age is 26,\n",
            "and my class rolenumber is 4567\n"
          ]
        }
      ],
      "source": [
        "class Student:\n",
        "    def __init__(self,name, age, roll_number):\n",
        "        self.name = name\n",
        "        self.age = age\n",
        "        self.roll_number = roll_number\n",
        "    def display (self):\n",
        "        print(f\" my name is {self.name},\\nmy age is {self.age},\\nand my class rolenumber is {self.roll_number}\")\n",
        "obj = Student(\"amina iqbal\", 26 , 4567)\n",
        "obj.display()\n"
      ]
    },
    {
      "cell_type": "markdown",
      "metadata": {
        "id": "vtIMNiqcOeBc"
      },
      "source": [
        "Inheritance Basics: Create a parent class Animal with a method make_sound(). Create a subclass Dog that overrides make_sound() to print \"Bark\"."
      ]
    },
    {
      "cell_type": "code",
      "execution_count": null,
      "metadata": {
        "colab": {
          "base_uri": "https://localhost:8080/"
        },
        "id": "3FwrvdYOOe1D",
        "outputId": "f44a62b7-902b-4c21-f681-28da009347fa"
      },
      "outputs": [
        {
          "name": "stdout",
          "output_type": "stream",
          "text": [
            "animal sound is very bad \n"
          ]
        }
      ],
      "source": [
        "class Animal:\n",
        "    def make_sound(self):\n",
        "        print(\"animal sound is very bad \")\n",
        "class Dog(Animal):\n",
        "    def make_sound(self):\n",
        "        return super().make_sound()\n",
        "obj1 = Dog()\n",
        "obj1.make_sound()"
      ]
    },
    {
      "cell_type": "code",
      "execution_count": null,
      "metadata": {
        "colab": {
          "base_uri": "https://localhost:8080/"
        },
        "id": "q41YiOmAP6pz",
        "outputId": "6376d64c-8c23-48af-ac09-b06d53dbe5a3"
      },
      "outputs": [
        {
          "name": "stdout",
          "output_type": "stream",
          "text": [
            "Bark\n"
          ]
        }
      ],
      "source": [
        "class Animal:\n",
        "    def make_sound(self):\n",
        "        print(\"animal sound is very bad \")\n",
        "class Dog(Animal):\n",
        "    def make_sound(self):\n",
        "        print(\"Bark\")\n",
        "obj1 = Dog()\n",
        "obj1.make_sound()"
      ]
    },
    {
      "cell_type": "markdown",
      "metadata": {
        "id": "zIMlpAhzKcMS"
      },
      "source": [
        "Static Methods: Write a class MathOperations with a static method add(a, b) that returns the sum of two numbers."
      ]
    },
    {
      "cell_type": "code",
      "execution_count": null,
      "metadata": {
        "colab": {
          "base_uri": "https://localhost:8080/"
        },
        "id": "dGNH6i6EKdDz",
        "outputId": "f38d5362-fe5d-410e-c9d9-5135bc8000aa"
      },
      "outputs": [
        {
          "name": "stdout",
          "output_type": "stream",
          "text": [
            "50\n",
            "50\n"
          ]
        }
      ],
      "source": [
        "class MathOperations:\n",
        "    @staticmethod\n",
        "    def add(a, b):\n",
        "        print(a + b)\n",
        "obj2 = MathOperations.add(25, 25)\n",
        "obj3 = MathOperations()\n",
        "obj3.add(25, 25)"
      ]
    },
    {
      "cell_type": "markdown",
      "metadata": {
        "id": "0aKhGjgSLUmy"
      },
      "source": [
        "Polymorphism: Implement a Shape class with a method area(). Create subclasses Circle and Rectangle that override the area() method. Demonstrate polymorphism using these classes."
      ]
    },
    {
      "cell_type": "code",
      "execution_count": null,
      "metadata": {
        "colab": {
          "base_uri": "https://localhost:8080/"
        },
        "id": "DWMas7q2LVb-",
        "outputId": "3ec1f09d-4e66-48d5-ea97-07d06bec2b27"
      },
      "outputs": [
        {
          "name": "stdout",
          "output_type": "stream",
          "text": [
            "This is the generic shape's area.\n",
            "This is the generic shape's area.\n",
            "This is the generic shape's area.\n"
          ]
        }
      ],
      "source": [
        "class Shape:\n",
        "    def area(self):\n",
        "        print(\"This is the generic shape's area.\")\n",
        "\n",
        "class Circle(Shape):\n",
        "    def  area(self):\n",
        "        print(\"This is the generic shape's area.\")\n",
        "\n",
        "class Rectangle(Circle):\n",
        "     def  area(self):\n",
        "        print(\"This is the generic shape's area.\")\n",
        "results = (Shape(), Circle(), Rectangle())\n",
        "for result in results:\n",
        "    result.area()\n",
        "# obj0 = Rectangle()\n",
        "# obj0.area()\n",
        "# obj0 = Circle()\n",
        "# obj0.area()\n",
        "# obj0 = Shape()\n",
        "# obj0.area()"
      ]
    },
    {
      "cell_type": "code",
      "execution_count": null,
      "metadata": {
        "colab": {
          "base_uri": "https://localhost:8080/"
        },
        "id": "TPQ8ZHq9SBj1",
        "outputId": "627ba4dc-629a-4ef4-86f0-eed983669bd1"
      },
      "outputs": [
        {
          "name": "stdout",
          "output_type": "stream",
          "text": [
            "This is the area of a rectangle.\n",
            "This is the area of a circle.\n",
            "This is the generic shape's area.\n"
          ]
        }
      ],
      "source": [
        "class Shape:\n",
        "    def area(self):\n",
        "        print(\"This is the generic shape's area.\")\n",
        "\n",
        "class Circle(Shape):\n",
        "    def area(self):\n",
        "        print(\"This is the area of a circle.\")\n",
        "\n",
        "class Rectangle(Shape):\n",
        "    def area(self):\n",
        "        print(\"This is the area of a rectangle.\")\n",
        "\n",
        "# Demonstrating Polymorphism\n",
        "shapes = [Rectangle(), Circle(), Shape()]\n",
        "\n",
        "for shape in shapes:\n",
        "    shape.area()  # Calls the overridden method for the subclass\n"
      ]
    },
    {
      "cell_type": "code",
      "execution_count": null,
      "metadata": {
        "colab": {
          "base_uri": "https://localhost:8080/"
        },
        "id": "_KBkuLJ_fC0H",
        "outputId": "187ec97d-0deb-4487-d466-0b4887fe1653"
      },
      "outputs": [
        {
          "name": "stdout",
          "output_type": "stream",
          "text": [
            "Circle area: 78.5\n",
            "Rectangle area: 24\n",
            "This is the generic area method in Shape class.\n"
          ]
        }
      ],
      "source": [
        "class Shape:\n",
        "    def area(self):\n",
        "        print(\"This is the generic area method in Shape class.\")\n",
        "\n",
        "class Circle(Shape):\n",
        "    def __init__(self, radius):\n",
        "        self.radius = radius\n",
        "\n",
        "    def area(self):\n",
        "        return 3.14 * self.radius * self.radius  # Formula for area of a circle\n",
        "\n",
        "class Rectangle(Shape):\n",
        "    def __init__(self, width, height):\n",
        "        self.width = width\n",
        "        self.height = height\n",
        "\n",
        "    def area(self):\n",
        "        return self.width * self.height  # Formula for area of a rectangle\n",
        "\n",
        "# Demonstrating Polymorphism\n",
        "# Creating a Circle object\n",
        "circle = Circle(5)  # Radius = 5\n",
        "print(f\"Circle area: {circle.area()}\")  # Output: 78.5\n",
        "\n",
        "# Creating a Rectangle object\n",
        "rectangle = Rectangle(4, 6)  # Width = 4, Height = 6\n",
        "print(f\"Rectangle area: {rectangle.area()}\")  # Output: 24\n",
        "\n",
        "# Creating a generic Shape object\n",
        "shape = Shape()\n",
        "shape.area()  # Output: \"This is the generic area method in Shape class.\"\n"
      ]
    },
    {
      "cell_type": "markdown",
      "metadata": {
        "id": "cvmgUfNriVnA"
      },
      "source": [
        "Abstraction: Create an abstract class Vehicle with an abstract method move(). Implement this method in subclasses Car and Bicycle."
      ]
    },
    {
      "cell_type": "code",
      "execution_count": null,
      "metadata": {
        "colab": {
          "base_uri": "https://localhost:8080/"
        },
        "id": "ZTk1VH6iiWoe",
        "outputId": "386bc48d-881f-4d03-d5e8-5300f9631e26"
      },
      "outputs": [
        {
          "name": "stdout",
          "output_type": "stream",
          "text": [
            "stop\n",
            "None\n",
            "stop\n",
            "None\n"
          ]
        }
      ],
      "source": [
        "class Vehicle:\n",
        "    def __init__(self,start, stop ):\n",
        "        self.start = start\n",
        "        self.stop = stop\n",
        "    def move(self):\n",
        "        if self.start == 0:\n",
        "          print(\"start \")\n",
        "        else:\n",
        "            print(\"stop\")\n",
        "class Car(Vehicle):\n",
        "    def move(self):\n",
        "          if self.start == 0:\n",
        "            print(\"start \")\n",
        "          else:\n",
        "              print(\"stop\")\n",
        "class Bicycle(Vehicle):\n",
        "    def move(self):\n",
        "        if self.start == 0:\n",
        "          print(\"start \")\n",
        "        else:\n",
        "            print(\"stop\")\n",
        "ob = Vehicle(1,1)\n",
        "print(ob.move())\n",
        "ob = Bicycle(1,1)\n",
        "print(ob.move())"
      ]
    },
    {
      "cell_type": "code",
      "execution_count": null,
      "metadata": {
        "colab": {
          "base_uri": "https://localhost:8080/"
        },
        "id": "zNCabZOkqZwW",
        "outputId": "fdf5b6a0-d394-42a2-9321-911670ed70c8"
      },
      "outputs": [
        {
          "name": "stdout",
          "output_type": "stream",
          "text": [
            "The car is moving on four wheels.\n",
            "The bicycle is moving on two wheels.\n"
          ]
        }
      ],
      "source": [
        "\n",
        "\n",
        "# Abstract class\n",
        "class Vehicle:\n",
        "\n",
        "    def move(self):\n",
        "        pass  # Abstract method with no implementation\n",
        "\n",
        "# Subclass Car\n",
        "class Car(Vehicle):\n",
        "    def move(self):\n",
        "        print(\"The car is moving on four wheels.\")\n",
        "\n",
        "# Subclass Bicycle\n",
        "class Bicycle(Vehicle):\n",
        "    def move(self):\n",
        "        print(\"The bicycle is moving on two wheels.\")\n",
        "\n",
        "# Usage\n",
        "vehicles = [Car(), Bicycle()]  # Create instances of subclasses\n",
        "\n",
        "for vehicle in vehicles:\n",
        "    vehicle.move()  # Call the implemented move() method\n"
      ]
    },
    {
      "cell_type": "markdown",
      "metadata": {
        "id": "k7tuyaalScZu"
      },
      "source": [
        "Getters and Setters Problems\n",
        "Problem 1: Basic Getter and Setter\n",
        "\n",
        "Write a Person class with a private attribute _age.\n",
        "\n",
        "Use @property to define a getter method age that returns _age.\n",
        "\n",
        "Use @age.setter to set _age, ensuring that age cannot be negative. If a negative value is given, raise a ValueError."
      ]
    },
    {
      "cell_type": "code",
      "execution_count": null,
      "metadata": {
        "colab": {
          "base_uri": "https://localhost:8080/"
        },
        "id": "JLLLlqdbSks-",
        "outputId": "499115f8-d14b-471f-afe7-c9844f0b98c5"
      },
      "outputs": [
        {
          "name": "stdout",
          "output_type": "stream",
          "text": [
            "{'_Person__age': 26}\n"
          ]
        }
      ],
      "source": [
        "class Person:\n",
        "    def __init__(self, age):\n",
        "        self.__age = age\n",
        "    @property\n",
        "    def age(self):\n",
        "        return self.__age\n",
        "    @age.setter\n",
        "    def age(self, value):\n",
        "      if value <0:\n",
        "          self.__age = value\n",
        "          print(\"raise a ValueError. \")\n",
        "      else:\n",
        "          print(f\" now my age is { self.__age}\")\n",
        "\n",
        "# ob = Person(26)\n",
        "# print (help(Person))\n",
        "ob = Person(26)\n",
        "print (ob.__dict__)\n",
        "# print(ob.age )\n",
        "# ob.age = -5"
      ]
    },
    {
      "cell_type": "code",
      "execution_count": null,
      "metadata": {
        "colab": {
          "base_uri": "https://localhost:8080/"
        },
        "id": "ZaTuJjG_Y7wC",
        "outputId": "9c1873e6-cf39-48a6-bb33-f4adf08b4fd5"
      },
      "outputs": [
        {
          "name": "stdout",
          "output_type": "stream",
          "text": [
            "26\n",
            "Age cannot be negative.\n"
          ]
        }
      ],
      "source": [
        "class Person:\n",
        "    def __init__(self, age):\n",
        "        # Use the setter to validate the initial age\n",
        "        self.age = age  # This invokes the setter for validation\n",
        "\n",
        "    @property\n",
        "    def age(self):\n",
        "        return self.__age\n",
        "\n",
        "    @age.setter\n",
        "    def age(self, value):\n",
        "        if value < 0:\n",
        "            raise ValueError(\"Age cannot be negative.\")\n",
        "        self.__age = value  # Update the private attribute if valid\n",
        "\n",
        "# Testing the class\n",
        "try:\n",
        "    ob = Person(26)\n",
        "    print(ob.age)  # Output: 2\n",
        "    ob.age = -5    # This will raise a ValueError\n",
        "except ValueError as e:\n",
        "    print(e)  # Output: Age cannot be negative.\n"
      ]
    },
    {
      "cell_type": "markdown",
      "metadata": {
        "id": "eJUZj_qcctTX"
      },
      "source": [
        "Problem 2: Calculated Property\n",
        "Create a class Circle with:\n",
        "\n",
        "\n",
        "A private attribute _radius.\n",
        "\n",
        "A getter radius and a setter to update _radius (ensure it’s positive).\n",
        "\n",
        "A read-only property area that calculates the area of the circle (πr²)."
      ]
    },
    {
      "cell_type": "code",
      "execution_count": null,
      "metadata": {
        "colab": {
          "base_uri": "https://localhost:8080/"
        },
        "id": "eFp9kbiScwnz",
        "outputId": "f2faf335-e12d-4976-819b-4952f0732a5c"
      },
      "outputs": [
        {
          "name": "stdout",
          "output_type": "stream",
          "text": [
            "Radius: 3\n",
            "Area: <bound method Circle.area of <__main__.Circle object at 0x7dadd620ca60>>\n",
            "Updated Radius: 5\n",
            "Updated Area: <bound method Circle.area of <__main__.Circle object at 0x7dadd620ca60>>\n"
          ]
        }
      ],
      "source": [
        "class Circle:\n",
        "    def __init__(self, radius):\n",
        "        self.__radius = radius\n",
        "    @property\n",
        "    def radius(self):\n",
        "        return self.__radius\n",
        "    @radius.setter\n",
        "    def radius (self, value):\n",
        "        if value > 0:\n",
        "            self.__radius = value\n",
        "\n",
        "        else:\n",
        "            print(\" ensure it’s positive\")\n",
        "    def area(self):\n",
        "        return 3.14* (self.__radius)**2\n",
        "\n",
        "ob = Circle(3)\n",
        "print(f\"Radius: {ob.radius}\")  # Output: Radius: 3\n",
        "print(f\"Area: {ob.area}\")      # Output: Area: 28.26\n",
        "\n",
        "ob.radius = 5  # Update the radius\n",
        "print(f\"Updated Radius: {ob.radius}\")  # Output: Updated Radius: 5\n",
        "print(f\"Updated Area: {ob.area}\")      # Output: Updated Area: 78.5\n"
      ]
    },
    {
      "cell_type": "code",
      "execution_count": null,
      "metadata": {
        "colab": {
          "base_uri": "https://localhost:8080/"
        },
        "id": "HVZtwRI6srF5",
        "outputId": "ad40bd8c-3010-43ce-cbf5-aa322e1a6b8f"
      },
      "outputs": [
        {
          "name": "stdout",
          "output_type": "stream",
          "text": [
            "Radius: 3\n",
            "Area: 28.26\n",
            "Updated Radius: 5\n",
            "Updated Area: 78.5\n",
            "Radius must be positive!\n",
            "Radius after invalid update: 5\n"
          ]
        }
      ],
      "source": [
        "class Circle:\n",
        "    def __init__(self, radius):\n",
        "        self.__radius = radius  # Initialize the private variable\n",
        "\n",
        "    @property\n",
        "    def radius(self):\n",
        "        return self.__radius  # Getter for radius\n",
        "\n",
        "    @radius.setter\n",
        "    def radius(self, value):\n",
        "        if value > 0:  # Ensure the radius is positive\n",
        "            self.__radius = value\n",
        "        else:\n",
        "            print(\"Radius must be positive!\")  # Error message for invalid input\n",
        "\n",
        "    def area(self):\n",
        "        return 3.14 * (self.__radius)**2  # Calculate area using the radius\n",
        "\n",
        "# Create a Circle object with radius 3\n",
        "ob = Circle(3)\n",
        "print(f\"Radius: {ob.radius}\")  # Output: Radius: 3\n",
        "print(f\"Area: {ob.area()}\")    # Output: Area: 28.26\n",
        "\n",
        "# Update the radius to 5\n",
        "ob.radius = 5\n",
        "print(f\"Updated Radius: {ob.radius}\")  # Output: Updated Radius: 5\n",
        "print(f\"Updated Area: {ob.area()}\")    # Output: Updated Area: 78.5\n",
        "\n",
        "# Try to set a negative radius\n",
        "ob.radius = -2  # Output: Radius must be positive!\n",
        "print(f\"Radius after invalid update: {ob.radius}\")  # Output: Radius after invalid update: 5\n"
      ]
    },
    {
      "cell_type": "markdown",
      "metadata": {
        "id": "vh-UWZdfoXcW"
      },
      "source": [
        "Problem 3: Validate Email Address\n",
        "Write a User class with:\n",
        "\n",
        "A private attribute _email.\n",
        "A getter email and a setter that validates the email format (must include @ and .). If invalid, raise a ValueError."
      ]
    },
    {
      "cell_type": "code",
      "execution_count": null,
      "metadata": {
        "colab": {
          "base_uri": "https://localhost:8080/"
        },
        "id": "ccwvHDdKAyQK",
        "outputId": "0f2670ae-98b8-49cf-bff5-bd4acd9daa78"
      },
      "outputs": [
        {
          "name": "stdout",
          "output_type": "stream",
          "text": [
            "example@example.com\n",
            "Invalid email format. Email must contain '@' and '.'.\n"
          ]
        }
      ],
      "source": [
        "import re  # Regular expression library to validate email\n",
        "\n",
        "class User:\n",
        "    def __init__(self, email):\n",
        "        self.__email = None  # Initialize the private _email attribute\n",
        "        self.email = email  # Use the setter to validate the email on object creation\n",
        "\n",
        "    @property\n",
        "    def email(self):\n",
        "        # Getter: Return the private email attribute\n",
        "        return self.__email\n",
        "\n",
        "    @email.setter\n",
        "    def email(self, value):\n",
        "        # Setter: Validate the email format\n",
        "        if self.validate_email(value):\n",
        "            self.__email = value\n",
        "        else:\n",
        "            raise ValueError(\"Invalid email format. Email must contain '@' and '.'.\")\n",
        "\n",
        "    def validate_email(self, email):\n",
        "        # Simple validation using regular expression to check for '@' and '.'\n",
        "        pattern = r\"^[a-zA-Z0-9._%+-]+@[a-zA-Z0-9.-]+\\.[a-zA-Z]{2,}$\"\n",
        "        return re.match(pattern, email) is not None\n",
        "\n",
        "# Example Usage\n",
        "try:\n",
        "    user = User(\"example@example.com\")\n",
        "    print(user.email)  # Should print the valid email\n",
        "    user.email = \"invalid-email\"  # Will raise ValueError\n",
        "except ValueError as e:\n",
        "    print(e)  # This will print \"Invalid email format. Email must contain '@' and '.'.\"\n"
      ]
    },
    {
      "cell_type": "code",
      "execution_count": null,
      "metadata": {
        "colab": {
          "base_uri": "https://localhost:8080/"
        },
        "id": "snsS0kMDBAcx",
        "outputId": "a257ce10-2ebe-4135-d814-340962af8094"
      },
      "outputs": [
        {
          "name": "stdout",
          "output_type": "stream",
          "text": [
            "{3, 4}\n"
          ]
        }
      ],
      "source": [
        "x = {1, 2, 3, 4}\n",
        "y = {3, 4, 5, 6}\n",
        "print(x & y)\n"
      ]
    },
    {
      "cell_type": "code",
      "execution_count": null,
      "metadata": {
        "colab": {
          "base_uri": "https://localhost:8080/"
        },
        "id": "IiKyIwIRFARZ",
        "outputId": "f84d04d2-297e-4041-ebb1-4a1dfa27e53d"
      },
      "outputs": [
        {
          "data": {
            "text/plain": [
              "[0, 4, 16]"
            ]
          },
          "execution_count": 4,
          "metadata": {},
          "output_type": "execute_result"
        }
      ],
      "source": [
        "[x ** 2 for x in range(5) if x % 2 == 0]\n"
      ]
    },
    {
      "cell_type": "code",
      "execution_count": null,
      "metadata": {
        "colab": {
          "base_uri": "https://localhost:8080/"
        },
        "id": "wFYLpIQtUI72",
        "outputId": "71890e14-a122-46b9-adc7-5b93cab56b88"
      },
      "outputs": [
        {
          "name": "stdout",
          "output_type": "stream",
          "text": [
            "B\n"
          ]
        }
      ],
      "source": [
        "class A:\n",
        "    def __init__(self):\n",
        "        self.var = \"A\"\n",
        "\n",
        "class B(A):\n",
        "    def __init__(self):\n",
        "        super().__init__()\n",
        "        self.var = \"B\"\n",
        "\n",
        "obj = B()\n",
        "print(obj.var)\n"
      ]
    },
    {
      "cell_type": "code",
      "execution_count": null,
      "metadata": {
        "colab": {
          "base_uri": "https://localhost:8080/"
        },
        "id": "z7fx5HPJUcK-",
        "outputId": "491c20a6-a380-414a-cac9-cce007e2a21c"
      },
      "outputs": [
        {
          "name": "stdout",
          "output_type": "stream",
          "text": [
            "[1]\n",
            "[1]\n",
            "[1, 1]\n",
            "[1, 1, 1]\n",
            "[1, 1, 1, 1]\n"
          ]
        }
      ],
      "source": [
        "def func(x=[]):\n",
        "    x.append(1)\n",
        "    return x\n",
        "\n",
        "print(func())\n",
        "def func(x=[]):\n",
        "    x.append(1)\n",
        "    return x\n",
        "\n",
        "print(func())\n",
        "print(func())\n",
        "print(func())\n",
        "print(func())\n",
        "\n"
      ]
    },
    {
      "cell_type": "code",
      "execution_count": null,
      "metadata": {
        "colab": {
          "base_uri": "https://localhost:8080/"
        },
        "id": "4EsjUWm8F4vD",
        "outputId": "c7dc0390-d89f-4d8a-a7f8-d91c611b65fc"
      },
      "outputs": [
        {
          "name": "stdout",
          "output_type": "stream",
          "text": [
            "1 2 3\n"
          ]
        }
      ],
      "source": [
        "def func(a, b, c):\n",
        "    print(a, b, c)\n",
        "\n",
        "func(*[1, 2, 3])  # Output: 1 2 3\n"
      ]
    },
    {
      "cell_type": "code",
      "execution_count": null,
      "metadata": {
        "colab": {
          "base_uri": "https://localhost:8080/"
        },
        "id": "JLQVe6UXmNkZ",
        "outputId": "522654f7-f6f6-4d43-b77a-7cd2b227720d"
      },
      "outputs": [
        {
          "name": "stdout",
          "output_type": "stream",
          "text": [
            "[1, 2, 3, 5, 4]\n",
            "[1, 3, 5, 4]\n"
          ]
        }
      ],
      "source": [
        "lst = [1, 2, 5, 3, 5, 4]\n",
        "lst.remove(5)\n",
        "print(lst)\n",
        "lst.pop(1)\n",
        "print(lst)"
      ]
    },
    {
      "cell_type": "code",
      "execution_count": null,
      "metadata": {
        "colab": {
          "base_uri": "https://localhost:8080/"
        },
        "id": "nQHvZJ3rMbYu",
        "outputId": "d1b45e11-9b4b-478e-9570-22154c9320fc"
      },
      "outputs": [
        {
          "name": "stdout",
          "output_type": "stream",
          "text": [
            "olleh\n"
          ]
        }
      ],
      "source": [
        "x = \"hello\"\n",
        "y = x[::-1]\n",
        "# x += \" world\"\n",
        "print(y)\n"
      ]
    },
    {
      "cell_type": "markdown",
      "metadata": {
        "id": "ryPkP5wThg6k"
      },
      "source": [
        "Create a class Book with:\n",
        "\n",
        "Attributes: title, author, copies.\n",
        "\n",
        "Methods:\n",
        "\n",
        "borrow_book() - Reduces copies by 1 if available.\n",
        "\n",
        "return_book() - Increases copies by 1.\n",
        "\n",
        "display_info() - Displays the book's details.\n",
        "\n",
        "Create another class Library to:\n",
        "\n",
        "Store a list of Book objects.\n",
        "\n",
        "Add a method find_book(title) to search for a book by title.\n",
        "\n",
        "Add methods to borrow and return books by interacting with the Book class."
      ]
    },
    {
      "cell_type": "markdown",
      "metadata": {
        "id": "toCoLU0_z7Vr"
      },
      "source": [
        "Create a class Person with attributes name and age. Add a method greet() to display a greeting message. (Concept: Class and Object)"
      ]
    },
    {
      "cell_type": "code",
      "execution_count": null,
      "metadata": {
        "colab": {
          "base_uri": "https://localhost:8080/"
        },
        "id": "mTjHw5Y8z8Rb",
        "outputId": "b7ffd470-242b-47ac-a574-5d4ba4152ded"
      },
      "outputs": [
        {
          "name": "stdout",
          "output_type": "stream",
          "text": [
            "my name is amina iqbal and my age is 26 year old \n",
            "None\n"
          ]
        }
      ],
      "source": [
        "class Person:\n",
        "    def __init__(self, name, age ):\n",
        "        self.name = name\n",
        "        self.age = age\n",
        "    def greet(self):\n",
        "        print(f\"my name is {self. name} and my age is {self. age } year old \")\n",
        "obj = Person(\"amina iqbal\", 26)\n",
        "print(obj.greet())"
      ]
    },
    {
      "cell_type": "markdown",
      "metadata": {
        "id": "F4sDyfAk1W_I"
      },
      "source": [
        "Write a class Rectangle with attributes length and width and a method area() to calculate the area. (Concept: Class Methods)"
      ]
    },
    {
      "cell_type": "code",
      "execution_count": null,
      "metadata": {
        "colab": {
          "base_uri": "https://localhost:8080/"
        },
        "id": "MOWwIytD1YZ6",
        "outputId": "316c247c-d084-4600-db0d-c33af735b4d0"
      },
      "outputs": [
        {
          "data": {
            "text/plain": [
              "15"
            ]
          },
          "execution_count": 6,
          "metadata": {},
          "output_type": "execute_result"
        }
      ],
      "source": [
        "class Rectangle:\n",
        "    def __init__(self,length,width  ):\n",
        "        self. length  = length\n",
        "        self.width = width\n",
        "    def area(self):\n",
        "        return self.length * self.width\n",
        "ob = Rectangle(3, 5)\n",
        "ob.area()"
      ]
    },
    {
      "cell_type": "markdown",
      "metadata": {
        "id": "MWKpsDjF2_9J"
      },
      "source": [
        "Implement a BankAccount class with attributes account_number and balance. Add methods for deposit() and withdraw(). (Concept: Class and Object)\n"
      ]
    },
    {
      "cell_type": "code",
      "execution_count": null,
      "metadata": {
        "colab": {
          "base_uri": "https://localhost:8080/"
        },
        "id": "d4ZPRV2u3A_C",
        "outputId": "e87478a0-4ab5-4a70-f6a5-363c957587eb"
      },
      "outputs": [
        {
          "name": "stdout",
          "output_type": "stream",
          "text": [
            "5000 amount was suces fully deposit 50000 \n",
            "45000 amount was sucsesfully deposit 5000 \n"
          ]
        }
      ],
      "source": [
        "class BankAccount:\n",
        "    def __init__(self,account_number, balance ):\n",
        "        self.account_number = account_number\n",
        "        self.balance = balance\n",
        "    def deposit(self, amount):\n",
        "        if amount > 0:\n",
        "            self.balance += amount\n",
        "            print(f\"{amount} amount was suces fully deposit {self.balance} \")\n",
        "    def withdraw(self, amount):\n",
        "        if amount > 0:\n",
        "            self.balance -= amount\n",
        "            print(f\"{self.balance} amount was sucsesfully deposit {amount} \")\n",
        "ob = BankAccount(1222, 45000)\n",
        "ob.deposit(5000)\n",
        "ob.withdraw(5000)"
      ]
    },
    {
      "cell_type": "markdown",
      "metadata": {
        "id": "xn765YlfgoAf"
      },
      "source": [
        "Write a class Student with methods add_marks() and calculate_percentage(). (Concept: Instance Methods)"
      ]
    },
    {
      "cell_type": "code",
      "execution_count": null,
      "metadata": {
        "colab": {
          "base_uri": "https://localhost:8080/"
        },
        "id": "OuMv5ldspggh",
        "outputId": "0bda5710-2cbe-4a1f-d718-7a2eb2a66b78"
      },
      "outputs": [
        {
          "name": "stdout",
          "output_type": "stream",
          "text": [
            "amina percentage: 87.00%\n"
          ]
        }
      ],
      "source": [
        "class Student:\n",
        "    def __init__(self, name, total_subjects):\n",
        "        self.name = name\n",
        "        self.total_subjects = total_subjects\n",
        "        self.marks = []\n",
        "\n",
        "    def add_marks(self, mark):\n",
        "        if len(self.marks) < self.total_subjects:\n",
        "            self.marks.append(mark)\n",
        "        else:\n",
        "            print(f\"Cannot add more marks. All {self.total_subjects} marks are already added.\")\n",
        "    def calculate_percentage(self):\n",
        "        if self.marks:\n",
        "            total_obtained = sum(self.marks)\n",
        "            total_possible = self.total_subjects * 100\n",
        "            percentage = (total_obtained / total_possible) * 100\n",
        "            return percentage\n",
        "        else:\n",
        "            print(\"No marks added yet!\")\n",
        "            return None\n",
        "\n",
        "\n",
        "# Example Usage:\n",
        "student = Student(name=\"amina\", total_subjects=5)\n",
        "\n",
        "# Adding marks for subjects\n",
        "student.add_marks(85)\n",
        "\n",
        "\n",
        "# Calculate and display the percentage\n",
        "percentage = student.calculate_percentage()\n",
        "if percentage is not None:\n",
        "    print(f\"{student.name} percentage: {percentage:.2f}%\")\n"
      ]
    },
    {
      "cell_type": "markdown",
      "source": [
        "Write a Zoo class that manages animals and their details. Use inheritance for categories like Mammals, Birds, etc."
      ],
      "metadata": {
        "id": "k3OxzCKGdRla"
      }
    },
    {
      "cell_type": "code",
      "source": [
        "class Zoo:\n",
        "    def __init__(self, animal, color, name, kind):\n",
        "        self.animal = animal\n",
        "        self.color = color\n",
        "        self.name = name\n",
        "        self.kind = kind\n",
        "\n",
        "    def display(self):\n",
        "        return f\"Animal: {self.animal}, Kind: {self.kind}, Name: {self.name}, Color: {self.color}\"\n",
        "\n",
        "class Mammals(Zoo):\n",
        "    def __init__(self, animal, color, name, kind, domestic):\n",
        "        super().__init__(animal, color, name, kind)\n",
        "        self.domestic = domestic\n",
        "\n",
        "    def display(self):\n",
        "        info = super().display()\n",
        "        return f\"{info}, Domestic: {self.domestic}\"\n",
        "\n",
        "class Birds(Zoo):\n",
        "    def __init__(self, animal, color, name, kind, domestic, flying=True):\n",
        "        super().__init__(animal, color, name, kind)\n",
        "        self.flying = flying\n",
        "        self.domestic = domestic\n",
        "\n",
        "\n",
        "    def display(self):\n",
        "        info = super().display()\n",
        "        return f\"{info}, Flying: {self.flying}\"\n",
        "\n",
        "# Example usage\n",
        "ob = Zoo(\"Lion\", \"Orange\", \"Lil Lion\", \"Baby\")\n",
        "print(ob.display())\n",
        "\n",
        "ob1 = Mammals(\"Lion\", \"Orange\", \"Lil Lion\", \"Baby\", \"yes\")\n",
        "print(ob1.display())\n",
        "\n",
        "ob2 = Birds(\"Parrot\", \"Green\", \"Polly\", \"Adult\", domestic=True, flying=True)\n",
        "print(ob2.display())\n"
      ],
      "metadata": {
        "colab": {
          "base_uri": "https://localhost:8080/"
        },
        "id": "bZicr3iddSGw",
        "outputId": "cd510b39-5509-471a-8f0f-3d62ee01d8f3"
      },
      "execution_count": null,
      "outputs": [
        {
          "output_type": "stream",
          "name": "stdout",
          "text": [
            "Animal: Lion, Kind: Baby, Name: Lil Lion, Color: Orange\n",
            "Animal: Lion, Kind: Baby, Name: Lil Lion, Color: Orange, Domestic: yes\n",
            "Animal: Parrot, Kind: Adult, Name: Polly, Color: Green, Flying: True\n"
          ]
        }
      ]
    },
    {
      "cell_type": "markdown",
      "source": [
        "Implement a ParkingLot system where you can park, unpark, and get details of vehicles."
      ],
      "metadata": {
        "id": "S05dHhhcusav"
      }
    },
    {
      "cell_type": "markdown",
      "source": [
        "## What is the method to check if an object is an instance of a specific class?\n",
        "\n",
        "**isinstance(obj, Class)**"
      ],
      "metadata": {
        "id": "svSxTtKzXNjM"
      }
    },
    {
      "cell_type": "code",
      "source": [
        "def func():\n",
        "    return \"Hello\", \"World\"\n",
        "\n",
        "print(type(func()))\n",
        "\n"
      ],
      "metadata": {
        "colab": {
          "base_uri": "https://localhost:8080/"
        },
        "id": "zeuz9pDdutR1",
        "outputId": "9141e76e-09c1-4adf-b328-930310cfbf86"
      },
      "execution_count": null,
      "outputs": [
        {
          "output_type": "stream",
          "name": "stdout",
          "text": [
            "<class 'tuple'>\n"
          ]
        }
      ]
    },
    {
      "cell_type": "markdown",
      "source": [
        "Understanding Decorators:\n",
        "Write a decorator print_before that prints \"Before calling the function\" before executing the decorated function."
      ],
      "metadata": {
        "id": "59cll3DUd3o5"
      }
    },
    {
      "cell_type": "code",
      "source": [
        "names = [\"amina\", \"iqbal\", \"ali\", \"zara\"]\n",
        "\n",
        "# Example: Filter to only include \"amina\" and \"iqbal\"\n",
        "filtered_names = [name for name in names if name in [\"amina\", \"iqbal\"]]\n",
        "\n",
        "print(filtered_names)\n"
      ],
      "metadata": {
        "colab": {
          "base_uri": "https://localhost:8080/"
        },
        "id": "pIO3CbxvJfsm",
        "outputId": "3b4c6ab3-43f6-44db-f3ff-d42d81b13884"
      },
      "execution_count": null,
      "outputs": [
        {
          "output_type": "stream",
          "name": "stdout",
          "text": [
            "['amina', 'iqbal']\n"
          ]
        }
      ]
    },
    {
      "cell_type": "markdown",
      "source": [
        "### How can you create a parameterized decorator in Python?\n",
        "\n",
        "**Answer:**\n",
        "A parameterized decorator is a decorator that takes arguments. To achieve this, you define a function that returns the actual decorator.\n",
        "\n",
        "**Example:**"
      ],
      "metadata": {
        "id": "Gufo0K0eHoHX"
      }
    },
    {
      "cell_type": "code",
      "source": [
        "from functools import wraps\n",
        "def repeat(n):\n",
        "    def decorator(func):\n",
        "        @wraps(func)\n",
        "        def wrapper(*args, **kwargs):\n",
        "            for _ in range(n):\n",
        "                func(*args, **kwargs)\n",
        "        return wrapper\n",
        "    return decorator\n",
        "\n",
        "@repeat(3)\n",
        "def greet():\n",
        "    print(\"Hello!\")\n",
        "\n",
        "greet()\n"
      ],
      "metadata": {
        "colab": {
          "base_uri": "https://localhost:8080/"
        },
        "id": "j3MNMTNyHC5n",
        "outputId": "08043c1a-b466-49f0-88f7-12713e7e7fb0"
      },
      "execution_count": null,
      "outputs": [
        {
          "output_type": "stream",
          "name": "stdout",
          "text": [
            "Hello!\n",
            "Hello!\n",
            "Hello!\n"
          ]
        }
      ]
    },
    {
      "cell_type": "code",
      "source": [
        "class Person:\n",
        "    def __init__(self, name):\n",
        "        self.name = name  # Direct access\n",
        "\n",
        "p = Person(\"Ali\")\n",
        "n = p.name = 123\n",
        "print(n)\n",
        "\n"
      ],
      "metadata": {
        "colab": {
          "base_uri": "https://localhost:8080/"
        },
        "id": "ArvTf8BsNO-L",
        "outputId": "33002f92-6e32-4abf-83e1-34c504a6adf7"
      },
      "execution_count": null,
      "outputs": [
        {
          "output_type": "stream",
          "name": "stdout",
          "text": [
            "123\n"
          ]
        }
      ]
    },
    {
      "cell_type": "markdown",
      "source": [
        "Write a Vehicle class with a method to calculate mileage given distance and fuel consumed. Use inheritance to create Car and Bike classes."
      ],
      "metadata": {
        "id": "yS-Nty1pHCST"
      }
    },
    {
      "cell_type": "code",
      "source": [
        "class Vehicle:\n",
        "    def __init__(self, distance, fuel_consumed ):\n",
        "        self.distance = distance\n",
        "        self.fuel_consumed = fuel_consumed\n",
        "    def calculate_mileage(self):\n",
        "        if self.fuel_consumed > 0:\n",
        "            mileage = self.distance / self.fuel_consumed\n",
        "            print(\" your car work goood \")\n",
        "# class Car(Vehicle):\n",
        "#     pass\n",
        "# class Bike (Vehicle):\n",
        "#     pass\n",
        "ob = Vehicle(5, 6)\n",
        "print(ob.calculate_mileage())"
      ],
      "metadata": {
        "colab": {
          "base_uri": "https://localhost:8080/"
        },
        "id": "YufOEGybhJdb",
        "outputId": "0058ae28-6881-4d84-9285-b01e4a189df9"
      },
      "execution_count": null,
      "outputs": [
        {
          "output_type": "stream",
          "name": "stdout",
          "text": [
            " your car work goood \n",
            "None\n"
          ]
        }
      ]
    },
    {
      "cell_type": "code",
      "source": [
        "mileage = 23.076923076923077\n",
        "formatted_output = f\"{mileage:.4f}\"\n",
        "print(formatted_output)  # Output: 23.08 km/l\n"
      ],
      "metadata": {
        "colab": {
          "base_uri": "https://localhost:8080/"
        },
        "id": "eXzO80LoJbaX",
        "outputId": "29be08ea-d1c6-42fe-b071-08a6d45aa1ab"
      },
      "execution_count": null,
      "outputs": [
        {
          "output_type": "stream",
          "name": "stdout",
          "text": [
            "23.0769\n"
          ]
        }
      ]
    },
    {
      "cell_type": "code",
      "source": [
        "{x for x in 'hello' if x in 'aeiou'}\n"
      ],
      "metadata": {
        "colab": {
          "base_uri": "https://localhost:8080/"
        },
        "id": "XJwcn59CJOSb",
        "outputId": "fe0cc471-a823-451d-b6e1-365acc938941"
      },
      "execution_count": null,
      "outputs": [
        {
          "output_type": "execute_result",
          "data": {
            "text/plain": [
              "{'e', 'o'}"
            ]
          },
          "metadata": {},
          "execution_count": 1
        }
      ]
    },
    {
      "cell_type": "code",
      "source": [
        "def print_before (func):\n",
        "    def mfunc(*args, **kwargs):\n",
        "        print( \"Before calling the function\" )\n",
        "        func(*args, **kwargs)\n",
        "    return mfunc\n",
        "\n",
        "\n",
        "@print_before\n",
        "def hello(self):\n",
        "    print(\"hello my friends how are you \")\n",
        "hello()"
      ],
      "metadata": {
        "colab": {
          "base_uri": "https://localhost:8080/",
          "height": 315
        },
        "id": "R_75Sy6Fd8H1",
        "outputId": "76ceabea-4245-4e49-aa3d-428dbd03a1dc"
      },
      "execution_count": null,
      "outputs": [
        {
          "output_type": "stream",
          "name": "stdout",
          "text": [
            "Before calling the function\n"
          ]
        },
        {
          "output_type": "error",
          "ename": "TypeError",
          "evalue": "hello() missing 1 required positional argument: 'self'",
          "traceback": [
            "\u001b[0;31m---------------------------------------------------------------------------\u001b[0m",
            "\u001b[0;31mTypeError\u001b[0m                                 Traceback (most recent call last)",
            "\u001b[0;32m<ipython-input-5-81c346dff7de>\u001b[0m in \u001b[0;36m<cell line: 11>\u001b[0;34m()\u001b[0m\n\u001b[1;32m      9\u001b[0m \u001b[0;32mdef\u001b[0m \u001b[0mhello\u001b[0m\u001b[0;34m(\u001b[0m\u001b[0mself\u001b[0m\u001b[0;34m)\u001b[0m\u001b[0;34m:\u001b[0m\u001b[0;34m\u001b[0m\u001b[0;34m\u001b[0m\u001b[0m\n\u001b[1;32m     10\u001b[0m     \u001b[0mprint\u001b[0m\u001b[0;34m(\u001b[0m\u001b[0;34m\"hello my friends how are you \"\u001b[0m\u001b[0;34m)\u001b[0m\u001b[0;34m\u001b[0m\u001b[0;34m\u001b[0m\u001b[0m\n\u001b[0;32m---> 11\u001b[0;31m \u001b[0mhello\u001b[0m\u001b[0;34m(\u001b[0m\u001b[0;34m)\u001b[0m\u001b[0;34m\u001b[0m\u001b[0;34m\u001b[0m\u001b[0m\n\u001b[0m",
            "\u001b[0;32m<ipython-input-5-81c346dff7de>\u001b[0m in \u001b[0;36mmfunc\u001b[0;34m(*args, **kwargs)\u001b[0m\n\u001b[1;32m      2\u001b[0m     \u001b[0;32mdef\u001b[0m \u001b[0mmfunc\u001b[0m\u001b[0;34m(\u001b[0m\u001b[0;34m*\u001b[0m\u001b[0margs\u001b[0m\u001b[0;34m,\u001b[0m \u001b[0;34m**\u001b[0m\u001b[0mkwargs\u001b[0m\u001b[0;34m)\u001b[0m\u001b[0;34m:\u001b[0m\u001b[0;34m\u001b[0m\u001b[0;34m\u001b[0m\u001b[0m\n\u001b[1;32m      3\u001b[0m         \u001b[0mprint\u001b[0m\u001b[0;34m(\u001b[0m \u001b[0;34m\"Before calling the function\"\u001b[0m \u001b[0;34m)\u001b[0m\u001b[0;34m\u001b[0m\u001b[0;34m\u001b[0m\u001b[0m\n\u001b[0;32m----> 4\u001b[0;31m         \u001b[0mfunc\u001b[0m\u001b[0;34m(\u001b[0m\u001b[0;34m*\u001b[0m\u001b[0margs\u001b[0m\u001b[0;34m,\u001b[0m \u001b[0;34m**\u001b[0m\u001b[0mkwargs\u001b[0m\u001b[0;34m)\u001b[0m\u001b[0;34m\u001b[0m\u001b[0;34m\u001b[0m\u001b[0m\n\u001b[0m\u001b[1;32m      5\u001b[0m     \u001b[0;32mreturn\u001b[0m \u001b[0mmfunc\u001b[0m\u001b[0;34m\u001b[0m\u001b[0;34m\u001b[0m\u001b[0m\n\u001b[1;32m      6\u001b[0m \u001b[0;34m\u001b[0m\u001b[0m\n",
            "\u001b[0;31mTypeError\u001b[0m: hello() missing 1 required positional argument: 'self'"
          ]
        }
      ]
    },
    {
      "cell_type": "markdown",
      "source": [
        "Create an OnlineStore class with a product catalog. Allow customers to add items to their cart and check out."
      ],
      "metadata": {
        "id": "lANGlQAWn19g"
      }
    },
    {
      "cell_type": "code",
      "source": [
        "class OnlineStore:\n",
        "    def __init__(self, store_name):\n",
        "        self.store_name = store_name\n",
        "        self.catalog = {}  # Product catalog: {product_name: price}\n",
        "        self.cart = {}     # Customer's cart: {product_name: quantity}\n",
        "\n",
        "    def add_product_to_catalog(self, product_name, price):\n",
        "\n",
        "        self.catalog[product_name] = price\n",
        "        print(f\"Product '{product_name}' added to the catalog at ${price:.2f}.\")\n",
        "\n",
        "    def show_catalog(self):\n",
        "\n",
        "        if not self.catalog:\n",
        "            print(\"The catalog is empty.\")\n",
        "        else:\n",
        "            print(f\"\\n{self.store_name} Product Catalog:\")\n",
        "            for product, price in self.catalog.items():\n",
        "                print(f\"- {product}: ${price:.2f}\")\n",
        "\n",
        "    def add_to_cart(self, product_name, quantity):\n",
        "        \"\"\"Add a product to the customer's cart.\"\"\"\n",
        "        if product_name not in self.catalog:\n",
        "            print(f\"Sorry, '{product_name}' is not in the catalog.\")\n",
        "            return\n",
        "        if product_name in self.cart:\n",
        "            self.cart[product_name] += quantity\n",
        "        else:\n",
        "            self.cart[product_name] = quantity\n",
        "        print(f\"{quantity} '{product_name}' added to your cart.\")\n",
        "\n",
        "    def view_cart(self):\n",
        "        \"\"\"Display the contents of the customer's cart.\"\"\"\n",
        "        if not self.cart:\n",
        "            print(\"Your cart is empty.\")\n",
        "        else:\n",
        "            print(\"\\nYour Cart:\")\n",
        "            total = 0\n",
        "            for product, quantity in self.cart.items():\n",
        "                price = self.catalog[product] * quantity\n",
        "                total += price\n",
        "                print(f\"- {product} (x{quantity}): ${price:.2f}\")\n",
        "            print(f\"Total: ${total:.2f}\")\n",
        "\n",
        "    def checkout(self):\n",
        "        \"\"\"Calculate the total cost and clear the cart.\"\"\"\n",
        "        if not self.cart:\n",
        "            print(\"Your cart is empty. Add items to your cart before checking out.\")\n",
        "            return\n",
        "        print(\"\\nChecking Out:\")\n",
        "        total = 0\n",
        "        for product, quantity in self.cart.items():\n",
        "            price = self.catalog[product] * quantity\n",
        "            total += price\n",
        "            print(f\"- {product} (x{quantity}): ${price:.2f}\")\n",
        "        print(f\"Grand Total: ${total:.2f}\")\n",
        "        print(\"Thank you for shopping with us!\")\n",
        "        self.cart.clear()\n",
        "\n",
        "\n",
        "# Example Usage\n",
        "store = OnlineStore(\"Tech Gadgets\")\n",
        "\n",
        "# Adding products to the catalog\n",
        "store.add_product_to_catalog(\"Laptop\", 1200.99)\n",
        "store.add_product_to_catalog(\"Headphones\", 199.99)\n",
        "store.add_product_to_catalog(\"Smartphone\", 899.49)\n",
        "\n",
        "# Display catalog\n",
        "store.show_catalog()\n",
        "\n",
        "# Adding items to cart\n",
        "store.add_to_cart(\"Laptop\", 1)\n",
        "store.add_to_cart(\"Headphones\", 2)\n",
        "store.add_to_cart(\"Tablet\", 1)  # Non-existent product\n",
        "\n",
        "# Viewing cart\n",
        "store.view_cart()\n",
        "\n",
        "# Checkout\n",
        "store.checkout()\n",
        "\n",
        "# Viewing cart after checkout\n",
        "store.view_cart()\n"
      ],
      "metadata": {
        "colab": {
          "base_uri": "https://localhost:8080/"
        },
        "id": "svkt_K_En3Pc",
        "outputId": "9044a627-4f17-4569-8de7-4795426937f3"
      },
      "execution_count": null,
      "outputs": [
        {
          "output_type": "stream",
          "name": "stdout",
          "text": [
            "Product 'Laptop' added to the catalog at $1200.99.\n",
            "Product 'Headphones' added to the catalog at $199.99.\n",
            "Product 'Smartphone' added to the catalog at $899.49.\n",
            "\n",
            "Tech Gadgets Product Catalog:\n",
            "- Laptop: $1200.99\n",
            "- Headphones: $199.99\n",
            "- Smartphone: $899.49\n",
            "1 'Laptop' added to your cart.\n",
            "2 'Headphones' added to your cart.\n",
            "Sorry, 'Tablet' is not in the catalog.\n",
            "\n",
            "Your Cart:\n",
            "- Laptop (x1): $1200.99\n",
            "- Headphones (x2): $399.98\n",
            "Total: $1600.97\n",
            "\n",
            "Checking Out:\n",
            "- Laptop (x1): $1200.99\n",
            "- Headphones (x2): $399.98\n",
            "Grand Total: $1600.97\n",
            "Thank you for shopping with us!\n",
            "Your cart is empty.\n"
          ]
        }
      ]
    },
    {
      "cell_type": "code",
      "source": [
        "class Animal:\n",
        "    @classmethod\n",
        "    def sound(cls):\n",
        "        print(f\"{cls.__name__} makes a sound.\")\n",
        "\n",
        "class Dog(Animal):\n",
        "    pass\n",
        "\n",
        "class cat(Animal):\n",
        "    pass\n",
        "\n",
        "Dog.sound()  # Output: Dog makes a sound.\n",
        "cat.sound()"
      ],
      "metadata": {
        "colab": {
          "base_uri": "https://localhost:8080/"
        },
        "id": "xSxiqqO59vEG",
        "outputId": "3dddd65d-51b1-4c68-aea0-00e65117a70d"
      },
      "execution_count": null,
      "outputs": [
        {
          "output_type": "stream",
          "name": "stdout",
          "text": [
            "Dog makes a sound.\n",
            "cat makes a sound.\n"
          ]
        }
      ]
    },
    {
      "cell_type": "code",
      "source": [
        "class Student:\n",
        "    def __init__(self, name , *marks):\n",
        "        self.name = name\n",
        "        self.marks = marks\n",
        "    def avrage(self):\n",
        "        return sum(self.marks)/ len(self.marks)\n",
        "ob = Student ( \"amina iqbal\", 90, 90, 90)\n",
        "ob.avrage()"
      ],
      "metadata": {
        "colab": {
          "base_uri": "https://localhost:8080/"
        },
        "id": "ZTPkvPUIE6fr",
        "outputId": "a039c50e-e110-48c7-8af2-9583e3d243ec"
      },
      "execution_count": null,
      "outputs": [
        {
          "output_type": "execute_result",
          "data": {
            "text/plain": [
              "90.0"
            ]
          },
          "metadata": {},
          "execution_count": 23
        }
      ]
    },
    {
      "cell_type": "code",
      "source": [
        "class Student:\n",
        "    def __init__(self, name , *marks):\n",
        "        self.name = name\n",
        "        self.marks = marks\n",
        "    def avrage(self):\n",
        "        total  = 0\n",
        "        for value in self.marks:\n",
        "            total += value\n",
        "        print(\"avrege marks is\", total /3)\n",
        "\n",
        "ob = Student ( \"amina iqbal\", 90, 90, 90)\n",
        "ob.avrage()"
      ],
      "metadata": {
        "colab": {
          "base_uri": "https://localhost:8080/"
        },
        "id": "DmWvezm-LOJP",
        "outputId": "003085c7-d0e2-42e6-aa27-3dbbb3e7d4b6"
      },
      "execution_count": null,
      "outputs": [
        {
          "output_type": "stream",
          "name": "stdout",
          "text": [
            "avrege marks is 90.0\n"
          ]
        }
      ]
    },
    {
      "cell_type": "markdown",
      "source": [
        "Create a BankAccount class with private attributes _balance and _account_holder.\n",
        "Add public methods to:\n",
        "\n",
        "Deposit money.\n",
        "\n",
        "Withdraw money (ensure the balance doesn’t go below zero).\n",
        "\n",
        "Check the balance (read-only)."
      ],
      "metadata": {
        "id": "QsL_OHCfsuqn"
      }
    },
    {
      "cell_type": "code",
      "source": [
        "class Account:\n",
        "    def __init__(self, balance, acount_no):\n",
        "        self.__balance = balance\n",
        "        self. __acount_no = acount_no\n",
        "    def dabit(self, amount):\n",
        "        if self.__balance > 0 :\n",
        "            self.__balance += amount\n",
        "            print(f\" total amount is {self.__balance} and amount was deposited {amount}  \")\n",
        "        else:\n",
        "            print(\" amount was not sucse fully diposited \")\n",
        "    def withdraw(self, amount):\n",
        "        if self.__balance  > 0 :\n",
        "            self.__balance  -=amount\n",
        "            print(f\" total amount is {self.__balance} and with draw amount {amount}  \")\n",
        "        else:\n",
        "            print(\" amount was sucse fully withdraw \")\n",
        "\n",
        "ob = Account(50000, 2345)\n",
        "ob.dabit(5000)\n",
        "ob.withdraw(10000)"
      ],
      "metadata": {
        "id": "pLTwiwKshtko",
        "colab": {
          "base_uri": "https://localhost:8080/"
        },
        "outputId": "97be1e33-d2ea-4349-c9bc-f7684b84d978"
      },
      "execution_count": null,
      "outputs": [
        {
          "output_type": "stream",
          "name": "stdout",
          "text": [
            " total amount is 55000 and amount was deposited 5000  \n",
            " total amount is 45000 and with draw amount 10000  \n"
          ]
        }
      ]
    },
    {
      "cell_type": "markdown",
      "source": [
        "Create a class Student with:\n",
        "\n",
        "Private attributes _name and _marks.\n",
        "\n",
        "Public methods to:\n",
        "\n",
        "Set the name and marks (with validation: marks should be between 0 and 100).\n",
        "\n",
        "Get the name and marks.\n",
        "\n",
        "Add a method to check if the student has passed (marks >= 40)."
      ],
      "metadata": {
        "id": "zESOLi0c5D1j"
      }
    },
    {
      "cell_type": "markdown",
      "source": [
        "# **static mthode ka mtlb hi sara object ka lia same he rahga bar bar create ni hoga mtlb static rhy ga ak mthode write krty hain or wo he hr object ka lia call hojata hai**"
      ],
      "metadata": {
        "id": "85zQ-GGKW3Qz"
      }
    },
    {
      "cell_type": "code",
      "source": [
        "class Student:\n",
        "    def __init__(self, name, marks)"
      ],
      "metadata": {
        "id": "qsuzS0d85RO6"
      },
      "execution_count": null,
      "outputs": []
    },
    {
      "cell_type": "markdown",
      "source": [
        "Implement a class Circle with methods to calculate the area and circumference."
      ],
      "metadata": {
        "id": "Z6SQJycIbkEH"
      }
    },
    {
      "cell_type": "code",
      "source": [
        "from math import pi  # Importing only pi from the math module\n",
        "\n",
        "class Circle:\n",
        "    def __init__(self, r):\n",
        "        self.radius = r  # Attribute to store the radius\n",
        "\n",
        "    def calculate_area(self):\n",
        "        return pi * (self.radius) ** 2  # Correct formula for area of a circle\n",
        "\n",
        "    def calculate_circumference(self):\n",
        "        return 2 * pi * self.radius  # Correct formula for circumference of a circle\n",
        "\n",
        "# Create an instance of Circle with radius 3\n",
        "ob = Circle(3)\n",
        "\n",
        "print(\"Area of the circle:\", ob.calculate_area())\n",
        "print(\"Circumference of the circle:\", ob.calculate_circumference())\n"
      ],
      "metadata": {
        "id": "v2ae8fxyhmQs"
      },
      "execution_count": null,
      "outputs": []
    },
    {
      "cell_type": "code",
      "source": [
        "from math import pi\n",
        "class Circle:\n",
        "    def __init__(self,r):\n",
        "\n",
        "        self. radius = r\n",
        "    def calculate_area(self):\n",
        "        return 2 * pi * (self. radius)**2\n",
        "    def calculate_circumference(self):\n",
        "        return pi * (self. radius)\n",
        "ob  = Circle( 3)\n",
        "print(ob. calculate_area())\n",
        "print(ob. calculate_circumference())"
      ],
      "metadata": {
        "colab": {
          "base_uri": "https://localhost:8080/"
        },
        "id": "v4D7XjuPbjTr",
        "outputId": "d4a4aef9-b9a1-4cfe-c8dc-54c9e077e9ef"
      },
      "execution_count": null,
      "outputs": [
        {
          "output_type": "stream",
          "name": "stdout",
          "text": [
            "56.548667764616276\n",
            "9.42477796076938\n"
          ]
        }
      ]
    },
    {
      "cell_type": "code",
      "source": [
        "class MyClass:\n",
        "    def __init__(self, name):\n",
        "        self._name = name  # Protected attribute\n",
        "\n",
        "    def _greet(self):  # Protected method\n",
        "        return f\"Hello, {self._name}!\"\n",
        "\n",
        "class SubClass(MyClass):\n",
        "    def display_name(self):\n",
        "        return f\"Name: {self._name}\"\n",
        "\n",
        "obj = SubClass(\"Badar\")\n",
        "print(obj.display_name())  # Accessing protected member in subclass\n",
        "print(obj._greet())  # Accessing protected method directly (not recommended)\n"
      ],
      "metadata": {
        "id": "N3M7PBDb5LN8"
      },
      "execution_count": null,
      "outputs": []
    },
    {
      "cell_type": "markdown",
      "source": [
        "# **Acsecs modifiears**\n",
        "three Acsecs modifiears  this name is\n",
        "\n",
        "1 **private**  \n",
        "\n",
        "\n",
        "\n",
        "\n",
        " 2 **public**\n",
        "\n",
        " 3 **protacted**"
      ],
      "metadata": {
        "id": "tBVSatrw76oU"
      }
    },
    {
      "cell_type": "markdown",
      "source": [
        "1 **private**  "
      ],
      "metadata": {
        "id": "WHKSDphk8qGw"
      }
    },
    {
      "cell_type": "code",
      "source": [
        "\n",
        "class MyClass:\n",
        "    def __init__(self, name):\n",
        "        self.__name = name  # Private attribute\n",
        "\n",
        "    def __greet(self):  # Private method\n",
        "        return f\"Hello, {self.__name}!\"\n",
        "\n",
        "    def access_private(self):\n",
        "        return self.__greet()  # Accessing private method within the class\n",
        "\n",
        "obj = MyClass(\"Badar\")\n",
        "# print(obj.__name)  # This will raise an AttributeError\n",
        "# print(obj.__greet())  # This will raise an AttributeError\n",
        "\n",
        "print(obj.access_private())  # Accessing private method through a public method\n"
      ],
      "metadata": {
        "id": "8uzbyXLr7vtk"
      },
      "execution_count": null,
      "outputs": []
    },
    {
      "cell_type": "markdown",
      "source": [
        "# 3 **protacted**"
      ],
      "metadata": {
        "id": "iIMjBnjs8tsE"
      }
    },
    {
      "cell_type": "code",
      "source": [
        "class Name:\n",
        "    def __init__(self, name):\n",
        "        self._name = name # Protected attribute\n",
        "    def _display(self): # Protected method\n",
        "        print(f\" my name is {self._name}\")\n",
        "ob = Name(name = \"amina iqbal\" )\n",
        "print(ob._name)  # Accessing protected member in subclass\n",
        "ob._display()# Accessing protected method directly (not recommended)"
      ],
      "metadata": {
        "colab": {
          "base_uri": "https://localhost:8080/"
        },
        "id": "73Yge__b0hvF",
        "outputId": "243369f5-604e-40a7-e63f-4b18aa86e424"
      },
      "execution_count": null,
      "outputs": [
        {
          "output_type": "stream",
          "name": "stdout",
          "text": [
            "amina iqbal\n",
            " my name is amina iqbal\n"
          ]
        }
      ]
    },
    {
      "cell_type": "markdown",
      "source": [
        "Implement a Course class where students can enroll. Include methods to display enrolled students."
      ],
      "metadata": {
        "id": "VBkhAcy9eTK8"
      }
    },
    {
      "cell_type": "code",
      "source": [
        "class Course:\n",
        "    def __init__(self, name, education, age, course):\n",
        "        self.name = name\n",
        "        self.education = education\n",
        "        self.age = age\n",
        "        self.course = course\n",
        "\n",
        "    def display(self):\n",
        "        results = f\"student name is: {self.name}, \\nstudent education is : {self.education}. \\nstudent age is :{self.age}, \\nstudent joinning course is : {self.course}\"\n",
        "        print(results)\n",
        "\n",
        "        print(\"You are successfully enrolled.\")\n",
        "\n",
        "# Testing the class\n",
        "ob = Course(\"amina iqbal\", 12, 26, \"ml engineer \")\n",
        "ob.display()\n"
      ],
      "metadata": {
        "colab": {
          "base_uri": "https://localhost:8080/"
        },
        "id": "IMB0J3731HEd",
        "outputId": "9b024b46-2456-4f5b-dd1b-f10fe0d22cdd"
      },
      "execution_count": null,
      "outputs": [
        {
          "output_type": "stream",
          "name": "stdout",
          "text": [
            "student name is: amina iqbal, \n",
            "student education is : 12. \n",
            "student age is :26, \n",
            "student joinning course is : ml engineer \n",
            "You are successfully enrolled.\n"
          ]
        }
      ]
    },
    {
      "cell_type": "code",
      "source": [
        "\n",
        "class Course:\n",
        "    def __init__(self, name = None, education= None, age= None, course = None):\n",
        "        self.name = name\n",
        "        self.education = education\n",
        "        self.age = age\n",
        "        self.course = course\n",
        "\n",
        "        results = []\n",
        "\n",
        "        if self.education not results:\n",
        "            print( results.append(self.education ))\n",
        "        elif self.education not in results:\n",
        "            print(\" please put your correct education  \" )\n",
        "        elif  str(self.education) not in results:\n",
        "            print(\" please put your correct age \")\n",
        "        elif str(self.education) not in results:\n",
        "           print(\" please put your correct course \")\n",
        "        else:\n",
        "            print(\" you are sacsefully enroled \")\n",
        "        print(results)\n",
        "ob =  Course(\"amina iqbal\", 12, 26, \"ml engineer \")\n",
        "ob.display()"
      ],
      "metadata": {
        "colab": {
          "base_uri": "https://localhost:8080/",
          "height": 314
        },
        "id": "L7jFsiOkeVCQ",
        "outputId": "bd9ae07c-19a1-4e1d-f194-d8a9d7d312c7"
      },
      "execution_count": null,
      "outputs": [
        {
          "output_type": "error",
          "ename": "TypeError",
          "evalue": "'in <string>' requires string as left operand, not int",
          "traceback": [
            "\u001b[0;31m---------------------------------------------------------------------------\u001b[0m",
            "\u001b[0;31mTypeError\u001b[0m                                 Traceback (most recent call last)",
            "\u001b[0;32m<ipython-input-13-beef2cd8714f>\u001b[0m in \u001b[0;36m<cell line: 23>\u001b[0;34m()\u001b[0m\n\u001b[1;32m     21\u001b[0m         \u001b[0mprint\u001b[0m\u001b[0;34m(\u001b[0m\u001b[0mresults\u001b[0m\u001b[0;34m)\u001b[0m\u001b[0;34m\u001b[0m\u001b[0;34m\u001b[0m\u001b[0m\n\u001b[1;32m     22\u001b[0m \u001b[0mob\u001b[0m \u001b[0;34m=\u001b[0m  \u001b[0mCourse\u001b[0m\u001b[0;34m(\u001b[0m\u001b[0;34m\"amina iqbal\"\u001b[0m\u001b[0;34m,\u001b[0m \u001b[0;36m12\u001b[0m\u001b[0;34m,\u001b[0m \u001b[0;36m26\u001b[0m\u001b[0;34m,\u001b[0m \u001b[0;34m\"ml engineer \"\u001b[0m\u001b[0;34m)\u001b[0m\u001b[0;34m\u001b[0m\u001b[0;34m\u001b[0m\u001b[0m\n\u001b[0;32m---> 23\u001b[0;31m \u001b[0mob\u001b[0m\u001b[0;34m.\u001b[0m\u001b[0mdisplay\u001b[0m\u001b[0;34m(\u001b[0m\u001b[0;34m)\u001b[0m\u001b[0;34m\u001b[0m\u001b[0;34m\u001b[0m\u001b[0m\n\u001b[0m",
            "\u001b[0;32m<ipython-input-13-beef2cd8714f>\u001b[0m in \u001b[0;36mdisplay\u001b[0;34m(self)\u001b[0m\n\u001b[1;32m      9\u001b[0m         \u001b[0mresults\u001b[0m \u001b[0;34m=\u001b[0m \u001b[0;34mf\"{self.name} {self.education} {self.age} {self.course}\"\u001b[0m\u001b[0;34m\u001b[0m\u001b[0;34m\u001b[0m\u001b[0m\n\u001b[1;32m     10\u001b[0m \u001b[0;34m\u001b[0m\u001b[0m\n\u001b[0;32m---> 11\u001b[0;31m         \u001b[0;32mif\u001b[0m  \u001b[0mself\u001b[0m\u001b[0;34m.\u001b[0m\u001b[0meducation\u001b[0m \u001b[0;32mnot\u001b[0m \u001b[0;32min\u001b[0m \u001b[0mresults\u001b[0m\u001b[0;34m:\u001b[0m\u001b[0;34m\u001b[0m\u001b[0;34m\u001b[0m\u001b[0m\n\u001b[0m\u001b[1;32m     12\u001b[0m             \u001b[0mprint\u001b[0m\u001b[0;34m(\u001b[0m\u001b[0;34m\" please put your correct name \"\u001b[0m\u001b[0;34m)\u001b[0m\u001b[0;34m\u001b[0m\u001b[0;34m\u001b[0m\u001b[0m\n\u001b[1;32m     13\u001b[0m         \u001b[0;32melif\u001b[0m  \u001b[0mself\u001b[0m\u001b[0;34m.\u001b[0m\u001b[0meducation\u001b[0m \u001b[0;32mnot\u001b[0m \u001b[0;32min\u001b[0m \u001b[0mresults\u001b[0m\u001b[0;34m:\u001b[0m\u001b[0;34m\u001b[0m\u001b[0;34m\u001b[0m\u001b[0m\n",
            "\u001b[0;31mTypeError\u001b[0m: 'in <string>' requires string as left operand, not int"
          ]
        }
      ]
    },
    {
      "cell_type": "code",
      "source": [
        "def func(val, lst=[]):\n",
        "    lst.append(val)\n",
        "    return lst\n",
        "\n",
        "x = func(1)\n",
        "y = func(2, [])\n",
        "z = func(3)\n",
        "print(x, y, z)\n"
      ],
      "metadata": {
        "colab": {
          "base_uri": "https://localhost:8080/"
        },
        "id": "osf9RCPO3fWS",
        "outputId": "7a272107-7da0-4d15-900a-768cb20b2059"
      },
      "execution_count": null,
      "outputs": [
        {
          "output_type": "stream",
          "name": "stdout",
          "text": [
            "[1, 3] [2] [1, 3]\n"
          ]
        }
      ]
    },
    {
      "cell_type": "code",
      "source": [
        "x = [1, 2, 3]\n",
        "y = x\n",
        "y[0] = 0\n",
        "print(x)\n"
      ],
      "metadata": {
        "id": "UJj5Awjj4GaI",
        "outputId": "c0855204-6f78-4264-8e17-7cf3c35612d6",
        "colab": {
          "base_uri": "https://localhost:8080/"
        }
      },
      "execution_count": null,
      "outputs": [
        {
          "output_type": "stream",
          "name": "stdout",
          "text": [
            "[0, 2, 3]\n"
          ]
        }
      ]
    },
    {
      "cell_type": "code",
      "source": [
        "x = [1, 2, 3]\n",
        "x[1] = 5\n"
      ],
      "metadata": {
        "id": "XPqe0xtIKg43"
      },
      "execution_count": null,
      "outputs": []
    },
    {
      "cell_type": "code",
      "source": [
        "x = {i: i*i for i in range(3)}\n",
        "print(x)\n",
        "0 1; 1 2; 4"
      ],
      "metadata": {
        "id": "BTjzPm8VMBUS"
      },
      "execution_count": null,
      "outputs": []
    },
    {
      "cell_type": "code",
      "source": [
        "list1 = [1, 2, 3]\n",
        "list2 = ['a', 'b', 'c']\n",
        "\n",
        "# Combine lists using zip\n",
        "zipped = zip(list1, list2)\n",
        "\n",
        "# Convert the zip object to a list\n",
        "result = list(zipped)\n",
        "print(result)\n"
      ],
      "metadata": {
        "colab": {
          "base_uri": "https://localhost:8080/"
        },
        "id": "KaEhZZkfszPg",
        "outputId": "7d97e12a-c7e5-4514-dd8c-0f1e46053d51"
      },
      "execution_count": null,
      "outputs": [
        {
          "output_type": "stream",
          "name": "stdout",
          "text": [
            "[(1, 'a'), (2, 'b'), (3, 'c')]\n"
          ]
        }
      ]
    },
    {
      "cell_type": "code",
      "source": [
        "names = [\"amina\", \"mona\", \"tehmina\", \"jaara\"]\n",
        "ages = [26, 24, 20, 16]\n",
        "zipped = zip(names ,ages )\n",
        "print(list(zipped))"
      ],
      "metadata": {
        "colab": {
          "base_uri": "https://localhost:8080/"
        },
        "id": "o43vxqZbtEnE",
        "outputId": "931f76e7-105d-4748-cbfb-bacffe4558f6"
      },
      "execution_count": null,
      "outputs": [
        {
          "output_type": "stream",
          "name": "stdout",
          "text": [
            "[('amina', 26), ('mona', 24), ('tehmina', 20), ('jaara', 16)]\n"
          ]
        }
      ]
    },
    {
      "cell_type": "markdown",
      "source": [],
      "metadata": {
        "id": "p0YdEVIksyzI"
      }
    },
    {
      "cell_type": "code",
      "source": [
        "def func(x, lst=[]):\n",
        "    lst.append(x)\n",
        "    return lst\n",
        "\n",
        "print(func(1))  # Call 1\n",
        "print(func(2))  # Call 2\n",
        "print(func(3))  # Call 3\n"
      ],
      "metadata": {
        "colab": {
          "base_uri": "https://localhost:8080/"
        },
        "id": "0OMk-Nx92x4L",
        "outputId": "3e897e17-5844-4ebd-cb4a-c70570dc2bc9"
      },
      "execution_count": null,
      "outputs": [
        {
          "output_type": "stream",
          "name": "stdout",
          "text": [
            "[1]\n",
            "[1, 2]\n",
            "[1, 2, 3]\n"
          ]
        }
      ]
    },
    {
      "cell_type": "code",
      "source": [
        "def fun(x, s=[]):\n",
        "    s.append(x)\n",
        "    return s\n",
        "\n",
        "fun(1)"
      ],
      "metadata": {
        "colab": {
          "base_uri": "https://localhost:8080/"
        },
        "id": "cAYgVnSt3Jiu",
        "outputId": "65ea3962-d541-480d-9703-f0a05bf45ddf"
      },
      "execution_count": null,
      "outputs": [
        {
          "output_type": "execute_result",
          "data": {
            "text/plain": [
              "[1]"
            ]
          },
          "metadata": {},
          "execution_count": 7
        }
      ]
    },
    {
      "cell_type": "code",
      "source": [
        "class Book:\n",
        "    def __init__(self, title, author, copies):\n",
        "        self.title = title\n",
        "        self.author = author\n",
        "        self.copies = copies\n",
        "\n",
        "    def borrow_book(self):\n",
        "        \"\"\"Reduces copies by 1 if available.\"\"\"\n",
        "        if self.copies > 0:\n",
        "            self.copies -= 1\n",
        "            print(f\"You have borrowed '{self.title}'.\")\n",
        "        else:\n",
        "            print(f\"Sorry, '{self.title}' is not available right now.\")\n",
        "\n",
        "    def return_book(self):\n",
        "        \"\"\"Increases copies by 1.\"\"\"\n",
        "        self.copies += 1\n",
        "        print(f\"Thank you for returning '{self.title}'.\")\n",
        "\n",
        "    def display_info(self):\n",
        "        \"\"\"Displays the book's details.\"\"\"\n",
        "        print(f\"Title: {self.title}, Author: {self.author}, Copies available: {self.copies}\")"
      ],
      "metadata": {
        "id": "_I0QiyEPBHC8"
      },
      "execution_count": null,
      "outputs": []
    },
    {
      "cell_type": "code",
      "source": [
        "class Library:\n",
        "    def __init__(self):\n",
        "        self.books = []\n",
        "\n",
        "    def add_book(self, book):\n",
        "        \"\"\"Adds a Book object to the library.\"\"\"\n",
        "        self.books.append(book)\n",
        "        print(f\"'{book.title}' has been added to the library.\")\n",
        "\n",
        "    def find_book(self, title):\n",
        "        \"\"\"Searches for a book by title.\"\"\"\n",
        "        for book in self.books:\n",
        "            if book.title.lower() == title.lower():\n",
        "                return book\n",
        "        return None\n",
        "\n",
        "    def borrow_book(self, title):\n",
        "        \"\"\"Borrows a book by title if available.\"\"\"\n",
        "        book = self.find_book(title)\n",
        "        if book:\n",
        "            book.borrow_book()\n",
        "        else:\n",
        "            print(f\"Sorry, the book '{title}' is not available in the library.\")\n",
        "\n",
        "    def return_book(self, title):\n",
        "        \"\"\"Returns a borrowed book by title.\"\"\"\n",
        "        book = self.find_book(title)\n",
        "        if book:\n",
        "            book.return_book()\n",
        "        else:\n",
        "            print(f\"The book '{title}' does not belong to this library.\")\n",
        "\n",
        "    def display_books(self):\n",
        "        \"\"\"Displays all the books in the library.\"\"\"\n",
        "        if self.books:\n",
        "            print(\"Books in the library:\")\n",
        "            for book in self.books:\n",
        "                book.display_info()\n",
        "        else:\n",
        "            print(\"The library is currently empty.\")\n",
        "\n",
        "\n",
        "    book1 = Book(\"Python Programming\", \"John Doe\", 5)\n",
        "    book2 = Book(\"Machine Learning Basics\", \"Jane Smith\", 3)\n",
        "\n",
        "\n",
        "    library = Library()\n",
        "\n",
        "    library.add_book(book1)\n",
        "    library.add_book(book2)\n",
        "    library.display_books()\n",
        "    library.borrow_book(\"Python Programming\")\n",
        "\n",
        "    # Returning a book\n",
        "    library.return_book(\"Python Programming\")\n",
        "\n",
        "    # Trying to borrow a non-existent book\n",
        "    library.borrow_book(\"Nonexistent Book\")\n",
        "\n",
        "    # Displaying updated book info\n",
        "    library.display_books()\n"
      ],
      "metadata": {
        "id": "VM1RE3gWAvvX"
      },
      "execution_count": null,
      "outputs": []
    },
    {
      "cell_type": "code",
      "source": [
        "li=[1,3,4,7,8]\n",
        "li2 =[3,4,5,6,8]\n",
        "for i in li:\n",
        "    print(i)\n",
        "    for j in li2:\n",
        "        print(i, j)"
      ],
      "metadata": {
        "colab": {
          "base_uri": "https://localhost:8080/"
        },
        "id": "7pFb0_7MmUGI",
        "outputId": "68acd501-3f27-4486-c17b-8fd0e4c44894"
      },
      "execution_count": null,
      "outputs": [
        {
          "output_type": "stream",
          "name": "stdout",
          "text": [
            "1\n",
            "1 3\n",
            "1 4\n",
            "1 5\n",
            "1 6\n",
            "1 8\n",
            "3\n",
            "3 3\n",
            "3 4\n",
            "3 5\n",
            "3 6\n",
            "3 8\n",
            "4\n",
            "4 3\n",
            "4 4\n",
            "4 5\n",
            "4 6\n",
            "4 8\n",
            "7\n",
            "7 3\n",
            "7 4\n",
            "7 5\n",
            "7 6\n",
            "7 8\n",
            "8\n",
            "8 3\n",
            "8 4\n",
            "8 5\n",
            "8 6\n",
            "8 8\n"
          ]
        }
      ]
    },
    {
      "cell_type": "markdown",
      "source": [
        "Practice Problems:\n",
        "Create a Person class with attributes name and age. Write a method to display details.\n",
        "\n",
        "Implement a class Shape with a method to calculate the area. Inherit it to create classes for Circle and Rectangle.\n",
        "\n",
        "Write a program to create a BankAccount class with deposit and withdrawal functionality.\n"
      ],
      "metadata": {
        "id": "_YE9QANJN7kz"
      }
    },
    {
      "cell_type": "code",
      "source": [
        "class Person:\n",
        "    def __init__(self, name , age):\n",
        "        self.name = name\n",
        "        self.age = age\n",
        "    def display(self):\n",
        "        print(f\"my name is {self.name } and my age is {self.age }\")\n",
        "ob = Person(\"amina iqbal\", 26)\n",
        "ob.display()"
      ],
      "metadata": {
        "colab": {
          "base_uri": "https://localhost:8080/"
        },
        "id": "HktpljL4N-_D",
        "outputId": "136ba3c5-cd3d-4340-cb8d-0ec32b07eb45"
      },
      "execution_count": null,
      "outputs": [
        {
          "output_type": "stream",
          "name": "stdout",
          "text": [
            "my name is amina iqbal and my age is 26\n"
          ]
        }
      ]
    },
    {
      "cell_type": "markdown",
      "source": [
        "Implement a class Shape with a method to calculate the area. Inherit it to create classes for Circle and Rectangle."
      ],
      "metadata": {
        "id": "RexCRB41Q8ML"
      }
    },
    {
      "cell_type": "code",
      "source": [
        "def func(x, lst=None):\n",
        "    if lst is None:  # Create a new list if no list is provided\n",
        "        lst = []\n",
        "    lst.append(x)\n",
        "    return lst\n",
        "\n",
        "print(func(1))  # [1]\n",
        "print(func(2))  # [2]\n"
      ],
      "metadata": {
        "colab": {
          "base_uri": "https://localhost:8080/"
        },
        "id": "4TCbTkz5WrzS",
        "outputId": "8f68a83e-6da9-4dee-bba2-cf7c20ea9caa"
      },
      "execution_count": null,
      "outputs": [
        {
          "output_type": "stream",
          "name": "stdout",
          "text": [
            "[1]\n",
            "[2]\n"
          ]
        }
      ]
    },
    {
      "cell_type": "code",
      "source": [
        "class EvenNumbers:\n",
        "    def __init__(self, limit):\n",
        "        self.limit = limit\n",
        "        self.current = 0\n",
        "\n",
        "    def __iter__(self):\n",
        "        return self\n",
        "\n",
        "    def __next__(self):\n",
        "        if self.current < self.limit:\n",
        "            even_number = self.current\n",
        "            self.current += 2\n",
        "            return even_number\n",
        "        else:\n",
        "            raise StopIteration\n",
        "\n",
        "# Using the iterator to print the first 10 even numbers\n",
        "even_iterator = EvenNumbers(5)  # 20 is the limit (10 even numbers)\n",
        "for num in even_iterator:\n",
        "    print(num)\n"
      ],
      "metadata": {
        "colab": {
          "base_uri": "https://localhost:8080/"
        },
        "id": "R72AM1HrXNBt",
        "outputId": "073caa21-70a6-400f-bd93-c7302bfb1bbf"
      },
      "execution_count": null,
      "outputs": [
        {
          "output_type": "stream",
          "name": "stdout",
          "text": [
            "0\n",
            "2\n",
            "4\n"
          ]
        }
      ]
    },
    {
      "cell_type": "markdown",
      "source": [
        "# **Write a decorator**"
      ],
      "metadata": {
        "id": "F8lXkY-SgQlL"
      }
    },
    {
      "cell_type": "code",
      "source": [
        "def intro(func):\n",
        "    def aducation(*args, **kawargs):\n",
        "        print(\"i am amina iqbal from\")\n",
        "        results = func (*args, **kawargs)\n",
        "\n",
        "        print (\" you are help full \")\n",
        "        return results\n",
        "    return aducation\n",
        "@intro\n",
        "def hellow():\n",
        "    print(\"how are you are you ok \")\n",
        "\n",
        "hellow()\n"
      ],
      "metadata": {
        "colab": {
          "base_uri": "https://localhost:8080/"
        },
        "id": "xKf8L6FF9YNm",
        "outputId": "53e727ee-8b47-4e51-e764-1829ba2ca3c0"
      },
      "execution_count": 13,
      "outputs": [
        {
          "output_type": "stream",
          "name": "stdout",
          "text": [
            "i am amina iqbal from\n",
            "how are you are you ok \n",
            " you are help full \n"
          ]
        }
      ]
    },
    {
      "cell_type": "code",
      "source": [
        "def intro(func):  # Decorator accepting a function\n",
        "    def wrapper(*args, **kwargs):\n",
        "        print(\"I am Amina Iqbal from\")  # Additional functionality\n",
        "        result = func(*args, **kwargs)  # Call the original function\n",
        "        print(\"You are helpful\")  # Additional functionality\n",
        "        return result  # Return the result of the original function\n",
        "    return wrapper\n",
        "\n",
        "@intro\n",
        "def hellow(arg):\n",
        "    print(f\"How are you? Are you ok? Argument: {arg}\")\n",
        "\n",
        "# Call the decorated function\n",
        "hellow(4)\n"
      ],
      "metadata": {
        "colab": {
          "base_uri": "https://localhost:8080/"
        },
        "id": "MgoYmymiA_Jq",
        "outputId": "ae12efaf-69ff-4f81-a8e7-4f7626bde672"
      },
      "execution_count": 24,
      "outputs": [
        {
          "output_type": "stream",
          "name": "stdout",
          "text": [
            "I am Amina Iqbal from\n",
            "How are you? Are you ok? Argument: 4\n",
            "You are helpful\n"
          ]
        }
      ]
    },
    {
      "cell_type": "code",
      "source": [
        "def decorator(func):\n",
        "    def age():\n",
        "        func()\n",
        "        print(\"wellcome dear \")\n",
        "\n",
        "        print(\"amina iqbal how are you \")\n",
        "    return age\n",
        "\n",
        "@decorator\n",
        "def say_hello():\n",
        "    print(\"Hello!\")\n",
        "\n",
        "say_hello()\n"
      ],
      "metadata": {
        "colab": {
          "base_uri": "https://localhost:8080/"
        },
        "id": "w48Cq-A67jiT",
        "outputId": "33f824f4-1a5d-433c-c0c0-acf55b33ae88"
      },
      "execution_count": 18,
      "outputs": [
        {
          "output_type": "stream",
          "name": "stdout",
          "text": [
            "Hello!\n",
            "wellcome dear \n",
            "amina iqbal how are you \n"
          ]
        }
      ]
    },
    {
      "cell_type": "code",
      "source": [
        "def intro(func):\n",
        "    def display():\n",
        "        print(\" hi dear wellcome \")\n",
        "        func()\n",
        "        print(\"thanks for coming my home \")\n",
        "    return display\n",
        "\n",
        "@intro\n",
        "def show():\n",
        "    print(\" amina iqbal\")\n",
        "show()"
      ],
      "metadata": {
        "colab": {
          "base_uri": "https://localhost:8080/"
        },
        "id": "LYvfCKeWG-dH",
        "outputId": "73303e75-af06-4ccb-f162-be954940d6e2"
      },
      "execution_count": 22,
      "outputs": [
        {
          "output_type": "stream",
          "name": "stdout",
          "text": [
            " hi dear wellcome \n",
            " amina iqbal\n",
            "thanks for coming my home \n"
          ]
        }
      ]
    },
    {
      "cell_type": "markdown",
      "source": [
        "Write a decorator that logs the arguments and return value of a function."
      ],
      "metadata": {
        "id": "Uf1l0GOWT3ZD"
      }
    },
    {
      "cell_type": "code",
      "source": [
        "def intro(func):  # Decorator accepting a function\n",
        "    def wrapper(*args, **kwargs):\n",
        "        print(\"I am Amina Iqbal from\")  # Additional functionality\n",
        "        result = func(*args, **kwargs)  # Call the original function\n",
        "        print(\"You are helpful\")  # Additional functionality\n",
        "        return result  # Return the result of the original function\n",
        "    return wrapper\n",
        "\n",
        "@intro\n",
        "def hellow(arg):\n",
        "    print(f\"How are you? Are you ok? Argument: {arg}\")\n",
        "\n",
        "# Call the decorated function\n",
        "hellow(4)"
      ],
      "metadata": {
        "id": "HjjZHdsDYRvX"
      },
      "execution_count": null,
      "outputs": []
    },
    {
      "cell_type": "code",
      "source": [
        "def take(func):\n",
        "    def returnn (*args, **kawargs):\n",
        "        results = func(*args, **kawargs)\n",
        "        print(\"hi how are you \")\n",
        "        return (results)\n",
        "\n",
        "    return returnn\n",
        "@take\n",
        "def wellcome():\n",
        "    print(\" wellcome \")"
      ],
      "metadata": {
        "id": "y22D0FLOT5Ag"
      },
      "execution_count": 25,
      "outputs": []
    },
    {
      "cell_type": "code",
      "source": [
        "class Meta(type):\n",
        "    def __new__(cls, name, bases, dct):\n",
        "        print(f\"Creating class {name}\")\n",
        "        return super().__new__(cls, name, bases, dct)\n",
        "\n",
        "class MyClass(metaclass=Meta):\n",
        "    pass\n"
      ],
      "metadata": {
        "colab": {
          "base_uri": "https://localhost:8080/"
        },
        "id": "iWQ_LzqwdTQI",
        "outputId": "c08f724c-4ce6-48f7-afb4-63621ced169a"
      },
      "execution_count": 26,
      "outputs": [
        {
          "output_type": "stream",
          "name": "stdout",
          "text": [
            "Creating class MyClass\n"
          ]
        }
      ]
    }
  ],
  "metadata": {
    "colab": {
      "provenance": []
    },
    "kernelspec": {
      "display_name": "Python 3",
      "name": "python3"
    },
    "language_info": {
      "name": "python"
    }
  },
  "nbformat": 4,
  "nbformat_minor": 0
}